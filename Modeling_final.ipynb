{
 "cells": [
  {
   "cell_type": "code",
   "execution_count": 1,
   "metadata": {},
   "outputs": [],
   "source": [
    "import pandas as pd\n",
    "import numpy as np\n",
    "import matplotlib.pyplot as plt \n",
    "from prophet import Prophet\n",
    "from prophet.diagnostics import cross_validation, performance_metrics\n",
    "from sklearn.metrics import mean_absolute_error\n",
    "import plotly.graph_objs as go\n",
    "from prophet.plot import plot_plotly\n",
    "from sklearn.model_selection import train_test_split\n",
    "# import xgboost\n",
    "import xgboost as xgb\n",
    "from xgboost import XGBRegressor\n",
    "from sklearn.metrics import mean_squared_error, r2_score, make_scorer\n",
    "from sklearn.model_selection import GridSearchCV\n",
    "from sklearn.ensemble import RandomForestRegressor\n",
    "from nixtlats import TimeGPT\n",
    "import logging\n",
    "from tabulate import tabulate\n",
    "from statsmodels.tsa.arima.model import ARIMA\n"
   ]
  },
  {
   "cell_type": "code",
   "execution_count": 2,
   "metadata": {},
   "outputs": [],
   "source": [
    "# !python -m pip install --upgrade pip setuptools\n"
   ]
  },
  {
   "cell_type": "code",
   "execution_count": 3,
   "metadata": {},
   "outputs": [],
   "source": [
    "import os\n",
    "\n",
    "def read_csv_files(folder_path):\n",
    "    # Create an empty dictionary to store the DataFrames\n",
    "    dfs = {}\n",
    "\n",
    "    # Iterate over the files in the folder\n",
    "    for filename in os.listdir(folder_path):\n",
    "        # Check if the file is a CSV file\n",
    "        if filename.endswith(\".csv\"):\n",
    "            # Extract the product ID from the filename\n",
    "            product_id = filename.split(\"_\")[1].split(\".\")[0]\n",
    "            product_id = int(product_id)\n",
    "\n",
    "            # Read the DataFrame from the CSV file\n",
    "            df = pd.read_csv(os.path.join(folder_path, filename), index_col='Date')\n",
    "\n",
    "            # Store the DataFrame in the dictionary\n",
    "            dfs[product_id] = df\n",
    "\n",
    "    # Sort the dictionary by product ID\n",
    "    dfs = {key: dfs[key] for key in sorted(dfs.keys())}\n",
    "\n",
    "    return dfs\n"
   ]
  },
  {
   "cell_type": "markdown",
   "metadata": {},
   "source": [
    "## Products Original"
   ]
  },
  {
   "cell_type": "code",
   "execution_count": 4,
   "metadata": {},
   "outputs": [],
   "source": [
    "dfs_original_train = read_csv_files('products_original_train')\n",
    "\n",
    "# Read CSV files from \"products_original_test\" folder\n",
    "dfs_original_test = read_csv_files('products_original_test')"
   ]
  },
  {
   "cell_type": "code",
   "execution_count": 5,
   "metadata": {},
   "outputs": [
    {
     "data": {
      "text/plain": [
       "dict_keys([1, 3, 4, 5, 6, 8, 9, 11, 12, 13, 14, 16, 20, 36])"
      ]
     },
     "execution_count": 5,
     "metadata": {},
     "output_type": "execute_result"
    }
   ],
   "source": [
    "dfs_original_train.keys()"
   ]
  },
  {
   "cell_type": "code",
   "execution_count": 6,
   "metadata": {},
   "outputs": [
    {
     "data": {
      "text/html": [
       "<div>\n",
       "<style scoped>\n",
       "    .dataframe tbody tr th:only-of-type {\n",
       "        vertical-align: middle;\n",
       "    }\n",
       "\n",
       "    .dataframe tbody tr th {\n",
       "        vertical-align: top;\n",
       "    }\n",
       "\n",
       "    .dataframe thead th {\n",
       "        text-align: right;\n",
       "    }\n",
       "</style>\n",
       "<table border=\"1\" class=\"dataframe\">\n",
       "  <thead>\n",
       "    <tr style=\"text-align: right;\">\n",
       "      <th></th>\n",
       "      <th>PRO27826_org</th>\n",
       "      <th>RohiENERGY1000_org</th>\n",
       "      <th>PRO27840_org</th>\n",
       "      <th>MAB_ELE_PRO826</th>\n",
       "      <th>RohiNATGAS1000_org</th>\n",
       "      <th>Sales_CPI_€</th>\n",
       "    </tr>\n",
       "    <tr>\n",
       "      <th>Date</th>\n",
       "      <th></th>\n",
       "      <th></th>\n",
       "      <th></th>\n",
       "      <th></th>\n",
       "      <th></th>\n",
       "      <th></th>\n",
       "    </tr>\n",
       "  </thead>\n",
       "  <tbody>\n",
       "    <tr>\n",
       "      <th>2018-10-01</th>\n",
       "      <td>118.670791</td>\n",
       "      <td>100.222169</td>\n",
       "      <td>112.853256</td>\n",
       "      <td>113.659322</td>\n",
       "      <td>89.570796</td>\n",
       "      <td>394180.84379</td>\n",
       "    </tr>\n",
       "    <tr>\n",
       "      <th>2018-11-01</th>\n",
       "      <td>120.467019</td>\n",
       "      <td>84.436807</td>\n",
       "      <td>113.145294</td>\n",
       "      <td>115.088417</td>\n",
       "      <td>97.362468</td>\n",
       "      <td>365752.58370</td>\n",
       "    </tr>\n",
       "    <tr>\n",
       "      <th>2018-12-01</th>\n",
       "      <td>105.378705</td>\n",
       "      <td>74.898746</td>\n",
       "      <td>111.823624</td>\n",
       "      <td>101.556108</td>\n",
       "      <td>94.406578</td>\n",
       "      <td>423649.44560</td>\n",
       "    </tr>\n",
       "    <tr>\n",
       "      <th>2019-01-01</th>\n",
       "      <td>107.174933</td>\n",
       "      <td>76.204771</td>\n",
       "      <td>109.499725</td>\n",
       "      <td>101.799754</td>\n",
       "      <td>80.055366</td>\n",
       "      <td>473037.88076</td>\n",
       "    </tr>\n",
       "    <tr>\n",
       "      <th>2019-02-01</th>\n",
       "      <td>110.647640</td>\n",
       "      <td>80.086039</td>\n",
       "      <td>110.835655</td>\n",
       "      <td>103.495768</td>\n",
       "      <td>69.545042</td>\n",
       "      <td>608251.19580</td>\n",
       "    </tr>\n",
       "  </tbody>\n",
       "</table>\n",
       "</div>"
      ],
      "text/plain": [
       "            PRO27826_org  RohiENERGY1000_org  PRO27840_org  MAB_ELE_PRO826  \\\n",
       "Date                                                                         \n",
       "2018-10-01    118.670791          100.222169    112.853256      113.659322   \n",
       "2018-11-01    120.467019           84.436807    113.145294      115.088417   \n",
       "2018-12-01    105.378705           74.898746    111.823624      101.556108   \n",
       "2019-01-01    107.174933           76.204771    109.499725      101.799754   \n",
       "2019-02-01    110.647640           80.086039    110.835655      103.495768   \n",
       "\n",
       "            RohiNATGAS1000_org   Sales_CPI_€  \n",
       "Date                                          \n",
       "2018-10-01           89.570796  394180.84379  \n",
       "2018-11-01           97.362468  365752.58370  \n",
       "2018-12-01           94.406578  423649.44560  \n",
       "2019-01-01           80.055366  473037.88076  \n",
       "2019-02-01           69.545042  608251.19580  "
      ]
     },
     "execution_count": 6,
     "metadata": {},
     "output_type": "execute_result"
    }
   ],
   "source": [
    "dfs_original_train[4].head()"
   ]
  },
  {
   "cell_type": "code",
   "execution_count": 7,
   "metadata": {},
   "outputs": [
    {
     "data": {
      "text/plain": [
       "dict_keys([1, 3, 4, 5, 6, 8, 9, 11, 12, 13, 14, 16, 20, 36])"
      ]
     },
     "execution_count": 7,
     "metadata": {},
     "output_type": "execute_result"
    }
   ],
   "source": [
    "dfs_original_test.keys()"
   ]
  },
  {
   "cell_type": "markdown",
   "metadata": {},
   "source": [
    "## Products Lag"
   ]
  },
  {
   "cell_type": "code",
   "execution_count": 8,
   "metadata": {},
   "outputs": [],
   "source": [
    "dfs_lag_train = read_csv_files('products_lag_train')\n",
    "\n",
    "# Read CSV files from \"products_original_test\" folder\n",
    "dfs_lag_test = read_csv_files('products_lag_test')"
   ]
  },
  {
   "cell_type": "markdown",
   "metadata": {},
   "source": [
    "## Product Outlier"
   ]
  },
  {
   "cell_type": "code",
   "execution_count": 9,
   "metadata": {},
   "outputs": [],
   "source": [
    "dfs_outlier_train = read_csv_files('products_outliers_train')\n",
    "\n",
    "# Read CSV files from \"products_original_test\" folder\n",
    "dfs_outlier_test = read_csv_files('products_outliers_test')"
   ]
  },
  {
   "cell_type": "markdown",
   "metadata": {},
   "source": [
    "## Test Set"
   ]
  },
  {
   "cell_type": "code",
   "execution_count": 10,
   "metadata": {},
   "outputs": [],
   "source": [
    "test = pd.read_csv('Case2_Test Set Template.csv', sep =';')"
   ]
  },
  {
   "cell_type": "code",
   "execution_count": 11,
   "metadata": {},
   "outputs": [
    {
     "data": {
      "text/html": [
       "<div>\n",
       "<style scoped>\n",
       "    .dataframe tbody tr th:only-of-type {\n",
       "        vertical-align: middle;\n",
       "    }\n",
       "\n",
       "    .dataframe tbody tr th {\n",
       "        vertical-align: top;\n",
       "    }\n",
       "\n",
       "    .dataframe thead th {\n",
       "        text-align: right;\n",
       "    }\n",
       "</style>\n",
       "<table border=\"1\" class=\"dataframe\">\n",
       "  <thead>\n",
       "    <tr style=\"text-align: right;\">\n",
       "      <th></th>\n",
       "      <th>Month Year</th>\n",
       "      <th>Mapped_GCK</th>\n",
       "      <th>Sales_EUR</th>\n",
       "    </tr>\n",
       "  </thead>\n",
       "  <tbody>\n",
       "    <tr>\n",
       "      <th>0</th>\n",
       "      <td>Mai 22</td>\n",
       "      <td>#3</td>\n",
       "      <td>NaN</td>\n",
       "    </tr>\n",
       "    <tr>\n",
       "      <th>1</th>\n",
       "      <td>Jun 22</td>\n",
       "      <td>#3</td>\n",
       "      <td>NaN</td>\n",
       "    </tr>\n",
       "    <tr>\n",
       "      <th>2</th>\n",
       "      <td>Jul 22</td>\n",
       "      <td>#3</td>\n",
       "      <td>NaN</td>\n",
       "    </tr>\n",
       "    <tr>\n",
       "      <th>3</th>\n",
       "      <td>Aug 22</td>\n",
       "      <td>#3</td>\n",
       "      <td>NaN</td>\n",
       "    </tr>\n",
       "    <tr>\n",
       "      <th>4</th>\n",
       "      <td>Sep 22</td>\n",
       "      <td>#3</td>\n",
       "      <td>NaN</td>\n",
       "    </tr>\n",
       "  </tbody>\n",
       "</table>\n",
       "</div>"
      ],
      "text/plain": [
       "  Month Year Mapped_GCK  Sales_EUR\n",
       "0     Mai 22         #3        NaN\n",
       "1     Jun 22         #3        NaN\n",
       "2     Jul 22         #3        NaN\n",
       "3     Aug 22         #3        NaN\n",
       "4     Sep 22         #3        NaN"
      ]
     },
     "execution_count": 11,
     "metadata": {},
     "output_type": "execute_result"
    }
   ],
   "source": [
    "test.head()"
   ]
  },
  {
   "cell_type": "code",
   "execution_count": 12,
   "metadata": {},
   "outputs": [],
   "source": [
    "month_map = {\n",
    "    'Mai': 'May', 'Okt': 'Oct', 'Dez': 'Dec'\n",
    "}\n",
    "\n",
    "# Aplicar o mapeamento para converter os nomes dos meses de PT para EN\n",
    "test['Month Year'] = test['Month Year'].replace(month_map, regex=True)\n",
    "\n",
    "# Converter 'Month Year' para o tipo datetime e formatar para 'YYYY-MM-DD'\n",
    "test['Month Year'] = pd.to_datetime(test['Month Year'] + ' 1', format='%b %y %d')"
   ]
  },
  {
   "cell_type": "code",
   "execution_count": 13,
   "metadata": {},
   "outputs": [],
   "source": [
    "test['Mapped_GCK'] = test['Mapped_GCK'].str.replace('#', '')"
   ]
  },
  {
   "cell_type": "code",
   "execution_count": 14,
   "metadata": {},
   "outputs": [
    {
     "name": "stdout",
     "output_type": "stream",
     "text": [
      "0\n",
      "<DatetimeArray>\n",
      "['2022-05-01 00:00:00', '2022-06-01 00:00:00', '2022-07-01 00:00:00',\n",
      " '2022-08-01 00:00:00', '2022-09-01 00:00:00', '2022-10-01 00:00:00',\n",
      " '2022-11-01 00:00:00', '2022-12-01 00:00:00', '2023-01-01 00:00:00',\n",
      " '2023-02-01 00:00:00']\n",
      "Length: 10, dtype: datetime64[ns]\n"
     ]
    }
   ],
   "source": [
    "print(test['Month Year'].isna().sum())\n",
    "print(test['Month Year'].unique())"
   ]
  },
  {
   "cell_type": "code",
   "execution_count": 15,
   "metadata": {},
   "outputs": [
    {
     "data": {
      "text/html": [
       "<div>\n",
       "<style scoped>\n",
       "    .dataframe tbody tr th:only-of-type {\n",
       "        vertical-align: middle;\n",
       "    }\n",
       "\n",
       "    .dataframe tbody tr th {\n",
       "        vertical-align: top;\n",
       "    }\n",
       "\n",
       "    .dataframe thead th {\n",
       "        text-align: right;\n",
       "    }\n",
       "</style>\n",
       "<table border=\"1\" class=\"dataframe\">\n",
       "  <thead>\n",
       "    <tr style=\"text-align: right;\">\n",
       "      <th></th>\n",
       "      <th>Month Year</th>\n",
       "      <th>Mapped_GCK</th>\n",
       "      <th>Sales_EUR</th>\n",
       "    </tr>\n",
       "  </thead>\n",
       "  <tbody>\n",
       "    <tr>\n",
       "      <th>0</th>\n",
       "      <td>2022-05-01</td>\n",
       "      <td>3</td>\n",
       "      <td>NaN</td>\n",
       "    </tr>\n",
       "    <tr>\n",
       "      <th>1</th>\n",
       "      <td>2022-06-01</td>\n",
       "      <td>3</td>\n",
       "      <td>NaN</td>\n",
       "    </tr>\n",
       "    <tr>\n",
       "      <th>2</th>\n",
       "      <td>2022-07-01</td>\n",
       "      <td>3</td>\n",
       "      <td>NaN</td>\n",
       "    </tr>\n",
       "    <tr>\n",
       "      <th>3</th>\n",
       "      <td>2022-08-01</td>\n",
       "      <td>3</td>\n",
       "      <td>NaN</td>\n",
       "    </tr>\n",
       "    <tr>\n",
       "      <th>4</th>\n",
       "      <td>2022-09-01</td>\n",
       "      <td>3</td>\n",
       "      <td>NaN</td>\n",
       "    </tr>\n",
       "  </tbody>\n",
       "</table>\n",
       "</div>"
      ],
      "text/plain": [
       "  Month Year Mapped_GCK  Sales_EUR\n",
       "0 2022-05-01          3        NaN\n",
       "1 2022-06-01          3        NaN\n",
       "2 2022-07-01          3        NaN\n",
       "3 2022-08-01          3        NaN\n",
       "4 2022-09-01          3        NaN"
      ]
     },
     "execution_count": 15,
     "metadata": {},
     "output_type": "execute_result"
    }
   ],
   "source": [
    "test.head()"
   ]
  },
  {
   "cell_type": "code",
   "execution_count": 16,
   "metadata": {},
   "outputs": [],
   "source": [
    "def date_index_to_datetime(df):\n",
    "    df.index = pd.to_datetime(df.index, format='%Y-%m-%d')\n",
    "\n",
    "# Iterate over each DataFrame in the dictionary and convert the index to datetime\n",
    "for dfs_dict in [dfs_original_train, dfs_original_test, dfs_lag_train, dfs_lag_test, dfs_outlier_train, dfs_outlier_test]:\n",
    "    for df in dfs_dict.values():\n",
    "        date_index_to_datetime(df)\n"
   ]
  },
  {
   "cell_type": "markdown",
   "metadata": {},
   "source": [
    "## Modelling"
   ]
  },
  {
   "cell_type": "code",
   "execution_count": 17,
   "metadata": {},
   "outputs": [],
   "source": [
    "def evaluate_model_with_error_table(model, X_train, y_train, X_test, y_test):\n",
    "    # Predictions\n",
    "    train_predictions = model.predict(X_train)\n",
    "    val_predictions = model.predict(X_test)\n",
    "    \n",
    "    # Calculate RMSE\n",
    "    train_rmse = mean_squared_error(y_train, train_predictions, squared=False)  # RMSE for training set\n",
    "    val_rmse = mean_squared_error(y_test, val_predictions, squared=False)  # RMSE for testing set\n",
    "    \n",
    "    # Print the RMSE for both train and test sets\n",
    "    print(f\"Train RMSE: {train_rmse:.3f}\")\n",
    "    print(f\"Test RMSE: {val_rmse:.3f}\")\n",
    "    \n",
    "    # Return the RMSE for both train and test sets\n",
    "    return train_rmse, val_rmse"
   ]
  },
  {
   "cell_type": "code",
   "execution_count": 18,
   "metadata": {},
   "outputs": [],
   "source": [
    "# Define RMSE scorer for evaluation\n",
    "def rmse(y_true, y_pred):\n",
    "    return mean_squared_error(y_true,y_pred, squared=False)"
   ]
  },
  {
   "cell_type": "code",
   "execution_count": 19,
   "metadata": {},
   "outputs": [],
   "source": [
    "def plot_predictions(y_val, predictions):\n",
    "\n",
    "    plt.figure(figsize=(10, 6))\n",
    "    \n",
    "    # Ensure the index is correctly sorted for plotting\n",
    "    sorted_index = y_val.sort_index().index\n",
    "    sorted_y_val = y_val.sort_index()\n",
    "    sorted_predictions = pd.Series(predictions, index=sorted_index).sort_index()\n",
    "    \n",
    "    # Plot real vs predicted values\n",
    "    plt.plot(sorted_index, sorted_y_val, label='Real', marker='o', color='blue')\n",
    "    plt.plot(sorted_index, sorted_predictions, label='Prediction', marker='x', linestyle='--', color='orange')\n",
    "    \n",
    "    plt.title('Predictions vs Actual Values')\n",
    "    plt.xlabel('Index')\n",
    "    plt.ylabel('Value')\n",
    "    plt.legend()\n",
    "    plt.grid(True)\n",
    "    plt.tight_layout()\n",
    "    plt.show()"
   ]
  },
  {
   "cell_type": "markdown",
   "metadata": {},
   "source": [
    "### XGBoost"
   ]
  },
  {
   "cell_type": "code",
   "execution_count": 20,
   "metadata": {},
   "outputs": [],
   "source": [
    "def run_gridsearch_xgboost(X_train, y_train):\n",
    "\n",
    "    # Define the parameter grid to search\n",
    "    param_grid = {\n",
    "        'n_estimators': [100, 500, 1000],  # Number of trees in the forest\n",
    "        'learning_rate': [0.01, 0.05, 0.1],  # Step size shrinkage used to prevent overfitting\n",
    "        'max_depth': [3, 5]  # Maximum depth of a tree\n",
    "    }\n",
    "    \n",
    "    # Initialize the model\n",
    "    model = XGBRegressor(objective='reg:squarederror')  # Objective is to minimize squared error\n",
    "    \n",
    "    rmse_scorer = make_scorer(rmse, greater_is_better=False)\n",
    "    \n",
    "    # Setup GridSearchCV\n",
    "    grid_search = GridSearchCV(model, param_grid, cv=3, scoring=rmse_scorer, verbose=0)\n",
    "    grid_search.fit(X_train, y_train)  # Perform the grid search\n",
    "\n",
    "    best_params = grid_search.best_params_  # Retrieve the best parameters\n",
    "    \n",
    "    print(\"Best Parameters:\")  # Print the best parameters found\n",
    "    print(best_params)\n",
    "    \n",
    "    return grid_search.best_estimator_ , best_params # Return the best model"
   ]
  },
  {
   "cell_type": "markdown",
   "metadata": {},
   "source": [
    "## XGBoost for each Product"
   ]
  },
  {
   "cell_type": "code",
   "execution_count": 21,
   "metadata": {},
   "outputs": [],
   "source": [
    "#dictionary to store the best RMSE, for each product \n",
    "best_rmse_xgboost = {}"
   ]
  },
  {
   "cell_type": "code",
   "execution_count": 22,
   "metadata": {},
   "outputs": [
    {
     "name": "stdout",
     "output_type": "stream",
     "text": [
      "\n",
      "Product ID: 1\n",
      "\n",
      "original\n"
     ]
    },
    {
     "name": "stdout",
     "output_type": "stream",
     "text": [
      "Best Parameters:\n",
      "{'learning_rate': 0.01, 'max_depth': 5, 'n_estimators': 100}\n",
      "Train RMSE: 3632897.247\n",
      "Test RMSE: 6442858.568\n",
      "\n",
      "lag\n",
      "Best Parameters:\n",
      "{'learning_rate': 0.01, 'max_depth': 3, 'n_estimators': 100}\n",
      "Train RMSE: 1699093.585\n",
      "Test RMSE: 5968853.318\n",
      "\n",
      "outlier\n",
      "Best Parameters:\n",
      "{'learning_rate': 0.01, 'max_depth': 5, 'n_estimators': 100}\n",
      "Train RMSE: 1754044.620\n",
      "Test RMSE: 6086321.346\n",
      "\n",
      "Minimum RMSE for Product 1: 5968853.318 (DataFrame: lag)\n",
      "\n",
      "Product ID: 3\n",
      "\n",
      "original\n",
      "Best Parameters:\n",
      "{'learning_rate': 0.01, 'max_depth': 3, 'n_estimators': 100}\n",
      "Train RMSE: 1464198.842\n",
      "Test RMSE: 3782289.497\n",
      "\n",
      "lag\n",
      "Best Parameters:\n",
      "{'learning_rate': 0.01, 'max_depth': 5, 'n_estimators': 100}\n",
      "Train RMSE: 1403810.804\n",
      "Test RMSE: 3591252.468\n",
      "\n",
      "outlier\n",
      "Best Parameters:\n",
      "{'learning_rate': 0.05, 'max_depth': 3, 'n_estimators': 100}\n",
      "Train RMSE: 387484.945\n",
      "Test RMSE: 3067808.469\n",
      "\n",
      "Minimum RMSE for Product 3: 3067808.469 (DataFrame: outlier)\n",
      "\n",
      "Product ID: 4\n",
      "\n",
      "original\n",
      "Best Parameters:\n",
      "{'learning_rate': 0.01, 'max_depth': 3, 'n_estimators': 100}\n",
      "Train RMSE: 98214.608\n",
      "Test RMSE: 170318.812\n",
      "\n",
      "lag\n",
      "Best Parameters:\n",
      "{'learning_rate': 0.05, 'max_depth': 3, 'n_estimators': 1000}\n",
      "Train RMSE: 0.631\n",
      "Test RMSE: 115016.966\n",
      "\n",
      "outlier\n",
      "Best Parameters:\n",
      "{'learning_rate': 0.01, 'max_depth': 3, 'n_estimators': 100}\n",
      "Train RMSE: 98214.608\n",
      "Test RMSE: 170318.812\n",
      "\n",
      "Minimum RMSE for Product 4: 115016.966 (DataFrame: lag)\n",
      "\n",
      "Product ID: 5\n",
      "\n",
      "original\n",
      "Best Parameters:\n",
      "{'learning_rate': 0.01, 'max_depth': 3, 'n_estimators': 100}\n",
      "Train RMSE: 2297613.086\n",
      "Test RMSE: 4684311.395\n",
      "\n",
      "lag\n",
      "Best Parameters:\n",
      "{'learning_rate': 0.01, 'max_depth': 3, 'n_estimators': 100}\n",
      "Train RMSE: 2296201.881\n",
      "Test RMSE: 4104979.705\n",
      "\n",
      "outlier\n",
      "Best Parameters:\n",
      "{'learning_rate': 0.01, 'max_depth': 3, 'n_estimators': 100}\n",
      "Train RMSE: 2297613.086\n",
      "Test RMSE: 4684311.395\n",
      "\n",
      "Minimum RMSE for Product 5: 4104979.705 (DataFrame: lag)\n",
      "\n",
      "Product ID: 6\n",
      "\n",
      "original\n",
      "Best Parameters:\n",
      "{'learning_rate': 0.01, 'max_depth': 5, 'n_estimators': 1000}\n",
      "Train RMSE: 1665.337\n",
      "Test RMSE: 207476.590\n",
      "\n",
      "lag\n",
      "Best Parameters:\n",
      "{'learning_rate': 0.1, 'max_depth': 3, 'n_estimators': 1000}\n",
      "Train RMSE: 0.429\n",
      "Test RMSE: 245960.678\n",
      "\n",
      "outlier\n",
      "Best Parameters:\n",
      "{'learning_rate': 0.01, 'max_depth': 5, 'n_estimators': 1000}\n",
      "Train RMSE: 1665.337\n",
      "Test RMSE: 207476.590\n",
      "\n",
      "Minimum RMSE for Product 6: 207476.590 (DataFrame: original)\n",
      "\n",
      "Product ID: 8\n",
      "\n",
      "original\n",
      "Best Parameters:\n",
      "{'learning_rate': 0.01, 'max_depth': 3, 'n_estimators': 1000}\n",
      "Train RMSE: 16468.384\n",
      "Test RMSE: 732506.438\n",
      "\n",
      "lag\n",
      "Best Parameters:\n",
      "{'learning_rate': 0.01, 'max_depth': 5, 'n_estimators': 1000}\n",
      "Train RMSE: 1648.374\n",
      "Test RMSE: 871302.391\n",
      "\n",
      "outlier\n",
      "Best Parameters:\n",
      "{'learning_rate': 0.01, 'max_depth': 3, 'n_estimators': 1000}\n",
      "Train RMSE: 16468.384\n",
      "Test RMSE: 732506.438\n",
      "\n",
      "Minimum RMSE for Product 8: 732506.438 (DataFrame: original)\n",
      "\n",
      "Product ID: 9\n",
      "\n",
      "original\n",
      "Best Parameters:\n",
      "{'learning_rate': 0.01, 'max_depth': 3, 'n_estimators': 1000}\n",
      "Train RMSE: 223.454\n",
      "Test RMSE: 5359.980\n",
      "\n",
      "lag\n",
      "Best Parameters:\n",
      "{'learning_rate': 0.01, 'max_depth': 5, 'n_estimators': 100}\n",
      "Train RMSE: 4755.220\n",
      "Test RMSE: 4241.822\n",
      "\n",
      "outlier\n",
      "Best Parameters:\n",
      "{'learning_rate': 0.01, 'max_depth': 3, 'n_estimators': 100}\n",
      "Train RMSE: 4673.850\n",
      "Test RMSE: 7099.702\n",
      "\n",
      "Minimum RMSE for Product 9: 4241.822 (DataFrame: lag)\n",
      "\n",
      "Product ID: 11\n",
      "\n",
      "original\n",
      "Best Parameters:\n",
      "{'learning_rate': 0.01, 'max_depth': 5, 'n_estimators': 100}\n",
      "Train RMSE: 464880.897\n",
      "Test RMSE: 1159171.817\n",
      "\n",
      "lag\n",
      "Best Parameters:\n",
      "{'learning_rate': 0.01, 'max_depth': 3, 'n_estimators': 100}\n",
      "Train RMSE: 588416.305\n",
      "Test RMSE: 927859.851\n",
      "\n",
      "outlier\n",
      "Best Parameters:\n",
      "{'learning_rate': 0.01, 'max_depth': 5, 'n_estimators': 100}\n",
      "Train RMSE: 464880.897\n",
      "Test RMSE: 1159171.817\n",
      "\n",
      "Minimum RMSE for Product 11: 927859.851 (DataFrame: lag)\n",
      "\n",
      "Product ID: 12\n",
      "\n",
      "original\n",
      "Best Parameters:\n",
      "{'learning_rate': 0.1, 'max_depth': 3, 'n_estimators': 1000}\n",
      "Train RMSE: 0.121\n",
      "Test RMSE: 131641.662\n",
      "\n",
      "lag\n",
      "Best Parameters:\n",
      "{'learning_rate': 0.01, 'max_depth': 5, 'n_estimators': 500}\n",
      "Train RMSE: 5775.114\n",
      "Test RMSE: 106136.721\n",
      "\n",
      "outlier\n",
      "Best Parameters:\n",
      "{'learning_rate': 0.1, 'max_depth': 3, 'n_estimators': 1000}\n",
      "Train RMSE: 0.121\n",
      "Test RMSE: 131641.662\n",
      "\n",
      "Minimum RMSE for Product 12: 106136.721 (DataFrame: lag)\n",
      "\n",
      "Product ID: 13\n",
      "\n",
      "original\n",
      "Best Parameters:\n",
      "{'learning_rate': 0.01, 'max_depth': 3, 'n_estimators': 100}\n",
      "Train RMSE: 10530.588\n",
      "Test RMSE: 12409.721\n",
      "\n",
      "lag\n",
      "Best Parameters:\n",
      "{'learning_rate': 0.01, 'max_depth': 3, 'n_estimators': 1000}\n",
      "Train RMSE: 568.017\n",
      "Test RMSE: 16959.056\n",
      "\n",
      "outlier\n",
      "Best Parameters:\n",
      "{'learning_rate': 0.01, 'max_depth': 3, 'n_estimators': 100}\n",
      "Train RMSE: 10530.588\n",
      "Test RMSE: 12409.721\n",
      "\n",
      "Minimum RMSE for Product 13: 12409.721 (DataFrame: original)\n",
      "\n",
      "Product ID: 14\n",
      "\n",
      "original\n",
      "Best Parameters:\n",
      "{'learning_rate': 0.01, 'max_depth': 3, 'n_estimators': 100}\n",
      "Train RMSE: 10756.983\n",
      "Test RMSE: 28594.407\n",
      "\n",
      "lag\n",
      "Best Parameters:\n",
      "{'learning_rate': 0.01, 'max_depth': 5, 'n_estimators': 100}\n",
      "Train RMSE: 9474.002\n",
      "Test RMSE: 17281.375\n",
      "\n",
      "outlier\n",
      "Best Parameters:\n",
      "{'learning_rate': 0.01, 'max_depth': 3, 'n_estimators': 100}\n",
      "Train RMSE: 5366.298\n",
      "Test RMSE: 18439.766\n",
      "\n",
      "Minimum RMSE for Product 14: 17281.375 (DataFrame: lag)\n",
      "\n",
      "Product ID: 16\n",
      "\n",
      "original\n",
      "Best Parameters:\n",
      "{'learning_rate': 0.01, 'max_depth': 3, 'n_estimators': 100}\n",
      "Train RMSE: 505238.123\n",
      "Test RMSE: 223528.213\n",
      "\n",
      "lag\n",
      "Best Parameters:\n",
      "{'learning_rate': 0.1, 'max_depth': 5, 'n_estimators': 1000}\n",
      "Train RMSE: 0.175\n",
      "Test RMSE: 135519.246\n",
      "\n",
      "outlier\n",
      "Best Parameters:\n",
      "{'learning_rate': 0.01, 'max_depth': 3, 'n_estimators': 100}\n",
      "Train RMSE: 246757.488\n",
      "Test RMSE: 308218.136\n",
      "\n",
      "Minimum RMSE for Product 16: 135519.246 (DataFrame: lag)\n",
      "\n",
      "Product ID: 20\n",
      "\n",
      "original\n",
      "Best Parameters:\n",
      "{'learning_rate': 0.01, 'max_depth': 5, 'n_estimators': 100}\n",
      "Train RMSE: 1135.836\n",
      "Test RMSE: 3201.764\n",
      "\n",
      "lag\n",
      "Best Parameters:\n",
      "{'learning_rate': 0.01, 'max_depth': 3, 'n_estimators': 500}\n",
      "Train RMSE: 149.342\n",
      "Test RMSE: 2259.909\n",
      "\n",
      "outlier\n",
      "Best Parameters:\n",
      "{'learning_rate': 0.01, 'max_depth': 5, 'n_estimators': 100}\n",
      "Train RMSE: 1135.836\n",
      "Test RMSE: 3201.764\n",
      "\n",
      "Minimum RMSE for Product 20: 2259.909 (DataFrame: lag)\n",
      "\n",
      "Product ID: 36\n",
      "\n",
      "original\n",
      "Best Parameters:\n",
      "{'learning_rate': 0.01, 'max_depth': 5, 'n_estimators': 500}\n",
      "Train RMSE: 3896.218\n",
      "Test RMSE: 16187.016\n",
      "\n",
      "lag\n",
      "Best Parameters:\n",
      "{'learning_rate': 0.1, 'max_depth': 3, 'n_estimators': 500}\n",
      "Train RMSE: 0.171\n",
      "Test RMSE: 95648.843\n",
      "\n",
      "outlier\n",
      "Best Parameters:\n",
      "{'learning_rate': 0.05, 'max_depth': 5, 'n_estimators': 100}\n",
      "Train RMSE: 1964.528\n",
      "Test RMSE: 15601.655\n",
      "\n",
      "Minimum RMSE for Product 36: 15601.655 (DataFrame: outlier)\n"
     ]
    }
   ],
   "source": [
    "def process_data_and_model(dfs_original_train, dfs_original_test, dfs_lag_train, dfs_lag_test, dfs_outlier_train, dfs_outlier_test, model_name):\n",
    "\n",
    "    for product_id in dfs_original_train.keys():\n",
    "        print(f\"\\nProduct ID: {product_id}\")\n",
    "\n",
    "        product_results = {}\n",
    "        min_product_rmse = float('inf')  # Initialize with a very high value\n",
    "        min_rmse_df = None  # Initialize with None\n",
    "        best_parameters = {}\n",
    "\n",
    "        for df_train, df_test, df_type in zip(\n",
    "            [dfs_original_train, dfs_lag_train, dfs_outlier_train],\n",
    "            [dfs_original_test, dfs_lag_test, dfs_outlier_test],\n",
    "            ['original', 'lag', 'outlier']\n",
    "        ):\n",
    "            print(f\"\\n{df_type}\")\n",
    "\n",
    "            # Get the corresponding train and test DataFrames\n",
    "            df_train_data = df_train[product_id]\n",
    "            df_test_data = df_test[product_id]\n",
    "\n",
    "            # Split data into train and test sets\n",
    "            X_train, y_train = df_train_data.drop(columns=['Sales_CPI_€']), df_train_data['Sales_CPI_€']\n",
    "            X_val, y_val = df_test_data.drop(columns=['Sales_CPI_€']), df_test_data['Sales_CPI_€']\n",
    "\n",
    "            # Perform GridSearchCV to find the best parameters\n",
    "            best_model, best_params  = run_gridsearch_xgboost(X_train, y_train)\n",
    "\n",
    "            # Evaluate the model and get RMSE\n",
    "            train_rmse, val_rmse = evaluate_model_with_error_table(best_model, X_train, y_train, X_val, y_val)\n",
    "    \n",
    "            # Update the minimum RMSE for the current product and the corresponding DataFrame\n",
    "            if val_rmse < min_product_rmse:\n",
    "                min_product_rmse = val_rmse\n",
    "                min_rmse_df = df_type\n",
    "                best_parameters = best_params\n",
    "\n",
    "\n",
    "        # Store the best RMSE for validation and the corresponding DataFrame\n",
    "        best_rmse_xgboost[product_id] = {\n",
    "            'Model': model_name,\n",
    "            'Dataframe': min_rmse_df,  \n",
    "            'Best RMSE for Validation': round(min_product_rmse),\n",
    "            'Best Parameters': best_parameters\n",
    "        }\n",
    "\n",
    "        # Print the minimum RMSE for the current product and the corresponding DataFrame\n",
    "        print(f\"\\nMinimum RMSE for Product {product_id}: {min_product_rmse:.3f} (DataFrame: {min_rmse_df})\")\n",
    "\n",
    "    # return results\n",
    "\n",
    "# Call the function with your dictionaries for train and test DataFrames and the model name\n",
    "process_data_and_model(\n",
    "    dfs_original_train, dfs_original_test,\n",
    "    dfs_lag_train, dfs_lag_test,\n",
    "    dfs_outlier_train, dfs_outlier_test,\n",
    "    model_name='XGBoost'\n",
    ")\n"
   ]
  },
  {
   "cell_type": "code",
   "execution_count": 23,
   "metadata": {},
   "outputs": [
    {
     "data": {
      "text/plain": [
       "{'Model': 'XGBoost',\n",
       " 'Dataframe': 'lag',\n",
       " 'Best RMSE for Validation': 5968853,\n",
       " 'Best Parameters': {'learning_rate': 0.01,\n",
       "  'max_depth': 3,\n",
       "  'n_estimators': 100}}"
      ]
     },
     "execution_count": 23,
     "metadata": {},
     "output_type": "execute_result"
    }
   ],
   "source": [
    "best_rmse_xgboost[1]"
   ]
  },
  {
   "cell_type": "markdown",
   "metadata": {},
   "source": [
    "## Prophet for each Product"
   ]
  },
  {
   "cell_type": "code",
   "execution_count": 24,
   "metadata": {},
   "outputs": [],
   "source": [
    "#dictionary to store the best RMSE, for each product \n",
    "best_rmse_prophet = {}"
   ]
  },
  {
   "cell_type": "code",
   "execution_count": 25,
   "metadata": {},
   "outputs": [],
   "source": [
    "dfs_original_train_copy = dfs_original_train.copy()\n",
    "dfs_original_test_copy = dfs_original_test.copy()\n",
    "dfs_lag_train_copy = dfs_lag_train.copy()\n",
    "dfs_lag_test_copy = dfs_lag_test.copy()\n",
    "dfs_outlier_train_copy = dfs_outlier_train.copy()\n",
    "dfs_outlier_test_copy = dfs_outlier_test.copy()"
   ]
  },
  {
   "cell_type": "code",
   "execution_count": 26,
   "metadata": {},
   "outputs": [],
   "source": [
    "def rename_columns(df):\n",
    "    df_copy = df.reset_index().rename(columns={'Date': 'ds', 'Sales_CPI_€': 'y'})\n",
    "    return df_copy\n",
    "\n",
    "# Rename columns in each DataFrame in the dictionaries\n",
    "for df_dict in [dfs_original_train_copy, dfs_original_test_copy, dfs_lag_train_copy, dfs_lag_test_copy, dfs_outlier_train_copy, dfs_outlier_test_copy]:\n",
    "    for product_id in df_dict.keys():\n",
    "        df_dict[product_id] = rename_columns(df_dict[product_id])"
   ]
  },
  {
   "cell_type": "code",
   "execution_count": 27,
   "metadata": {},
   "outputs": [],
   "source": [
    "def evaluate_prophet_model(df, forecast):\n",
    "    # Extract actual values from the original dataframe\n",
    "    y_true = df['y'].values\n",
    "    \n",
    "    # Extract predicted values from the forecast\n",
    "    y_pred = forecast['yhat'].values[-len(df):]  # Forecasted values for the original period\n",
    "    \n",
    "    # Calculate RMSE\n",
    "    rmse = np.sqrt(np.mean((y_true - y_pred)**2))\n",
    "    \n",
    "    return None, rmse  # No train RMSE for Prophet"
   ]
  },
  {
   "cell_type": "code",
   "execution_count": 28,
   "metadata": {},
   "outputs": [],
   "source": [
    "# Suppressing INFO level logs from cmdstanpy and prophet\n",
    "logging.getLogger('cmdstanpy').setLevel(logging.WARNING)\n",
    "logging.getLogger('prophet').setLevel(logging.WARNING)"
   ]
  },
  {
   "cell_type": "code",
   "execution_count": 29,
   "metadata": {},
   "outputs": [
    {
     "name": "stdout",
     "output_type": "stream",
     "text": [
      "\n",
      "Product ID: 1\n",
      "\n",
      "original\n"
     ]
    },
    {
     "name": "stderr",
     "output_type": "stream",
     "text": [
      "DEBUG:cmdstanpy:input tempfile: /var/folders/g8/89ybwtg53nb272y2m1cv_qnc0000gn/T/tmplosni2kv/q4n0002_.json\n",
      "DEBUG:cmdstanpy:input tempfile: /var/folders/g8/89ybwtg53nb272y2m1cv_qnc0000gn/T/tmplosni2kv/xxphjndn.json\n",
      "DEBUG:cmdstanpy:idx 0\n",
      "DEBUG:cmdstanpy:running CmdStan, num_threads: None\n",
      "DEBUG:cmdstanpy:CmdStan args: ['/Users/ritamatias/anaconda3/envs/DM2324/lib/python3.11/site-packages/prophet/stan_model/prophet_model.bin', 'random', 'seed=29194', 'data', 'file=/var/folders/g8/89ybwtg53nb272y2m1cv_qnc0000gn/T/tmplosni2kv/q4n0002_.json', 'init=/var/folders/g8/89ybwtg53nb272y2m1cv_qnc0000gn/T/tmplosni2kv/xxphjndn.json', 'output', 'file=/var/folders/g8/89ybwtg53nb272y2m1cv_qnc0000gn/T/tmplosni2kv/prophet_modelyh4_h_ue/prophet_model-20240409172959.csv', 'method=optimize', 'algorithm=newton', 'iter=10000']\n",
      "17:29:59 - cmdstanpy - INFO - Chain [1] start processing\n",
      "INFO:cmdstanpy:Chain [1] start processing\n",
      "17:29:59 - cmdstanpy - INFO - Chain [1] done processing\n",
      "INFO:cmdstanpy:Chain [1] done processing\n",
      "DEBUG:cmdstanpy:input tempfile: /var/folders/g8/89ybwtg53nb272y2m1cv_qnc0000gn/T/tmplosni2kv/t9ugh43o.json\n",
      "DEBUG:cmdstanpy:input tempfile: /var/folders/g8/89ybwtg53nb272y2m1cv_qnc0000gn/T/tmplosni2kv/z1r5srz_.json\n",
      "DEBUG:cmdstanpy:idx 0\n",
      "DEBUG:cmdstanpy:running CmdStan, num_threads: None\n",
      "DEBUG:cmdstanpy:CmdStan args: ['/Users/ritamatias/anaconda3/envs/DM2324/lib/python3.11/site-packages/prophet/stan_model/prophet_model.bin', 'random', 'seed=59014', 'data', 'file=/var/folders/g8/89ybwtg53nb272y2m1cv_qnc0000gn/T/tmplosni2kv/t9ugh43o.json', 'init=/var/folders/g8/89ybwtg53nb272y2m1cv_qnc0000gn/T/tmplosni2kv/z1r5srz_.json', 'output', 'file=/var/folders/g8/89ybwtg53nb272y2m1cv_qnc0000gn/T/tmplosni2kv/prophet_modelp3x9ehai/prophet_model-20240409172959.csv', 'method=optimize', 'algorithm=newton', 'iter=10000']\n",
      "17:29:59 - cmdstanpy - INFO - Chain [1] start processing\n",
      "INFO:cmdstanpy:Chain [1] start processing\n"
     ]
    },
    {
     "name": "stdout",
     "output_type": "stream",
     "text": [
      "\n",
      "lag\n"
     ]
    },
    {
     "name": "stderr",
     "output_type": "stream",
     "text": [
      "17:29:59 - cmdstanpy - INFO - Chain [1] done processing\n",
      "INFO:cmdstanpy:Chain [1] done processing\n",
      "DEBUG:cmdstanpy:input tempfile: /var/folders/g8/89ybwtg53nb272y2m1cv_qnc0000gn/T/tmplosni2kv/3dem8y51.json\n",
      "DEBUG:cmdstanpy:input tempfile: /var/folders/g8/89ybwtg53nb272y2m1cv_qnc0000gn/T/tmplosni2kv/71lz5sw7.json\n",
      "DEBUG:cmdstanpy:idx 0\n",
      "DEBUG:cmdstanpy:running CmdStan, num_threads: None\n",
      "DEBUG:cmdstanpy:CmdStan args: ['/Users/ritamatias/anaconda3/envs/DM2324/lib/python3.11/site-packages/prophet/stan_model/prophet_model.bin', 'random', 'seed=1577', 'data', 'file=/var/folders/g8/89ybwtg53nb272y2m1cv_qnc0000gn/T/tmplosni2kv/3dem8y51.json', 'init=/var/folders/g8/89ybwtg53nb272y2m1cv_qnc0000gn/T/tmplosni2kv/71lz5sw7.json', 'output', 'file=/var/folders/g8/89ybwtg53nb272y2m1cv_qnc0000gn/T/tmplosni2kv/prophet_modeluwes074m/prophet_model-20240409172959.csv', 'method=optimize', 'algorithm=newton', 'iter=10000']\n",
      "17:29:59 - cmdstanpy - INFO - Chain [1] start processing\n",
      "INFO:cmdstanpy:Chain [1] start processing\n"
     ]
    },
    {
     "name": "stdout",
     "output_type": "stream",
     "text": [
      "\n",
      "outlier\n"
     ]
    },
    {
     "name": "stderr",
     "output_type": "stream",
     "text": [
      "17:30:00 - cmdstanpy - INFO - Chain [1] done processing\n",
      "INFO:cmdstanpy:Chain [1] done processing\n",
      "DEBUG:cmdstanpy:input tempfile: /var/folders/g8/89ybwtg53nb272y2m1cv_qnc0000gn/T/tmplosni2kv/y9dlmypj.json\n",
      "DEBUG:cmdstanpy:input tempfile: /var/folders/g8/89ybwtg53nb272y2m1cv_qnc0000gn/T/tmplosni2kv/whsrytr7.json\n",
      "DEBUG:cmdstanpy:idx 0\n",
      "DEBUG:cmdstanpy:running CmdStan, num_threads: None\n",
      "DEBUG:cmdstanpy:CmdStan args: ['/Users/ritamatias/anaconda3/envs/DM2324/lib/python3.11/site-packages/prophet/stan_model/prophet_model.bin', 'random', 'seed=98089', 'data', 'file=/var/folders/g8/89ybwtg53nb272y2m1cv_qnc0000gn/T/tmplosni2kv/y9dlmypj.json', 'init=/var/folders/g8/89ybwtg53nb272y2m1cv_qnc0000gn/T/tmplosni2kv/whsrytr7.json', 'output', 'file=/var/folders/g8/89ybwtg53nb272y2m1cv_qnc0000gn/T/tmplosni2kv/prophet_model2y0ltupp/prophet_model-20240409173000.csv', 'method=optimize', 'algorithm=newton', 'iter=10000']\n",
      "17:30:00 - cmdstanpy - INFO - Chain [1] start processing\n",
      "INFO:cmdstanpy:Chain [1] start processing\n"
     ]
    },
    {
     "name": "stdout",
     "output_type": "stream",
     "text": [
      "\n",
      "Minimum RMSE for Product 1: 4436099.624 (DataFrame: original)\n",
      "\n",
      "Product ID: 3\n",
      "\n",
      "original\n"
     ]
    },
    {
     "name": "stderr",
     "output_type": "stream",
     "text": [
      "17:30:00 - cmdstanpy - INFO - Chain [1] done processing\n",
      "INFO:cmdstanpy:Chain [1] done processing\n",
      "DEBUG:cmdstanpy:input tempfile: /var/folders/g8/89ybwtg53nb272y2m1cv_qnc0000gn/T/tmplosni2kv/_myu0doa.json\n",
      "DEBUG:cmdstanpy:input tempfile: /var/folders/g8/89ybwtg53nb272y2m1cv_qnc0000gn/T/tmplosni2kv/aygciz4y.json\n",
      "DEBUG:cmdstanpy:idx 0\n",
      "DEBUG:cmdstanpy:running CmdStan, num_threads: None\n",
      "DEBUG:cmdstanpy:CmdStan args: ['/Users/ritamatias/anaconda3/envs/DM2324/lib/python3.11/site-packages/prophet/stan_model/prophet_model.bin', 'random', 'seed=72533', 'data', 'file=/var/folders/g8/89ybwtg53nb272y2m1cv_qnc0000gn/T/tmplosni2kv/_myu0doa.json', 'init=/var/folders/g8/89ybwtg53nb272y2m1cv_qnc0000gn/T/tmplosni2kv/aygciz4y.json', 'output', 'file=/var/folders/g8/89ybwtg53nb272y2m1cv_qnc0000gn/T/tmplosni2kv/prophet_modelrp_m8whi/prophet_model-20240409173000.csv', 'method=optimize', 'algorithm=newton', 'iter=10000']\n",
      "17:30:00 - cmdstanpy - INFO - Chain [1] start processing\n",
      "INFO:cmdstanpy:Chain [1] start processing\n",
      "17:30:00 - cmdstanpy - INFO - Chain [1] done processing\n",
      "INFO:cmdstanpy:Chain [1] done processing\n"
     ]
    },
    {
     "name": "stdout",
     "output_type": "stream",
     "text": [
      "\n",
      "lag\n"
     ]
    },
    {
     "name": "stderr",
     "output_type": "stream",
     "text": [
      "DEBUG:cmdstanpy:input tempfile: /var/folders/g8/89ybwtg53nb272y2m1cv_qnc0000gn/T/tmplosni2kv/3uza8zqy.json\n",
      "DEBUG:cmdstanpy:input tempfile: /var/folders/g8/89ybwtg53nb272y2m1cv_qnc0000gn/T/tmplosni2kv/wv5ymles.json\n",
      "DEBUG:cmdstanpy:idx 0\n",
      "DEBUG:cmdstanpy:running CmdStan, num_threads: None\n",
      "DEBUG:cmdstanpy:CmdStan args: ['/Users/ritamatias/anaconda3/envs/DM2324/lib/python3.11/site-packages/prophet/stan_model/prophet_model.bin', 'random', 'seed=33300', 'data', 'file=/var/folders/g8/89ybwtg53nb272y2m1cv_qnc0000gn/T/tmplosni2kv/3uza8zqy.json', 'init=/var/folders/g8/89ybwtg53nb272y2m1cv_qnc0000gn/T/tmplosni2kv/wv5ymles.json', 'output', 'file=/var/folders/g8/89ybwtg53nb272y2m1cv_qnc0000gn/T/tmplosni2kv/prophet_modele20tzaod/prophet_model-20240409173000.csv', 'method=optimize', 'algorithm=newton', 'iter=10000']\n",
      "17:30:00 - cmdstanpy - INFO - Chain [1] start processing\n",
      "INFO:cmdstanpy:Chain [1] start processing\n"
     ]
    },
    {
     "name": "stdout",
     "output_type": "stream",
     "text": [
      "\n",
      "outlier\n"
     ]
    },
    {
     "name": "stderr",
     "output_type": "stream",
     "text": [
      "17:30:00 - cmdstanpy - INFO - Chain [1] done processing\n",
      "INFO:cmdstanpy:Chain [1] done processing\n",
      "DEBUG:cmdstanpy:input tempfile: /var/folders/g8/89ybwtg53nb272y2m1cv_qnc0000gn/T/tmplosni2kv/z7e7ta1j.json\n",
      "DEBUG:cmdstanpy:input tempfile: /var/folders/g8/89ybwtg53nb272y2m1cv_qnc0000gn/T/tmplosni2kv/hk99f49m.json\n",
      "DEBUG:cmdstanpy:idx 0\n",
      "DEBUG:cmdstanpy:running CmdStan, num_threads: None\n",
      "DEBUG:cmdstanpy:CmdStan args: ['/Users/ritamatias/anaconda3/envs/DM2324/lib/python3.11/site-packages/prophet/stan_model/prophet_model.bin', 'random', 'seed=46624', 'data', 'file=/var/folders/g8/89ybwtg53nb272y2m1cv_qnc0000gn/T/tmplosni2kv/z7e7ta1j.json', 'init=/var/folders/g8/89ybwtg53nb272y2m1cv_qnc0000gn/T/tmplosni2kv/hk99f49m.json', 'output', 'file=/var/folders/g8/89ybwtg53nb272y2m1cv_qnc0000gn/T/tmplosni2kv/prophet_modelcg9x9rqy/prophet_model-20240409173001.csv', 'method=optimize', 'algorithm=newton', 'iter=10000']\n",
      "17:30:01 - cmdstanpy - INFO - Chain [1] start processing\n",
      "INFO:cmdstanpy:Chain [1] start processing\n"
     ]
    },
    {
     "name": "stdout",
     "output_type": "stream",
     "text": [
      "\n",
      "Minimum RMSE for Product 3: 2018385.480 (DataFrame: outlier)\n",
      "\n",
      "Product ID: 4\n",
      "\n",
      "original\n"
     ]
    },
    {
     "name": "stderr",
     "output_type": "stream",
     "text": [
      "17:30:01 - cmdstanpy - INFO - Chain [1] done processing\n",
      "INFO:cmdstanpy:Chain [1] done processing\n",
      "DEBUG:cmdstanpy:input tempfile: /var/folders/g8/89ybwtg53nb272y2m1cv_qnc0000gn/T/tmplosni2kv/ptrtz46c.json\n",
      "DEBUG:cmdstanpy:input tempfile: /var/folders/g8/89ybwtg53nb272y2m1cv_qnc0000gn/T/tmplosni2kv/y9h7esgd.json\n",
      "DEBUG:cmdstanpy:idx 0\n",
      "DEBUG:cmdstanpy:running CmdStan, num_threads: None\n",
      "DEBUG:cmdstanpy:CmdStan args: ['/Users/ritamatias/anaconda3/envs/DM2324/lib/python3.11/site-packages/prophet/stan_model/prophet_model.bin', 'random', 'seed=8543', 'data', 'file=/var/folders/g8/89ybwtg53nb272y2m1cv_qnc0000gn/T/tmplosni2kv/ptrtz46c.json', 'init=/var/folders/g8/89ybwtg53nb272y2m1cv_qnc0000gn/T/tmplosni2kv/y9h7esgd.json', 'output', 'file=/var/folders/g8/89ybwtg53nb272y2m1cv_qnc0000gn/T/tmplosni2kv/prophet_modelt4vbcdfw/prophet_model-20240409173001.csv', 'method=optimize', 'algorithm=newton', 'iter=10000']\n",
      "17:30:01 - cmdstanpy - INFO - Chain [1] start processing\n",
      "INFO:cmdstanpy:Chain [1] start processing\n"
     ]
    },
    {
     "name": "stdout",
     "output_type": "stream",
     "text": [
      "\n",
      "lag\n"
     ]
    },
    {
     "name": "stderr",
     "output_type": "stream",
     "text": [
      "17:30:01 - cmdstanpy - INFO - Chain [1] done processing\n",
      "INFO:cmdstanpy:Chain [1] done processing\n",
      "DEBUG:cmdstanpy:input tempfile: /var/folders/g8/89ybwtg53nb272y2m1cv_qnc0000gn/T/tmplosni2kv/w9df7ky6.json\n",
      "DEBUG:cmdstanpy:input tempfile: /var/folders/g8/89ybwtg53nb272y2m1cv_qnc0000gn/T/tmplosni2kv/8cyxguwe.json\n",
      "DEBUG:cmdstanpy:idx 0\n",
      "DEBUG:cmdstanpy:running CmdStan, num_threads: None\n",
      "DEBUG:cmdstanpy:CmdStan args: ['/Users/ritamatias/anaconda3/envs/DM2324/lib/python3.11/site-packages/prophet/stan_model/prophet_model.bin', 'random', 'seed=57362', 'data', 'file=/var/folders/g8/89ybwtg53nb272y2m1cv_qnc0000gn/T/tmplosni2kv/w9df7ky6.json', 'init=/var/folders/g8/89ybwtg53nb272y2m1cv_qnc0000gn/T/tmplosni2kv/8cyxguwe.json', 'output', 'file=/var/folders/g8/89ybwtg53nb272y2m1cv_qnc0000gn/T/tmplosni2kv/prophet_modellcz6pztf/prophet_model-20240409173001.csv', 'method=optimize', 'algorithm=newton', 'iter=10000']\n",
      "17:30:01 - cmdstanpy - INFO - Chain [1] start processing\n",
      "INFO:cmdstanpy:Chain [1] start processing\n"
     ]
    },
    {
     "name": "stdout",
     "output_type": "stream",
     "text": [
      "\n",
      "outlier\n"
     ]
    },
    {
     "name": "stderr",
     "output_type": "stream",
     "text": [
      "17:30:01 - cmdstanpy - INFO - Chain [1] done processing\n",
      "INFO:cmdstanpy:Chain [1] done processing\n",
      "DEBUG:cmdstanpy:input tempfile: /var/folders/g8/89ybwtg53nb272y2m1cv_qnc0000gn/T/tmplosni2kv/u4je3tqc.json\n",
      "DEBUG:cmdstanpy:input tempfile: /var/folders/g8/89ybwtg53nb272y2m1cv_qnc0000gn/T/tmplosni2kv/iszhccfn.json\n",
      "DEBUG:cmdstanpy:idx 0\n",
      "DEBUG:cmdstanpy:running CmdStan, num_threads: None\n",
      "DEBUG:cmdstanpy:CmdStan args: ['/Users/ritamatias/anaconda3/envs/DM2324/lib/python3.11/site-packages/prophet/stan_model/prophet_model.bin', 'random', 'seed=84626', 'data', 'file=/var/folders/g8/89ybwtg53nb272y2m1cv_qnc0000gn/T/tmplosni2kv/u4je3tqc.json', 'init=/var/folders/g8/89ybwtg53nb272y2m1cv_qnc0000gn/T/tmplosni2kv/iszhccfn.json', 'output', 'file=/var/folders/g8/89ybwtg53nb272y2m1cv_qnc0000gn/T/tmplosni2kv/prophet_modellkyugm5f/prophet_model-20240409173001.csv', 'method=optimize', 'algorithm=newton', 'iter=10000']\n",
      "17:30:01 - cmdstanpy - INFO - Chain [1] start processing\n",
      "INFO:cmdstanpy:Chain [1] start processing\n"
     ]
    },
    {
     "name": "stdout",
     "output_type": "stream",
     "text": [
      "\n",
      "Minimum RMSE for Product 4: 195258.513 (DataFrame: original)\n",
      "\n",
      "Product ID: 5\n",
      "\n",
      "original\n"
     ]
    },
    {
     "name": "stderr",
     "output_type": "stream",
     "text": [
      "17:30:02 - cmdstanpy - INFO - Chain [1] done processing\n",
      "INFO:cmdstanpy:Chain [1] done processing\n",
      "DEBUG:cmdstanpy:input tempfile: /var/folders/g8/89ybwtg53nb272y2m1cv_qnc0000gn/T/tmplosni2kv/q69n6h0k.json\n",
      "DEBUG:cmdstanpy:input tempfile: /var/folders/g8/89ybwtg53nb272y2m1cv_qnc0000gn/T/tmplosni2kv/5i32fkp7.json\n",
      "DEBUG:cmdstanpy:idx 0\n",
      "DEBUG:cmdstanpy:running CmdStan, num_threads: None\n",
      "DEBUG:cmdstanpy:CmdStan args: ['/Users/ritamatias/anaconda3/envs/DM2324/lib/python3.11/site-packages/prophet/stan_model/prophet_model.bin', 'random', 'seed=29855', 'data', 'file=/var/folders/g8/89ybwtg53nb272y2m1cv_qnc0000gn/T/tmplosni2kv/q69n6h0k.json', 'init=/var/folders/g8/89ybwtg53nb272y2m1cv_qnc0000gn/T/tmplosni2kv/5i32fkp7.json', 'output', 'file=/var/folders/g8/89ybwtg53nb272y2m1cv_qnc0000gn/T/tmplosni2kv/prophet_modelo5v72vb8/prophet_model-20240409173002.csv', 'method=optimize', 'algorithm=newton', 'iter=10000']\n",
      "17:30:02 - cmdstanpy - INFO - Chain [1] start processing\n",
      "INFO:cmdstanpy:Chain [1] start processing\n",
      "17:30:02 - cmdstanpy - INFO - Chain [1] done processing\n",
      "INFO:cmdstanpy:Chain [1] done processing\n"
     ]
    },
    {
     "name": "stdout",
     "output_type": "stream",
     "text": [
      "\n",
      "lag\n"
     ]
    },
    {
     "name": "stderr",
     "output_type": "stream",
     "text": [
      "DEBUG:cmdstanpy:input tempfile: /var/folders/g8/89ybwtg53nb272y2m1cv_qnc0000gn/T/tmplosni2kv/dkirrbc9.json\n",
      "DEBUG:cmdstanpy:input tempfile: /var/folders/g8/89ybwtg53nb272y2m1cv_qnc0000gn/T/tmplosni2kv/u1toaiuy.json\n",
      "DEBUG:cmdstanpy:idx 0\n",
      "DEBUG:cmdstanpy:running CmdStan, num_threads: None\n",
      "DEBUG:cmdstanpy:CmdStan args: ['/Users/ritamatias/anaconda3/envs/DM2324/lib/python3.11/site-packages/prophet/stan_model/prophet_model.bin', 'random', 'seed=21848', 'data', 'file=/var/folders/g8/89ybwtg53nb272y2m1cv_qnc0000gn/T/tmplosni2kv/dkirrbc9.json', 'init=/var/folders/g8/89ybwtg53nb272y2m1cv_qnc0000gn/T/tmplosni2kv/u1toaiuy.json', 'output', 'file=/var/folders/g8/89ybwtg53nb272y2m1cv_qnc0000gn/T/tmplosni2kv/prophet_modelkm019te_/prophet_model-20240409173002.csv', 'method=optimize', 'algorithm=newton', 'iter=10000']\n",
      "17:30:02 - cmdstanpy - INFO - Chain [1] start processing\n",
      "INFO:cmdstanpy:Chain [1] start processing\n"
     ]
    },
    {
     "name": "stdout",
     "output_type": "stream",
     "text": [
      "\n",
      "outlier\n"
     ]
    },
    {
     "name": "stderr",
     "output_type": "stream",
     "text": [
      "17:30:02 - cmdstanpy - INFO - Chain [1] done processing\n",
      "INFO:cmdstanpy:Chain [1] done processing\n",
      "DEBUG:cmdstanpy:input tempfile: /var/folders/g8/89ybwtg53nb272y2m1cv_qnc0000gn/T/tmplosni2kv/agcqeuf6.json\n",
      "DEBUG:cmdstanpy:input tempfile: /var/folders/g8/89ybwtg53nb272y2m1cv_qnc0000gn/T/tmplosni2kv/ya1n_qw8.json\n",
      "DEBUG:cmdstanpy:idx 0\n",
      "DEBUG:cmdstanpy:running CmdStan, num_threads: None\n",
      "DEBUG:cmdstanpy:CmdStan args: ['/Users/ritamatias/anaconda3/envs/DM2324/lib/python3.11/site-packages/prophet/stan_model/prophet_model.bin', 'random', 'seed=50918', 'data', 'file=/var/folders/g8/89ybwtg53nb272y2m1cv_qnc0000gn/T/tmplosni2kv/agcqeuf6.json', 'init=/var/folders/g8/89ybwtg53nb272y2m1cv_qnc0000gn/T/tmplosni2kv/ya1n_qw8.json', 'output', 'file=/var/folders/g8/89ybwtg53nb272y2m1cv_qnc0000gn/T/tmplosni2kv/prophet_modelxp8a2lwb/prophet_model-20240409173002.csv', 'method=optimize', 'algorithm=newton', 'iter=10000']\n",
      "17:30:02 - cmdstanpy - INFO - Chain [1] start processing\n",
      "INFO:cmdstanpy:Chain [1] start processing\n"
     ]
    },
    {
     "name": "stdout",
     "output_type": "stream",
     "text": [
      "\n",
      "Minimum RMSE for Product 5: 4049232.281 (DataFrame: lag)\n",
      "\n",
      "Product ID: 6\n",
      "\n",
      "original\n"
     ]
    },
    {
     "name": "stderr",
     "output_type": "stream",
     "text": [
      "17:30:02 - cmdstanpy - INFO - Chain [1] done processing\n",
      "INFO:cmdstanpy:Chain [1] done processing\n",
      "DEBUG:cmdstanpy:input tempfile: /var/folders/g8/89ybwtg53nb272y2m1cv_qnc0000gn/T/tmplosni2kv/w17z912_.json\n",
      "DEBUG:cmdstanpy:input tempfile: /var/folders/g8/89ybwtg53nb272y2m1cv_qnc0000gn/T/tmplosni2kv/xvgiw7ac.json\n",
      "DEBUG:cmdstanpy:idx 0\n",
      "DEBUG:cmdstanpy:running CmdStan, num_threads: None\n",
      "DEBUG:cmdstanpy:CmdStan args: ['/Users/ritamatias/anaconda3/envs/DM2324/lib/python3.11/site-packages/prophet/stan_model/prophet_model.bin', 'random', 'seed=52837', 'data', 'file=/var/folders/g8/89ybwtg53nb272y2m1cv_qnc0000gn/T/tmplosni2kv/w17z912_.json', 'init=/var/folders/g8/89ybwtg53nb272y2m1cv_qnc0000gn/T/tmplosni2kv/xvgiw7ac.json', 'output', 'file=/var/folders/g8/89ybwtg53nb272y2m1cv_qnc0000gn/T/tmplosni2kv/prophet_modelgj6vk6uj/prophet_model-20240409173002.csv', 'method=optimize', 'algorithm=newton', 'iter=10000']\n",
      "17:30:02 - cmdstanpy - INFO - Chain [1] start processing\n",
      "INFO:cmdstanpy:Chain [1] start processing\n",
      "17:30:03 - cmdstanpy - INFO - Chain [1] done processing\n",
      "INFO:cmdstanpy:Chain [1] done processing\n"
     ]
    },
    {
     "name": "stdout",
     "output_type": "stream",
     "text": [
      "\n",
      "lag\n"
     ]
    },
    {
     "name": "stderr",
     "output_type": "stream",
     "text": [
      "DEBUG:cmdstanpy:input tempfile: /var/folders/g8/89ybwtg53nb272y2m1cv_qnc0000gn/T/tmplosni2kv/4usuerz6.json\n",
      "DEBUG:cmdstanpy:input tempfile: /var/folders/g8/89ybwtg53nb272y2m1cv_qnc0000gn/T/tmplosni2kv/6e486gav.json\n",
      "DEBUG:cmdstanpy:idx 0\n",
      "DEBUG:cmdstanpy:running CmdStan, num_threads: None\n",
      "DEBUG:cmdstanpy:CmdStan args: ['/Users/ritamatias/anaconda3/envs/DM2324/lib/python3.11/site-packages/prophet/stan_model/prophet_model.bin', 'random', 'seed=33363', 'data', 'file=/var/folders/g8/89ybwtg53nb272y2m1cv_qnc0000gn/T/tmplosni2kv/4usuerz6.json', 'init=/var/folders/g8/89ybwtg53nb272y2m1cv_qnc0000gn/T/tmplosni2kv/6e486gav.json', 'output', 'file=/var/folders/g8/89ybwtg53nb272y2m1cv_qnc0000gn/T/tmplosni2kv/prophet_model5wwb3zod/prophet_model-20240409173003.csv', 'method=optimize', 'algorithm=newton', 'iter=10000']\n",
      "17:30:03 - cmdstanpy - INFO - Chain [1] start processing\n",
      "INFO:cmdstanpy:Chain [1] start processing\n"
     ]
    },
    {
     "name": "stdout",
     "output_type": "stream",
     "text": [
      "\n",
      "outlier\n"
     ]
    },
    {
     "name": "stderr",
     "output_type": "stream",
     "text": [
      "17:30:03 - cmdstanpy - INFO - Chain [1] done processing\n",
      "INFO:cmdstanpy:Chain [1] done processing\n",
      "DEBUG:cmdstanpy:input tempfile: /var/folders/g8/89ybwtg53nb272y2m1cv_qnc0000gn/T/tmplosni2kv/f_a7a2c3.json\n",
      "DEBUG:cmdstanpy:input tempfile: /var/folders/g8/89ybwtg53nb272y2m1cv_qnc0000gn/T/tmplosni2kv/boj55igw.json\n",
      "DEBUG:cmdstanpy:idx 0\n",
      "DEBUG:cmdstanpy:running CmdStan, num_threads: None\n",
      "DEBUG:cmdstanpy:CmdStan args: ['/Users/ritamatias/anaconda3/envs/DM2324/lib/python3.11/site-packages/prophet/stan_model/prophet_model.bin', 'random', 'seed=22035', 'data', 'file=/var/folders/g8/89ybwtg53nb272y2m1cv_qnc0000gn/T/tmplosni2kv/f_a7a2c3.json', 'init=/var/folders/g8/89ybwtg53nb272y2m1cv_qnc0000gn/T/tmplosni2kv/boj55igw.json', 'output', 'file=/var/folders/g8/89ybwtg53nb272y2m1cv_qnc0000gn/T/tmplosni2kv/prophet_modelyxzenkp2/prophet_model-20240409173003.csv', 'method=optimize', 'algorithm=newton', 'iter=10000']\n",
      "17:30:03 - cmdstanpy - INFO - Chain [1] start processing\n",
      "INFO:cmdstanpy:Chain [1] start processing\n"
     ]
    },
    {
     "name": "stdout",
     "output_type": "stream",
     "text": [
      "\n",
      "Minimum RMSE for Product 6: 281802.000 (DataFrame: original)\n",
      "\n",
      "Product ID: 8\n",
      "\n",
      "original\n"
     ]
    },
    {
     "name": "stderr",
     "output_type": "stream",
     "text": [
      "17:30:03 - cmdstanpy - INFO - Chain [1] done processing\n",
      "INFO:cmdstanpy:Chain [1] done processing\n",
      "DEBUG:cmdstanpy:input tempfile: /var/folders/g8/89ybwtg53nb272y2m1cv_qnc0000gn/T/tmplosni2kv/ui_9qrx4.json\n",
      "DEBUG:cmdstanpy:input tempfile: /var/folders/g8/89ybwtg53nb272y2m1cv_qnc0000gn/T/tmplosni2kv/zj4yef20.json\n",
      "DEBUG:cmdstanpy:idx 0\n",
      "DEBUG:cmdstanpy:running CmdStan, num_threads: None\n",
      "DEBUG:cmdstanpy:CmdStan args: ['/Users/ritamatias/anaconda3/envs/DM2324/lib/python3.11/site-packages/prophet/stan_model/prophet_model.bin', 'random', 'seed=36153', 'data', 'file=/var/folders/g8/89ybwtg53nb272y2m1cv_qnc0000gn/T/tmplosni2kv/ui_9qrx4.json', 'init=/var/folders/g8/89ybwtg53nb272y2m1cv_qnc0000gn/T/tmplosni2kv/zj4yef20.json', 'output', 'file=/var/folders/g8/89ybwtg53nb272y2m1cv_qnc0000gn/T/tmplosni2kv/prophet_model6jwnwax8/prophet_model-20240409173003.csv', 'method=optimize', 'algorithm=newton', 'iter=10000']\n",
      "17:30:03 - cmdstanpy - INFO - Chain [1] start processing\n",
      "INFO:cmdstanpy:Chain [1] start processing\n"
     ]
    },
    {
     "name": "stdout",
     "output_type": "stream",
     "text": [
      "\n",
      "lag\n"
     ]
    },
    {
     "name": "stderr",
     "output_type": "stream",
     "text": [
      "17:30:03 - cmdstanpy - INFO - Chain [1] done processing\n",
      "INFO:cmdstanpy:Chain [1] done processing\n",
      "DEBUG:cmdstanpy:input tempfile: /var/folders/g8/89ybwtg53nb272y2m1cv_qnc0000gn/T/tmplosni2kv/uvoe5nyr.json\n",
      "DEBUG:cmdstanpy:input tempfile: /var/folders/g8/89ybwtg53nb272y2m1cv_qnc0000gn/T/tmplosni2kv/yclajnva.json\n",
      "DEBUG:cmdstanpy:idx 0\n",
      "DEBUG:cmdstanpy:running CmdStan, num_threads: None\n",
      "DEBUG:cmdstanpy:CmdStan args: ['/Users/ritamatias/anaconda3/envs/DM2324/lib/python3.11/site-packages/prophet/stan_model/prophet_model.bin', 'random', 'seed=28012', 'data', 'file=/var/folders/g8/89ybwtg53nb272y2m1cv_qnc0000gn/T/tmplosni2kv/uvoe5nyr.json', 'init=/var/folders/g8/89ybwtg53nb272y2m1cv_qnc0000gn/T/tmplosni2kv/yclajnva.json', 'output', 'file=/var/folders/g8/89ybwtg53nb272y2m1cv_qnc0000gn/T/tmplosni2kv/prophet_modeljteenbbi/prophet_model-20240409173003.csv', 'method=optimize', 'algorithm=newton', 'iter=10000']\n",
      "17:30:03 - cmdstanpy - INFO - Chain [1] start processing\n",
      "INFO:cmdstanpy:Chain [1] start processing\n"
     ]
    },
    {
     "name": "stdout",
     "output_type": "stream",
     "text": [
      "\n",
      "outlier\n"
     ]
    },
    {
     "name": "stderr",
     "output_type": "stream",
     "text": [
      "17:30:04 - cmdstanpy - INFO - Chain [1] done processing\n",
      "INFO:cmdstanpy:Chain [1] done processing\n",
      "DEBUG:cmdstanpy:input tempfile: /var/folders/g8/89ybwtg53nb272y2m1cv_qnc0000gn/T/tmplosni2kv/zjymw0q7.json\n",
      "DEBUG:cmdstanpy:input tempfile: /var/folders/g8/89ybwtg53nb272y2m1cv_qnc0000gn/T/tmplosni2kv/_lgr1ton.json\n",
      "DEBUG:cmdstanpy:idx 0\n",
      "DEBUG:cmdstanpy:running CmdStan, num_threads: None\n",
      "DEBUG:cmdstanpy:CmdStan args: ['/Users/ritamatias/anaconda3/envs/DM2324/lib/python3.11/site-packages/prophet/stan_model/prophet_model.bin', 'random', 'seed=10205', 'data', 'file=/var/folders/g8/89ybwtg53nb272y2m1cv_qnc0000gn/T/tmplosni2kv/zjymw0q7.json', 'init=/var/folders/g8/89ybwtg53nb272y2m1cv_qnc0000gn/T/tmplosni2kv/_lgr1ton.json', 'output', 'file=/var/folders/g8/89ybwtg53nb272y2m1cv_qnc0000gn/T/tmplosni2kv/prophet_modelipy3daks/prophet_model-20240409173004.csv', 'method=optimize', 'algorithm=newton', 'iter=10000']\n",
      "17:30:04 - cmdstanpy - INFO - Chain [1] start processing\n",
      "INFO:cmdstanpy:Chain [1] start processing\n",
      "17:30:04 - cmdstanpy - INFO - Chain [1] done processing\n",
      "INFO:cmdstanpy:Chain [1] done processing\n"
     ]
    },
    {
     "name": "stdout",
     "output_type": "stream",
     "text": [
      "\n",
      "Minimum RMSE for Product 8: 610963.283 (DataFrame: lag)\n",
      "\n",
      "Product ID: 9\n",
      "\n",
      "original\n",
      "\n",
      "lag\n"
     ]
    },
    {
     "name": "stderr",
     "output_type": "stream",
     "text": [
      "DEBUG:cmdstanpy:input tempfile: /var/folders/g8/89ybwtg53nb272y2m1cv_qnc0000gn/T/tmplosni2kv/23rohms6.json\n",
      "DEBUG:cmdstanpy:input tempfile: /var/folders/g8/89ybwtg53nb272y2m1cv_qnc0000gn/T/tmplosni2kv/1pjutpmv.json\n",
      "DEBUG:cmdstanpy:idx 0\n",
      "DEBUG:cmdstanpy:running CmdStan, num_threads: None\n",
      "DEBUG:cmdstanpy:CmdStan args: ['/Users/ritamatias/anaconda3/envs/DM2324/lib/python3.11/site-packages/prophet/stan_model/prophet_model.bin', 'random', 'seed=53139', 'data', 'file=/var/folders/g8/89ybwtg53nb272y2m1cv_qnc0000gn/T/tmplosni2kv/23rohms6.json', 'init=/var/folders/g8/89ybwtg53nb272y2m1cv_qnc0000gn/T/tmplosni2kv/1pjutpmv.json', 'output', 'file=/var/folders/g8/89ybwtg53nb272y2m1cv_qnc0000gn/T/tmplosni2kv/prophet_modelqpymhxo2/prophet_model-20240409173004.csv', 'method=optimize', 'algorithm=newton', 'iter=10000']\n",
      "17:30:04 - cmdstanpy - INFO - Chain [1] start processing\n",
      "INFO:cmdstanpy:Chain [1] start processing\n",
      "17:30:04 - cmdstanpy - INFO - Chain [1] done processing\n",
      "INFO:cmdstanpy:Chain [1] done processing\n",
      "DEBUG:cmdstanpy:input tempfile: /var/folders/g8/89ybwtg53nb272y2m1cv_qnc0000gn/T/tmplosni2kv/kqf2pp44.json\n",
      "DEBUG:cmdstanpy:input tempfile: /var/folders/g8/89ybwtg53nb272y2m1cv_qnc0000gn/T/tmplosni2kv/4mlrh3me.json\n",
      "DEBUG:cmdstanpy:idx 0\n",
      "DEBUG:cmdstanpy:running CmdStan, num_threads: None\n",
      "DEBUG:cmdstanpy:CmdStan args: ['/Users/ritamatias/anaconda3/envs/DM2324/lib/python3.11/site-packages/prophet/stan_model/prophet_model.bin', 'random', 'seed=89281', 'data', 'file=/var/folders/g8/89ybwtg53nb272y2m1cv_qnc0000gn/T/tmplosni2kv/kqf2pp44.json', 'init=/var/folders/g8/89ybwtg53nb272y2m1cv_qnc0000gn/T/tmplosni2kv/4mlrh3me.json', 'output', 'file=/var/folders/g8/89ybwtg53nb272y2m1cv_qnc0000gn/T/tmplosni2kv/prophet_modeltp4t79fx/prophet_model-20240409173004.csv', 'method=optimize', 'algorithm=newton', 'iter=10000']\n",
      "17:30:04 - cmdstanpy - INFO - Chain [1] start processing\n",
      "INFO:cmdstanpy:Chain [1] start processing\n",
      "17:30:04 - cmdstanpy - INFO - Chain [1] done processing\n",
      "INFO:cmdstanpy:Chain [1] done processing\n"
     ]
    },
    {
     "name": "stdout",
     "output_type": "stream",
     "text": [
      "\n",
      "outlier\n",
      "\n",
      "Minimum RMSE for Product 9: 8852.540 (DataFrame: outlier)\n",
      "\n",
      "Product ID: 11\n",
      "\n",
      "original\n"
     ]
    },
    {
     "name": "stderr",
     "output_type": "stream",
     "text": [
      "DEBUG:cmdstanpy:input tempfile: /var/folders/g8/89ybwtg53nb272y2m1cv_qnc0000gn/T/tmplosni2kv/284jll15.json\n",
      "DEBUG:cmdstanpy:input tempfile: /var/folders/g8/89ybwtg53nb272y2m1cv_qnc0000gn/T/tmplosni2kv/g213y4dl.json\n",
      "DEBUG:cmdstanpy:idx 0\n",
      "DEBUG:cmdstanpy:running CmdStan, num_threads: None\n",
      "DEBUG:cmdstanpy:CmdStan args: ['/Users/ritamatias/anaconda3/envs/DM2324/lib/python3.11/site-packages/prophet/stan_model/prophet_model.bin', 'random', 'seed=17560', 'data', 'file=/var/folders/g8/89ybwtg53nb272y2m1cv_qnc0000gn/T/tmplosni2kv/284jll15.json', 'init=/var/folders/g8/89ybwtg53nb272y2m1cv_qnc0000gn/T/tmplosni2kv/g213y4dl.json', 'output', 'file=/var/folders/g8/89ybwtg53nb272y2m1cv_qnc0000gn/T/tmplosni2kv/prophet_modelnwhr_k61/prophet_model-20240409173004.csv', 'method=optimize', 'algorithm=newton', 'iter=10000']\n",
      "17:30:04 - cmdstanpy - INFO - Chain [1] start processing\n",
      "INFO:cmdstanpy:Chain [1] start processing\n",
      "17:30:05 - cmdstanpy - INFO - Chain [1] done processing\n",
      "INFO:cmdstanpy:Chain [1] done processing\n",
      "DEBUG:cmdstanpy:input tempfile: /var/folders/g8/89ybwtg53nb272y2m1cv_qnc0000gn/T/tmplosni2kv/mpnf7vo7.json\n",
      "DEBUG:cmdstanpy:input tempfile: /var/folders/g8/89ybwtg53nb272y2m1cv_qnc0000gn/T/tmplosni2kv/k9tls5f5.json\n",
      "DEBUG:cmdstanpy:idx 0\n",
      "DEBUG:cmdstanpy:running CmdStan, num_threads: None\n",
      "DEBUG:cmdstanpy:CmdStan args: ['/Users/ritamatias/anaconda3/envs/DM2324/lib/python3.11/site-packages/prophet/stan_model/prophet_model.bin', 'random', 'seed=88475', 'data', 'file=/var/folders/g8/89ybwtg53nb272y2m1cv_qnc0000gn/T/tmplosni2kv/mpnf7vo7.json', 'init=/var/folders/g8/89ybwtg53nb272y2m1cv_qnc0000gn/T/tmplosni2kv/k9tls5f5.json', 'output', 'file=/var/folders/g8/89ybwtg53nb272y2m1cv_qnc0000gn/T/tmplosni2kv/prophet_modelfyiyzamr/prophet_model-20240409173005.csv', 'method=optimize', 'algorithm=newton', 'iter=10000']\n",
      "17:30:05 - cmdstanpy - INFO - Chain [1] start processing\n",
      "INFO:cmdstanpy:Chain [1] start processing\n",
      "17:30:05 - cmdstanpy - INFO - Chain [1] done processing\n",
      "INFO:cmdstanpy:Chain [1] done processing\n",
      "DEBUG:cmdstanpy:input tempfile: /var/folders/g8/89ybwtg53nb272y2m1cv_qnc0000gn/T/tmplosni2kv/xcsjc350.json\n",
      "DEBUG:cmdstanpy:input tempfile: /var/folders/g8/89ybwtg53nb272y2m1cv_qnc0000gn/T/tmplosni2kv/3dto74xv.json\n",
      "DEBUG:cmdstanpy:idx 0\n",
      "DEBUG:cmdstanpy:running CmdStan, num_threads: None\n"
     ]
    },
    {
     "name": "stdout",
     "output_type": "stream",
     "text": [
      "\n",
      "lag\n",
      "\n",
      "outlier\n"
     ]
    },
    {
     "name": "stderr",
     "output_type": "stream",
     "text": [
      "DEBUG:cmdstanpy:CmdStan args: ['/Users/ritamatias/anaconda3/envs/DM2324/lib/python3.11/site-packages/prophet/stan_model/prophet_model.bin', 'random', 'seed=28728', 'data', 'file=/var/folders/g8/89ybwtg53nb272y2m1cv_qnc0000gn/T/tmplosni2kv/xcsjc350.json', 'init=/var/folders/g8/89ybwtg53nb272y2m1cv_qnc0000gn/T/tmplosni2kv/3dto74xv.json', 'output', 'file=/var/folders/g8/89ybwtg53nb272y2m1cv_qnc0000gn/T/tmplosni2kv/prophet_model2rsdkamf/prophet_model-20240409173005.csv', 'method=optimize', 'algorithm=newton', 'iter=10000']\n",
      "17:30:05 - cmdstanpy - INFO - Chain [1] start processing\n",
      "INFO:cmdstanpy:Chain [1] start processing\n",
      "17:30:05 - cmdstanpy - INFO - Chain [1] done processing\n",
      "INFO:cmdstanpy:Chain [1] done processing\n",
      "DEBUG:cmdstanpy:input tempfile: /var/folders/g8/89ybwtg53nb272y2m1cv_qnc0000gn/T/tmplosni2kv/71rb9ziw.json\n",
      "DEBUG:cmdstanpy:input tempfile: /var/folders/g8/89ybwtg53nb272y2m1cv_qnc0000gn/T/tmplosni2kv/vyf9qwlt.json\n",
      "DEBUG:cmdstanpy:idx 0\n",
      "DEBUG:cmdstanpy:running CmdStan, num_threads: None\n",
      "DEBUG:cmdstanpy:CmdStan args: ['/Users/ritamatias/anaconda3/envs/DM2324/lib/python3.11/site-packages/prophet/stan_model/prophet_model.bin', 'random', 'seed=63046', 'data', 'file=/var/folders/g8/89ybwtg53nb272y2m1cv_qnc0000gn/T/tmplosni2kv/71rb9ziw.json', 'init=/var/folders/g8/89ybwtg53nb272y2m1cv_qnc0000gn/T/tmplosni2kv/vyf9qwlt.json', 'output', 'file=/var/folders/g8/89ybwtg53nb272y2m1cv_qnc0000gn/T/tmplosni2kv/prophet_modeluvibibh_/prophet_model-20240409173005.csv', 'method=optimize', 'algorithm=newton', 'iter=10000']\n",
      "17:30:05 - cmdstanpy - INFO - Chain [1] start processing\n",
      "INFO:cmdstanpy:Chain [1] start processing\n",
      "17:30:05 - cmdstanpy - INFO - Chain [1] done processing\n",
      "INFO:cmdstanpy:Chain [1] done processing\n",
      "DEBUG:cmdstanpy:input tempfile: /var/folders/g8/89ybwtg53nb272y2m1cv_qnc0000gn/T/tmplosni2kv/5557o02s.json\n",
      "DEBUG:cmdstanpy:input tempfile: /var/folders/g8/89ybwtg53nb272y2m1cv_qnc0000gn/T/tmplosni2kv/retrf39l.json\n",
      "DEBUG:cmdstanpy:idx 0\n",
      "DEBUG:cmdstanpy:running CmdStan, num_threads: None\n",
      "DEBUG:cmdstanpy:CmdStan args: ['/Users/ritamatias/anaconda3/envs/DM2324/lib/python3.11/site-packages/prophet/stan_model/prophet_model.bin', 'random', 'seed=38505', 'data', 'file=/var/folders/g8/89ybwtg53nb272y2m1cv_qnc0000gn/T/tmplosni2kv/5557o02s.json', 'init=/var/folders/g8/89ybwtg53nb272y2m1cv_qnc0000gn/T/tmplosni2kv/retrf39l.json', 'output', 'file=/var/folders/g8/89ybwtg53nb272y2m1cv_qnc0000gn/T/tmplosni2kv/prophet_modelv36cyv_0/prophet_model-20240409173005.csv', 'method=optimize', 'algorithm=newton', 'iter=10000']\n",
      "17:30:05 - cmdstanpy - INFO - Chain [1] start processing\n",
      "INFO:cmdstanpy:Chain [1] start processing\n"
     ]
    },
    {
     "name": "stdout",
     "output_type": "stream",
     "text": [
      "\n",
      "Minimum RMSE for Product 11: 780346.628 (DataFrame: original)\n",
      "\n",
      "Product ID: 12\n",
      "\n",
      "original\n",
      "\n",
      "lag\n"
     ]
    },
    {
     "name": "stderr",
     "output_type": "stream",
     "text": [
      "17:30:05 - cmdstanpy - INFO - Chain [1] done processing\n",
      "INFO:cmdstanpy:Chain [1] done processing\n",
      "DEBUG:cmdstanpy:input tempfile: /var/folders/g8/89ybwtg53nb272y2m1cv_qnc0000gn/T/tmplosni2kv/nual1xti.json\n",
      "DEBUG:cmdstanpy:input tempfile: /var/folders/g8/89ybwtg53nb272y2m1cv_qnc0000gn/T/tmplosni2kv/y12nfg42.json\n",
      "DEBUG:cmdstanpy:idx 0\n",
      "DEBUG:cmdstanpy:running CmdStan, num_threads: None\n",
      "DEBUG:cmdstanpy:CmdStan args: ['/Users/ritamatias/anaconda3/envs/DM2324/lib/python3.11/site-packages/prophet/stan_model/prophet_model.bin', 'random', 'seed=15630', 'data', 'file=/var/folders/g8/89ybwtg53nb272y2m1cv_qnc0000gn/T/tmplosni2kv/nual1xti.json', 'init=/var/folders/g8/89ybwtg53nb272y2m1cv_qnc0000gn/T/tmplosni2kv/y12nfg42.json', 'output', 'file=/var/folders/g8/89ybwtg53nb272y2m1cv_qnc0000gn/T/tmplosni2kv/prophet_models_tr4rg2/prophet_model-20240409173005.csv', 'method=optimize', 'algorithm=newton', 'iter=10000']\n",
      "17:30:05 - cmdstanpy - INFO - Chain [1] start processing\n",
      "INFO:cmdstanpy:Chain [1] start processing\n",
      "17:30:05 - cmdstanpy - INFO - Chain [1] done processing\n",
      "INFO:cmdstanpy:Chain [1] done processing\n",
      "DEBUG:cmdstanpy:input tempfile: /var/folders/g8/89ybwtg53nb272y2m1cv_qnc0000gn/T/tmplosni2kv/cv3e5m3g.json\n",
      "DEBUG:cmdstanpy:input tempfile: /var/folders/g8/89ybwtg53nb272y2m1cv_qnc0000gn/T/tmplosni2kv/6l36_vjh.json\n",
      "DEBUG:cmdstanpy:idx 0\n",
      "DEBUG:cmdstanpy:running CmdStan, num_threads: None\n",
      "DEBUG:cmdstanpy:CmdStan args: ['/Users/ritamatias/anaconda3/envs/DM2324/lib/python3.11/site-packages/prophet/stan_model/prophet_model.bin', 'random', 'seed=51115', 'data', 'file=/var/folders/g8/89ybwtg53nb272y2m1cv_qnc0000gn/T/tmplosni2kv/cv3e5m3g.json', 'init=/var/folders/g8/89ybwtg53nb272y2m1cv_qnc0000gn/T/tmplosni2kv/6l36_vjh.json', 'output', 'file=/var/folders/g8/89ybwtg53nb272y2m1cv_qnc0000gn/T/tmplosni2kv/prophet_models7bdg891/prophet_model-20240409173005.csv', 'method=optimize', 'algorithm=newton', 'iter=10000']\n",
      "17:30:05 - cmdstanpy - INFO - Chain [1] start processing\n",
      "INFO:cmdstanpy:Chain [1] start processing\n"
     ]
    },
    {
     "name": "stdout",
     "output_type": "stream",
     "text": [
      "\n",
      "outlier\n",
      "\n",
      "Minimum RMSE for Product 12: 120494.566 (DataFrame: lag)\n",
      "\n",
      "Product ID: 13\n",
      "\n",
      "original\n"
     ]
    },
    {
     "name": "stderr",
     "output_type": "stream",
     "text": [
      "17:30:06 - cmdstanpy - INFO - Chain [1] done processing\n",
      "INFO:cmdstanpy:Chain [1] done processing\n",
      "DEBUG:cmdstanpy:input tempfile: /var/folders/g8/89ybwtg53nb272y2m1cv_qnc0000gn/T/tmplosni2kv/uom76xmw.json\n",
      "DEBUG:cmdstanpy:input tempfile: /var/folders/g8/89ybwtg53nb272y2m1cv_qnc0000gn/T/tmplosni2kv/bcncenv5.json\n",
      "DEBUG:cmdstanpy:idx 0\n",
      "DEBUG:cmdstanpy:running CmdStan, num_threads: None\n",
      "DEBUG:cmdstanpy:CmdStan args: ['/Users/ritamatias/anaconda3/envs/DM2324/lib/python3.11/site-packages/prophet/stan_model/prophet_model.bin', 'random', 'seed=69745', 'data', 'file=/var/folders/g8/89ybwtg53nb272y2m1cv_qnc0000gn/T/tmplosni2kv/uom76xmw.json', 'init=/var/folders/g8/89ybwtg53nb272y2m1cv_qnc0000gn/T/tmplosni2kv/bcncenv5.json', 'output', 'file=/var/folders/g8/89ybwtg53nb272y2m1cv_qnc0000gn/T/tmplosni2kv/prophet_modelof0f_pax/prophet_model-20240409173006.csv', 'method=optimize', 'algorithm=newton', 'iter=10000']\n",
      "17:30:06 - cmdstanpy - INFO - Chain [1] start processing\n",
      "INFO:cmdstanpy:Chain [1] start processing\n",
      "17:30:06 - cmdstanpy - INFO - Chain [1] done processing\n",
      "INFO:cmdstanpy:Chain [1] done processing\n"
     ]
    },
    {
     "name": "stdout",
     "output_type": "stream",
     "text": [
      "\n",
      "lag\n"
     ]
    },
    {
     "name": "stderr",
     "output_type": "stream",
     "text": [
      "DEBUG:cmdstanpy:input tempfile: /var/folders/g8/89ybwtg53nb272y2m1cv_qnc0000gn/T/tmplosni2kv/rtxbyeqb.json\n",
      "DEBUG:cmdstanpy:input tempfile: /var/folders/g8/89ybwtg53nb272y2m1cv_qnc0000gn/T/tmplosni2kv/kkiq99ld.json\n",
      "DEBUG:cmdstanpy:idx 0\n",
      "DEBUG:cmdstanpy:running CmdStan, num_threads: None\n",
      "DEBUG:cmdstanpy:CmdStan args: ['/Users/ritamatias/anaconda3/envs/DM2324/lib/python3.11/site-packages/prophet/stan_model/prophet_model.bin', 'random', 'seed=39380', 'data', 'file=/var/folders/g8/89ybwtg53nb272y2m1cv_qnc0000gn/T/tmplosni2kv/rtxbyeqb.json', 'init=/var/folders/g8/89ybwtg53nb272y2m1cv_qnc0000gn/T/tmplosni2kv/kkiq99ld.json', 'output', 'file=/var/folders/g8/89ybwtg53nb272y2m1cv_qnc0000gn/T/tmplosni2kv/prophet_modeloa11_pwi/prophet_model-20240409173006.csv', 'method=optimize', 'algorithm=newton', 'iter=10000']\n",
      "17:30:06 - cmdstanpy - INFO - Chain [1] start processing\n",
      "INFO:cmdstanpy:Chain [1] start processing\n",
      "17:30:06 - cmdstanpy - INFO - Chain [1] done processing\n",
      "INFO:cmdstanpy:Chain [1] done processing\n"
     ]
    },
    {
     "name": "stdout",
     "output_type": "stream",
     "text": [
      "\n",
      "outlier\n"
     ]
    },
    {
     "name": "stderr",
     "output_type": "stream",
     "text": [
      "DEBUG:cmdstanpy:input tempfile: /var/folders/g8/89ybwtg53nb272y2m1cv_qnc0000gn/T/tmplosni2kv/64unvstu.json\n",
      "DEBUG:cmdstanpy:input tempfile: /var/folders/g8/89ybwtg53nb272y2m1cv_qnc0000gn/T/tmplosni2kv/crbfi9h7.json\n",
      "DEBUG:cmdstanpy:idx 0\n",
      "DEBUG:cmdstanpy:running CmdStan, num_threads: None\n",
      "DEBUG:cmdstanpy:CmdStan args: ['/Users/ritamatias/anaconda3/envs/DM2324/lib/python3.11/site-packages/prophet/stan_model/prophet_model.bin', 'random', 'seed=17598', 'data', 'file=/var/folders/g8/89ybwtg53nb272y2m1cv_qnc0000gn/T/tmplosni2kv/64unvstu.json', 'init=/var/folders/g8/89ybwtg53nb272y2m1cv_qnc0000gn/T/tmplosni2kv/crbfi9h7.json', 'output', 'file=/var/folders/g8/89ybwtg53nb272y2m1cv_qnc0000gn/T/tmplosni2kv/prophet_model4stzqgc9/prophet_model-20240409173006.csv', 'method=optimize', 'algorithm=newton', 'iter=10000']\n",
      "17:30:06 - cmdstanpy - INFO - Chain [1] start processing\n",
      "INFO:cmdstanpy:Chain [1] start processing\n",
      "17:30:06 - cmdstanpy - INFO - Chain [1] done processing\n",
      "INFO:cmdstanpy:Chain [1] done processing\n"
     ]
    },
    {
     "name": "stdout",
     "output_type": "stream",
     "text": [
      "\n",
      "Minimum RMSE for Product 13: 17281.824 (DataFrame: original)\n",
      "\n",
      "Product ID: 14\n",
      "\n",
      "original\n"
     ]
    },
    {
     "name": "stderr",
     "output_type": "stream",
     "text": [
      "DEBUG:cmdstanpy:input tempfile: /var/folders/g8/89ybwtg53nb272y2m1cv_qnc0000gn/T/tmplosni2kv/1dyi61uh.json\n",
      "DEBUG:cmdstanpy:input tempfile: /var/folders/g8/89ybwtg53nb272y2m1cv_qnc0000gn/T/tmplosni2kv/rjpcpp_2.json\n",
      "DEBUG:cmdstanpy:idx 0\n",
      "DEBUG:cmdstanpy:running CmdStan, num_threads: None\n",
      "DEBUG:cmdstanpy:CmdStan args: ['/Users/ritamatias/anaconda3/envs/DM2324/lib/python3.11/site-packages/prophet/stan_model/prophet_model.bin', 'random', 'seed=72088', 'data', 'file=/var/folders/g8/89ybwtg53nb272y2m1cv_qnc0000gn/T/tmplosni2kv/1dyi61uh.json', 'init=/var/folders/g8/89ybwtg53nb272y2m1cv_qnc0000gn/T/tmplosni2kv/rjpcpp_2.json', 'output', 'file=/var/folders/g8/89ybwtg53nb272y2m1cv_qnc0000gn/T/tmplosni2kv/prophet_model497eoa7m/prophet_model-20240409173006.csv', 'method=optimize', 'algorithm=newton', 'iter=10000']\n",
      "17:30:06 - cmdstanpy - INFO - Chain [1] start processing\n",
      "INFO:cmdstanpy:Chain [1] start processing\n",
      "17:30:06 - cmdstanpy - INFO - Chain [1] done processing\n",
      "INFO:cmdstanpy:Chain [1] done processing\n",
      "DEBUG:cmdstanpy:input tempfile: /var/folders/g8/89ybwtg53nb272y2m1cv_qnc0000gn/T/tmplosni2kv/cmh80q3s.json\n"
     ]
    },
    {
     "name": "stdout",
     "output_type": "stream",
     "text": [
      "\n",
      "lag\n",
      "\n",
      "outlier\n"
     ]
    },
    {
     "name": "stderr",
     "output_type": "stream",
     "text": [
      "DEBUG:cmdstanpy:input tempfile: /var/folders/g8/89ybwtg53nb272y2m1cv_qnc0000gn/T/tmplosni2kv/50y8n6uw.json\n",
      "DEBUG:cmdstanpy:idx 0\n",
      "DEBUG:cmdstanpy:running CmdStan, num_threads: None\n",
      "DEBUG:cmdstanpy:CmdStan args: ['/Users/ritamatias/anaconda3/envs/DM2324/lib/python3.11/site-packages/prophet/stan_model/prophet_model.bin', 'random', 'seed=85203', 'data', 'file=/var/folders/g8/89ybwtg53nb272y2m1cv_qnc0000gn/T/tmplosni2kv/cmh80q3s.json', 'init=/var/folders/g8/89ybwtg53nb272y2m1cv_qnc0000gn/T/tmplosni2kv/50y8n6uw.json', 'output', 'file=/var/folders/g8/89ybwtg53nb272y2m1cv_qnc0000gn/T/tmplosni2kv/prophet_modelnyclgzl1/prophet_model-20240409173007.csv', 'method=optimize', 'algorithm=newton', 'iter=10000']\n",
      "17:30:07 - cmdstanpy - INFO - Chain [1] start processing\n",
      "INFO:cmdstanpy:Chain [1] start processing\n",
      "17:30:07 - cmdstanpy - INFO - Chain [1] done processing\n",
      "INFO:cmdstanpy:Chain [1] done processing\n",
      "DEBUG:cmdstanpy:input tempfile: /var/folders/g8/89ybwtg53nb272y2m1cv_qnc0000gn/T/tmplosni2kv/4al839yx.json\n",
      "DEBUG:cmdstanpy:input tempfile: /var/folders/g8/89ybwtg53nb272y2m1cv_qnc0000gn/T/tmplosni2kv/i50ntahl.json\n",
      "DEBUG:cmdstanpy:idx 0\n",
      "DEBUG:cmdstanpy:running CmdStan, num_threads: None\n",
      "DEBUG:cmdstanpy:CmdStan args: ['/Users/ritamatias/anaconda3/envs/DM2324/lib/python3.11/site-packages/prophet/stan_model/prophet_model.bin', 'random', 'seed=87475', 'data', 'file=/var/folders/g8/89ybwtg53nb272y2m1cv_qnc0000gn/T/tmplosni2kv/4al839yx.json', 'init=/var/folders/g8/89ybwtg53nb272y2m1cv_qnc0000gn/T/tmplosni2kv/i50ntahl.json', 'output', 'file=/var/folders/g8/89ybwtg53nb272y2m1cv_qnc0000gn/T/tmplosni2kv/prophet_model45s6dmkr/prophet_model-20240409173007.csv', 'method=optimize', 'algorithm=newton', 'iter=10000']\n",
      "17:30:07 - cmdstanpy - INFO - Chain [1] start processing\n",
      "INFO:cmdstanpy:Chain [1] start processing\n",
      "17:30:07 - cmdstanpy - INFO - Chain [1] done processing\n",
      "INFO:cmdstanpy:Chain [1] done processing\n"
     ]
    },
    {
     "name": "stdout",
     "output_type": "stream",
     "text": [
      "\n",
      "Minimum RMSE for Product 14: 17703.230 (DataFrame: lag)\n",
      "\n",
      "Product ID: 16\n",
      "\n",
      "original\n"
     ]
    },
    {
     "name": "stderr",
     "output_type": "stream",
     "text": [
      "DEBUG:cmdstanpy:input tempfile: /var/folders/g8/89ybwtg53nb272y2m1cv_qnc0000gn/T/tmplosni2kv/l5avtpx_.json\n",
      "DEBUG:cmdstanpy:input tempfile: /var/folders/g8/89ybwtg53nb272y2m1cv_qnc0000gn/T/tmplosni2kv/4_p39d0y.json\n",
      "DEBUG:cmdstanpy:idx 0\n",
      "DEBUG:cmdstanpy:running CmdStan, num_threads: None\n",
      "DEBUG:cmdstanpy:CmdStan args: ['/Users/ritamatias/anaconda3/envs/DM2324/lib/python3.11/site-packages/prophet/stan_model/prophet_model.bin', 'random', 'seed=46278', 'data', 'file=/var/folders/g8/89ybwtg53nb272y2m1cv_qnc0000gn/T/tmplosni2kv/l5avtpx_.json', 'init=/var/folders/g8/89ybwtg53nb272y2m1cv_qnc0000gn/T/tmplosni2kv/4_p39d0y.json', 'output', 'file=/var/folders/g8/89ybwtg53nb272y2m1cv_qnc0000gn/T/tmplosni2kv/prophet_modelcs1ti_n_/prophet_model-20240409173007.csv', 'method=optimize', 'algorithm=newton', 'iter=10000']\n",
      "17:30:07 - cmdstanpy - INFO - Chain [1] start processing\n",
      "INFO:cmdstanpy:Chain [1] start processing\n",
      "17:30:07 - cmdstanpy - INFO - Chain [1] done processing\n",
      "INFO:cmdstanpy:Chain [1] done processing\n"
     ]
    },
    {
     "name": "stdout",
     "output_type": "stream",
     "text": [
      "\n",
      "lag\n",
      "\n",
      "outlier\n"
     ]
    },
    {
     "name": "stderr",
     "output_type": "stream",
     "text": [
      "DEBUG:cmdstanpy:input tempfile: /var/folders/g8/89ybwtg53nb272y2m1cv_qnc0000gn/T/tmplosni2kv/x82us509.json\n",
      "DEBUG:cmdstanpy:input tempfile: /var/folders/g8/89ybwtg53nb272y2m1cv_qnc0000gn/T/tmplosni2kv/8qkrgczi.json\n",
      "DEBUG:cmdstanpy:idx 0\n",
      "DEBUG:cmdstanpy:running CmdStan, num_threads: None\n",
      "DEBUG:cmdstanpy:CmdStan args: ['/Users/ritamatias/anaconda3/envs/DM2324/lib/python3.11/site-packages/prophet/stan_model/prophet_model.bin', 'random', 'seed=76230', 'data', 'file=/var/folders/g8/89ybwtg53nb272y2m1cv_qnc0000gn/T/tmplosni2kv/x82us509.json', 'init=/var/folders/g8/89ybwtg53nb272y2m1cv_qnc0000gn/T/tmplosni2kv/8qkrgczi.json', 'output', 'file=/var/folders/g8/89ybwtg53nb272y2m1cv_qnc0000gn/T/tmplosni2kv/prophet_model7piq0rc6/prophet_model-20240409173007.csv', 'method=optimize', 'algorithm=newton', 'iter=10000']\n",
      "17:30:07 - cmdstanpy - INFO - Chain [1] start processing\n",
      "INFO:cmdstanpy:Chain [1] start processing\n",
      "17:30:08 - cmdstanpy - INFO - Chain [1] done processing\n",
      "INFO:cmdstanpy:Chain [1] done processing\n",
      "DEBUG:cmdstanpy:input tempfile: /var/folders/g8/89ybwtg53nb272y2m1cv_qnc0000gn/T/tmplosni2kv/bqk6a_9g.json\n",
      "DEBUG:cmdstanpy:input tempfile: /var/folders/g8/89ybwtg53nb272y2m1cv_qnc0000gn/T/tmplosni2kv/fzgw3ywc.json\n",
      "DEBUG:cmdstanpy:idx 0\n",
      "DEBUG:cmdstanpy:running CmdStan, num_threads: None\n",
      "DEBUG:cmdstanpy:CmdStan args: ['/Users/ritamatias/anaconda3/envs/DM2324/lib/python3.11/site-packages/prophet/stan_model/prophet_model.bin', 'random', 'seed=64414', 'data', 'file=/var/folders/g8/89ybwtg53nb272y2m1cv_qnc0000gn/T/tmplosni2kv/bqk6a_9g.json', 'init=/var/folders/g8/89ybwtg53nb272y2m1cv_qnc0000gn/T/tmplosni2kv/fzgw3ywc.json', 'output', 'file=/var/folders/g8/89ybwtg53nb272y2m1cv_qnc0000gn/T/tmplosni2kv/prophet_modelahxp1v9b/prophet_model-20240409173008.csv', 'method=optimize', 'algorithm=newton', 'iter=10000']\n",
      "17:30:08 - cmdstanpy - INFO - Chain [1] start processing\n",
      "INFO:cmdstanpy:Chain [1] start processing\n",
      "17:30:08 - cmdstanpy - INFO - Chain [1] done processing\n",
      "INFO:cmdstanpy:Chain [1] done processing\n"
     ]
    },
    {
     "name": "stdout",
     "output_type": "stream",
     "text": [
      "\n",
      "Minimum RMSE for Product 16: 169896.884 (DataFrame: lag)\n",
      "\n",
      "Product ID: 20\n",
      "\n",
      "original\n"
     ]
    },
    {
     "name": "stderr",
     "output_type": "stream",
     "text": [
      "DEBUG:cmdstanpy:input tempfile: /var/folders/g8/89ybwtg53nb272y2m1cv_qnc0000gn/T/tmplosni2kv/bv0rs89d.json\n",
      "DEBUG:cmdstanpy:input tempfile: /var/folders/g8/89ybwtg53nb272y2m1cv_qnc0000gn/T/tmplosni2kv/5qojg9sh.json\n",
      "DEBUG:cmdstanpy:idx 0\n",
      "DEBUG:cmdstanpy:running CmdStan, num_threads: None\n",
      "DEBUG:cmdstanpy:CmdStan args: ['/Users/ritamatias/anaconda3/envs/DM2324/lib/python3.11/site-packages/prophet/stan_model/prophet_model.bin', 'random', 'seed=5195', 'data', 'file=/var/folders/g8/89ybwtg53nb272y2m1cv_qnc0000gn/T/tmplosni2kv/bv0rs89d.json', 'init=/var/folders/g8/89ybwtg53nb272y2m1cv_qnc0000gn/T/tmplosni2kv/5qojg9sh.json', 'output', 'file=/var/folders/g8/89ybwtg53nb272y2m1cv_qnc0000gn/T/tmplosni2kv/prophet_modelx2l_giwz/prophet_model-20240409173008.csv', 'method=optimize', 'algorithm=newton', 'iter=10000']\n",
      "17:30:08 - cmdstanpy - INFO - Chain [1] start processing\n",
      "INFO:cmdstanpy:Chain [1] start processing\n",
      "17:30:08 - cmdstanpy - INFO - Chain [1] done processing\n",
      "INFO:cmdstanpy:Chain [1] done processing\n",
      "DEBUG:cmdstanpy:input tempfile: /var/folders/g8/89ybwtg53nb272y2m1cv_qnc0000gn/T/tmplosni2kv/qlhyfye8.json\n",
      "DEBUG:cmdstanpy:input tempfile: /var/folders/g8/89ybwtg53nb272y2m1cv_qnc0000gn/T/tmplosni2kv/rt6c2qot.json\n",
      "DEBUG:cmdstanpy:idx 0\n",
      "DEBUG:cmdstanpy:running CmdStan, num_threads: None\n",
      "DEBUG:cmdstanpy:CmdStan args: ['/Users/ritamatias/anaconda3/envs/DM2324/lib/python3.11/site-packages/prophet/stan_model/prophet_model.bin', 'random', 'seed=73450', 'data', 'file=/var/folders/g8/89ybwtg53nb272y2m1cv_qnc0000gn/T/tmplosni2kv/qlhyfye8.json', 'init=/var/folders/g8/89ybwtg53nb272y2m1cv_qnc0000gn/T/tmplosni2kv/rt6c2qot.json', 'output', 'file=/var/folders/g8/89ybwtg53nb272y2m1cv_qnc0000gn/T/tmplosni2kv/prophet_modelx44qee4_/prophet_model-20240409173008.csv', 'method=optimize', 'algorithm=newton', 'iter=10000']\n",
      "17:30:08 - cmdstanpy - INFO - Chain [1] start processing\n",
      "INFO:cmdstanpy:Chain [1] start processing\n"
     ]
    },
    {
     "name": "stdout",
     "output_type": "stream",
     "text": [
      "\n",
      "lag\n",
      "\n",
      "outlier\n"
     ]
    },
    {
     "name": "stderr",
     "output_type": "stream",
     "text": [
      "17:30:08 - cmdstanpy - INFO - Chain [1] done processing\n",
      "INFO:cmdstanpy:Chain [1] done processing\n",
      "DEBUG:cmdstanpy:input tempfile: /var/folders/g8/89ybwtg53nb272y2m1cv_qnc0000gn/T/tmplosni2kv/lwv0gjad.json\n",
      "DEBUG:cmdstanpy:input tempfile: /var/folders/g8/89ybwtg53nb272y2m1cv_qnc0000gn/T/tmplosni2kv/vreys_qb.json\n",
      "DEBUG:cmdstanpy:idx 0\n",
      "DEBUG:cmdstanpy:running CmdStan, num_threads: None\n",
      "DEBUG:cmdstanpy:CmdStan args: ['/Users/ritamatias/anaconda3/envs/DM2324/lib/python3.11/site-packages/prophet/stan_model/prophet_model.bin', 'random', 'seed=32178', 'data', 'file=/var/folders/g8/89ybwtg53nb272y2m1cv_qnc0000gn/T/tmplosni2kv/lwv0gjad.json', 'init=/var/folders/g8/89ybwtg53nb272y2m1cv_qnc0000gn/T/tmplosni2kv/vreys_qb.json', 'output', 'file=/var/folders/g8/89ybwtg53nb272y2m1cv_qnc0000gn/T/tmplosni2kv/prophet_model7oe_cnfy/prophet_model-20240409173008.csv', 'method=optimize', 'algorithm=newton', 'iter=10000']\n",
      "17:30:08 - cmdstanpy - INFO - Chain [1] start processing\n",
      "INFO:cmdstanpy:Chain [1] start processing\n",
      "17:30:08 - cmdstanpy - INFO - Chain [1] done processing\n",
      "INFO:cmdstanpy:Chain [1] done processing\n"
     ]
    },
    {
     "name": "stdout",
     "output_type": "stream",
     "text": [
      "\n",
      "Minimum RMSE for Product 20: 3364.168 (DataFrame: original)\n",
      "\n",
      "Product ID: 36\n",
      "\n",
      "original\n",
      "\n",
      "lag\n"
     ]
    },
    {
     "name": "stderr",
     "output_type": "stream",
     "text": [
      "DEBUG:cmdstanpy:input tempfile: /var/folders/g8/89ybwtg53nb272y2m1cv_qnc0000gn/T/tmplosni2kv/h8gn2fqk.json\n",
      "DEBUG:cmdstanpy:input tempfile: /var/folders/g8/89ybwtg53nb272y2m1cv_qnc0000gn/T/tmplosni2kv/o_wo5jhf.json\n",
      "DEBUG:cmdstanpy:idx 0\n",
      "DEBUG:cmdstanpy:running CmdStan, num_threads: None\n",
      "DEBUG:cmdstanpy:CmdStan args: ['/Users/ritamatias/anaconda3/envs/DM2324/lib/python3.11/site-packages/prophet/stan_model/prophet_model.bin', 'random', 'seed=15593', 'data', 'file=/var/folders/g8/89ybwtg53nb272y2m1cv_qnc0000gn/T/tmplosni2kv/h8gn2fqk.json', 'init=/var/folders/g8/89ybwtg53nb272y2m1cv_qnc0000gn/T/tmplosni2kv/o_wo5jhf.json', 'output', 'file=/var/folders/g8/89ybwtg53nb272y2m1cv_qnc0000gn/T/tmplosni2kv/prophet_modelkv5ghgac/prophet_model-20240409173008.csv', 'method=optimize', 'algorithm=newton', 'iter=10000']\n",
      "17:30:08 - cmdstanpy - INFO - Chain [1] start processing\n",
      "INFO:cmdstanpy:Chain [1] start processing\n",
      "17:30:08 - cmdstanpy - INFO - Chain [1] done processing\n",
      "INFO:cmdstanpy:Chain [1] done processing\n",
      "DEBUG:cmdstanpy:input tempfile: /var/folders/g8/89ybwtg53nb272y2m1cv_qnc0000gn/T/tmplosni2kv/3uj7f5ka.json\n",
      "DEBUG:cmdstanpy:input tempfile: /var/folders/g8/89ybwtg53nb272y2m1cv_qnc0000gn/T/tmplosni2kv/pt42q6ia.json\n",
      "DEBUG:cmdstanpy:idx 0\n",
      "DEBUG:cmdstanpy:running CmdStan, num_threads: None\n",
      "DEBUG:cmdstanpy:CmdStan args: ['/Users/ritamatias/anaconda3/envs/DM2324/lib/python3.11/site-packages/prophet/stan_model/prophet_model.bin', 'random', 'seed=45084', 'data', 'file=/var/folders/g8/89ybwtg53nb272y2m1cv_qnc0000gn/T/tmplosni2kv/3uj7f5ka.json', 'init=/var/folders/g8/89ybwtg53nb272y2m1cv_qnc0000gn/T/tmplosni2kv/pt42q6ia.json', 'output', 'file=/var/folders/g8/89ybwtg53nb272y2m1cv_qnc0000gn/T/tmplosni2kv/prophet_model3ddtd6s5/prophet_model-20240409173009.csv', 'method=optimize', 'algorithm=newton', 'iter=10000']\n",
      "17:30:09 - cmdstanpy - INFO - Chain [1] start processing\n",
      "INFO:cmdstanpy:Chain [1] start processing\n"
     ]
    },
    {
     "name": "stdout",
     "output_type": "stream",
     "text": [
      "\n",
      "outlier\n"
     ]
    },
    {
     "name": "stderr",
     "output_type": "stream",
     "text": [
      "17:30:09 - cmdstanpy - INFO - Chain [1] done processing\n",
      "INFO:cmdstanpy:Chain [1] done processing\n"
     ]
    },
    {
     "name": "stdout",
     "output_type": "stream",
     "text": [
      "\n",
      "Minimum RMSE for Product 36: 16031.966 (DataFrame: outlier)\n"
     ]
    }
   ],
   "source": [
    "def process_data_and_model_prophet(df_original_train, df_original_test, df_lag_train, df_lag_test, df_outlier_train, df_outlier_test, model_name):\n",
    "\n",
    "    for product_id in df_original_train.keys():\n",
    "        print(f\"\\nProduct ID: {product_id}\")\n",
    "\n",
    "        min_product_rmse = float('inf')  # Initialize with a very high value\n",
    "        min_rmse_df = None  # Initialize with None\n",
    "\n",
    "        \n",
    "        for df_train, df_test, df_type in zip(\n",
    "            [df_original_train, df_lag_train, df_outlier_train],\n",
    "            [df_original_test, df_lag_test, df_outlier_test],\n",
    "            ['original', 'lag', 'outlier']\n",
    "        ):\n",
    "            print(f\"\\n{df_type}\")\n",
    "\n",
    "            # Get the corresponding train and test DataFrames\n",
    "            df_train_data = df_train[product_id]\n",
    "            df_test_data = df_test[product_id]\n",
    "\n",
    "\n",
    "            # Initialize and fit Prophet model\n",
    "            model = Prophet()\n",
    "            model.fit(df_train_data)\n",
    "            \n",
    "            # Make future predictions\n",
    "            future = model.make_future_dataframe(periods=10)  # Extend the dataframe by 1 year\n",
    "            forecast = model.predict(df_test_data)\n",
    "            \n",
    "            # Evaluate the model and get RMSE\n",
    "            train_rmse, val_rmse = evaluate_prophet_model(df_test_data, forecast)\n",
    "            \n",
    "            # Update the minimum RMSE for the current product and the corresponding DataFrame\n",
    "            if val_rmse < min_product_rmse:\n",
    "                min_product_rmse = val_rmse\n",
    "                min_rmse_df = df_type\n",
    "        \n",
    "        #Store the best RMSE for validation and the corresponding DataFrame\n",
    "        best_rmse_prophet[product_id] = {\n",
    "            'Model': model_name,\n",
    "            'Dataframe': min_rmse_df,  \n",
    "            'Best RMSE for Validation': min_product_rmse\n",
    "        }\n",
    "\n",
    "        # Print the minimum RMSE for the current product and the corresponding DataFrame\n",
    "        print(f\"\\nMinimum RMSE for Product {product_id}: {min_product_rmse:.3f} (DataFrame: {min_rmse_df})\")\n",
    "        \n",
    "    #return results\n",
    "\n",
    "# Call the function with your dictionaries for train and test DataFrames and the model name\n",
    "process_data_and_model_prophet(\n",
    "    dfs_original_train_copy, dfs_original_test_copy, dfs_lag_train_copy, dfs_lag_test_copy, dfs_outlier_train_copy, dfs_outlier_test_copy,\n",
    "    model_name='Prophet'\n",
    ")"
   ]
  },
  {
   "cell_type": "markdown",
   "metadata": {},
   "source": [
    "## LLM for each product"
   ]
  },
  {
   "cell_type": "code",
   "execution_count": 30,
   "metadata": {},
   "outputs": [],
   "source": [
    "dfs_original_train_copy = dfs_original_train.copy()\n",
    "dfs_original_test_copy = dfs_original_test.copy()\n",
    "dfs_lag_train_copy = dfs_lag_train.copy()\n",
    "dfs_lag_test_copy = dfs_lag_test.copy()\n",
    "dfs_outlier_train_copy = dfs_outlier_train.copy()\n",
    "dfs_outlier_test_copy = dfs_outlier_test.copy()"
   ]
  },
  {
   "cell_type": "code",
   "execution_count": 31,
   "metadata": {},
   "outputs": [],
   "source": [
    "def rename_columns(df):\n",
    "    df_copy = df.reset_index()\n",
    "    return df_copy\n",
    "\n",
    "# Rename columns in each DataFrame in the dictionaries\n",
    "for df_dict in [dfs_original_train_copy, dfs_original_test_copy, dfs_lag_train_copy, dfs_lag_test_copy, dfs_outlier_train_copy, dfs_outlier_test_copy]:\n",
    "    for product_id in df_dict.keys():\n",
    "        df_dict[product_id] = rename_columns(df_dict[product_id])"
   ]
  },
  {
   "cell_type": "code",
   "execution_count": 32,
   "metadata": {},
   "outputs": [
    {
     "name": "stderr",
     "output_type": "stream",
     "text": [
      "/Users/ritamatias/anaconda3/envs/DM2324/lib/python3.11/site-packages/nixtlats/nixtla_client.py:56: FutureWarning: `'token'` is deprecated; use `'api_key'` instead.\n",
      "  warnings.warn(\n",
      "/Users/ritamatias/anaconda3/envs/DM2324/lib/python3.11/site-packages/nixtlats/nixtla_client.py:1531: FutureWarning: Class `TimeGPT` is deprecated; use `NixtlaClient` instead.\n",
      "  warnings.warn(\n"
     ]
    }
   ],
   "source": [
    "timegpt = TimeGPT(token='oQLhmPAiLjJdTk9sQBjLizwpE6w8YTOtzSVujoenJyEPH6TiJWz5ZEwJ3fk9lxhFt0sESeDkWNkdkClmhor1ikFbsa4I08qQwMEtb6lzAPCGDzuHvSA2rJWvYs8fuHkPpBSvTPMqOsUbp0ip8Okp3ZxTC4j6DByjMF2GAb2htzo1P4MRfzFtGCLsqqlI1r1EM5pC4qeZmvDNNSLCkyu7SUp8GCruLQUInMqB0MfEEsnwnHQnxJYiatoWvgdb9yie')"
   ]
  },
  {
   "cell_type": "code",
   "execution_count": 33,
   "metadata": {},
   "outputs": [],
   "source": [
    "#dictionary to store the best RMSE, for each product \n",
    "best_rmse_timegpt = {}"
   ]
  },
  {
   "cell_type": "code",
   "execution_count": 34,
   "metadata": {},
   "outputs": [],
   "source": [
    "logging.getLogger('nixtlats.timegpt').setLevel(logging.WARNING)"
   ]
  },
  {
   "cell_type": "code",
   "execution_count": 35,
   "metadata": {},
   "outputs": [
    {
     "name": "stderr",
     "output_type": "stream",
     "text": [
      "INFO:nixtlats.nixtla_client:Validating inputs...\n",
      "INFO:nixtlats.nixtla_client:Preprocessing dataframes...\n",
      "INFO:nixtlats.nixtla_client:Inferred freq: MS\n"
     ]
    },
    {
     "name": "stdout",
     "output_type": "stream",
     "text": [
      "\n",
      "Product ID: 1\n",
      "\n",
      "original\n"
     ]
    },
    {
     "name": "stderr",
     "output_type": "stream",
     "text": [
      "INFO:nixtlats.nixtla_client:Calling Forecast Endpoint...\n",
      "INFO:nixtlats.nixtla_client:Validating inputs...\n",
      "INFO:nixtlats.nixtla_client:Preprocessing dataframes...\n",
      "INFO:nixtlats.nixtla_client:Inferred freq: MS\n"
     ]
    },
    {
     "name": "stdout",
     "output_type": "stream",
     "text": [
      "Test RMSE: 4849114.18174757\n",
      "\n",
      "lag\n"
     ]
    },
    {
     "name": "stderr",
     "output_type": "stream",
     "text": [
      "INFO:nixtlats.nixtla_client:Calling Forecast Endpoint...\n",
      "INFO:nixtlats.nixtla_client:Validating inputs...\n",
      "INFO:nixtlats.nixtla_client:Preprocessing dataframes...\n",
      "INFO:nixtlats.nixtla_client:Inferred freq: MS\n"
     ]
    },
    {
     "name": "stdout",
     "output_type": "stream",
     "text": [
      "Test RMSE: 5684870.045848313\n",
      "\n",
      "outlier\n"
     ]
    },
    {
     "name": "stderr",
     "output_type": "stream",
     "text": [
      "INFO:nixtlats.nixtla_client:Calling Forecast Endpoint...\n",
      "INFO:nixtlats.nixtla_client:Validating inputs...\n",
      "INFO:nixtlats.nixtla_client:Preprocessing dataframes...\n",
      "INFO:nixtlats.nixtla_client:Inferred freq: MS\n"
     ]
    },
    {
     "name": "stdout",
     "output_type": "stream",
     "text": [
      "Test RMSE: 4849114.18174757\n",
      "\n",
      "Minimum RMSE for Product 1: 4849114.182 (DataFrame: original)\n",
      "\n",
      "Product ID: 3\n",
      "\n",
      "original\n"
     ]
    },
    {
     "name": "stderr",
     "output_type": "stream",
     "text": [
      "INFO:nixtlats.nixtla_client:Calling Forecast Endpoint...\n",
      "INFO:nixtlats.nixtla_client:Validating inputs...\n",
      "INFO:nixtlats.nixtla_client:Preprocessing dataframes...\n",
      "INFO:nixtlats.nixtla_client:Inferred freq: MS\n"
     ]
    },
    {
     "name": "stdout",
     "output_type": "stream",
     "text": [
      "Test RMSE: 2800589.884279119\n",
      "\n",
      "lag\n"
     ]
    },
    {
     "name": "stderr",
     "output_type": "stream",
     "text": [
      "INFO:nixtlats.nixtla_client:Calling Forecast Endpoint...\n",
      "INFO:nixtlats.nixtla_client:Validating inputs...\n",
      "INFO:nixtlats.nixtla_client:Preprocessing dataframes...\n",
      "INFO:nixtlats.nixtla_client:Inferred freq: MS\n"
     ]
    },
    {
     "name": "stdout",
     "output_type": "stream",
     "text": [
      "Test RMSE: 3638206.4689079877\n",
      "\n",
      "outlier\n"
     ]
    },
    {
     "name": "stderr",
     "output_type": "stream",
     "text": [
      "INFO:nixtlats.nixtla_client:Calling Forecast Endpoint...\n",
      "INFO:nixtlats.nixtla_client:Validating inputs...\n",
      "INFO:nixtlats.nixtla_client:Preprocessing dataframes...\n",
      "INFO:nixtlats.nixtla_client:Inferred freq: MS\n"
     ]
    },
    {
     "name": "stdout",
     "output_type": "stream",
     "text": [
      "Test RMSE: 2134890.853863158\n",
      "\n",
      "Minimum RMSE for Product 3: 2134890.854 (DataFrame: outlier)\n",
      "\n",
      "Product ID: 4\n",
      "\n",
      "original\n"
     ]
    },
    {
     "name": "stderr",
     "output_type": "stream",
     "text": [
      "INFO:nixtlats.nixtla_client:Calling Forecast Endpoint...\n",
      "INFO:nixtlats.nixtla_client:Validating inputs...\n",
      "INFO:nixtlats.nixtla_client:Preprocessing dataframes...\n",
      "INFO:nixtlats.nixtla_client:Inferred freq: MS\n"
     ]
    },
    {
     "name": "stdout",
     "output_type": "stream",
     "text": [
      "Test RMSE: 202880.98959241904\n",
      "\n",
      "lag\n"
     ]
    },
    {
     "name": "stderr",
     "output_type": "stream",
     "text": [
      "INFO:nixtlats.nixtla_client:Calling Forecast Endpoint...\n",
      "INFO:nixtlats.nixtla_client:Validating inputs...\n",
      "INFO:nixtlats.nixtla_client:Preprocessing dataframes...\n",
      "INFO:nixtlats.nixtla_client:Inferred freq: MS\n"
     ]
    },
    {
     "name": "stdout",
     "output_type": "stream",
     "text": [
      "Test RMSE: 163770.153573528\n",
      "\n",
      "outlier\n"
     ]
    },
    {
     "name": "stderr",
     "output_type": "stream",
     "text": [
      "INFO:nixtlats.nixtla_client:Calling Forecast Endpoint...\n",
      "INFO:nixtlats.nixtla_client:Validating inputs...\n",
      "INFO:nixtlats.nixtla_client:Preprocessing dataframes...\n",
      "INFO:nixtlats.nixtla_client:Inferred freq: MS\n"
     ]
    },
    {
     "name": "stdout",
     "output_type": "stream",
     "text": [
      "Test RMSE: 202880.98959241904\n",
      "\n",
      "Minimum RMSE for Product 4: 163770.154 (DataFrame: lag)\n",
      "\n",
      "Product ID: 5\n",
      "\n",
      "original\n"
     ]
    },
    {
     "name": "stderr",
     "output_type": "stream",
     "text": [
      "INFO:nixtlats.nixtla_client:Calling Forecast Endpoint...\n",
      "INFO:nixtlats.nixtla_client:Validating inputs...\n",
      "INFO:nixtlats.nixtla_client:Preprocessing dataframes...\n",
      "INFO:nixtlats.nixtla_client:Inferred freq: MS\n"
     ]
    },
    {
     "name": "stdout",
     "output_type": "stream",
     "text": [
      "Test RMSE: 4243791.135265702\n",
      "\n",
      "lag\n"
     ]
    },
    {
     "name": "stderr",
     "output_type": "stream",
     "text": [
      "INFO:nixtlats.nixtla_client:Calling Forecast Endpoint...\n",
      "INFO:nixtlats.nixtla_client:Validating inputs...\n",
      "INFO:nixtlats.nixtla_client:Preprocessing dataframes...\n",
      "INFO:nixtlats.nixtla_client:Inferred freq: MS\n"
     ]
    },
    {
     "name": "stdout",
     "output_type": "stream",
     "text": [
      "Test RMSE: 3242274.3109364375\n",
      "\n",
      "outlier\n"
     ]
    },
    {
     "name": "stderr",
     "output_type": "stream",
     "text": [
      "INFO:nixtlats.nixtla_client:Calling Forecast Endpoint...\n",
      "INFO:nixtlats.nixtla_client:Validating inputs...\n",
      "INFO:nixtlats.nixtla_client:Preprocessing dataframes...\n",
      "INFO:nixtlats.nixtla_client:Inferred freq: MS\n"
     ]
    },
    {
     "name": "stdout",
     "output_type": "stream",
     "text": [
      "Test RMSE: 4243791.135265702\n",
      "\n",
      "Minimum RMSE for Product 5: 3242274.311 (DataFrame: lag)\n",
      "\n",
      "Product ID: 6\n",
      "\n",
      "original\n"
     ]
    },
    {
     "name": "stderr",
     "output_type": "stream",
     "text": [
      "INFO:nixtlats.nixtla_client:Calling Forecast Endpoint...\n",
      "INFO:nixtlats.nixtla_client:Validating inputs...\n",
      "INFO:nixtlats.nixtla_client:Preprocessing dataframes...\n",
      "INFO:nixtlats.nixtla_client:Inferred freq: MS\n"
     ]
    },
    {
     "name": "stdout",
     "output_type": "stream",
     "text": [
      "Test RMSE: 274856.36973037757\n",
      "\n",
      "lag\n"
     ]
    },
    {
     "name": "stderr",
     "output_type": "stream",
     "text": [
      "INFO:nixtlats.nixtla_client:Calling Forecast Endpoint...\n",
      "INFO:nixtlats.nixtla_client:Validating inputs...\n",
      "INFO:nixtlats.nixtla_client:Preprocessing dataframes...\n",
      "INFO:nixtlats.nixtla_client:Inferred freq: MS\n"
     ]
    },
    {
     "name": "stdout",
     "output_type": "stream",
     "text": [
      "Test RMSE: 276829.10649591434\n",
      "\n",
      "outlier\n"
     ]
    },
    {
     "name": "stderr",
     "output_type": "stream",
     "text": [
      "INFO:nixtlats.nixtla_client:Calling Forecast Endpoint...\n",
      "INFO:nixtlats.nixtla_client:Validating inputs...\n",
      "INFO:nixtlats.nixtla_client:Preprocessing dataframes...\n",
      "INFO:nixtlats.nixtla_client:Inferred freq: MS\n"
     ]
    },
    {
     "name": "stdout",
     "output_type": "stream",
     "text": [
      "Test RMSE: 274856.36973037757\n",
      "\n",
      "Minimum RMSE for Product 6: 274856.370 (DataFrame: original)\n",
      "\n",
      "Product ID: 8\n",
      "\n",
      "original\n"
     ]
    },
    {
     "name": "stderr",
     "output_type": "stream",
     "text": [
      "INFO:nixtlats.nixtla_client:Calling Forecast Endpoint...\n",
      "INFO:nixtlats.nixtla_client:Validating inputs...\n",
      "INFO:nixtlats.nixtla_client:Preprocessing dataframes...\n",
      "INFO:nixtlats.nixtla_client:Inferred freq: MS\n"
     ]
    },
    {
     "name": "stdout",
     "output_type": "stream",
     "text": [
      "Test RMSE: 627906.9656185085\n",
      "\n",
      "lag\n"
     ]
    },
    {
     "name": "stderr",
     "output_type": "stream",
     "text": [
      "INFO:nixtlats.nixtla_client:Calling Forecast Endpoint...\n",
      "INFO:nixtlats.nixtla_client:Validating inputs...\n",
      "INFO:nixtlats.nixtla_client:Preprocessing dataframes...\n",
      "INFO:nixtlats.nixtla_client:Inferred freq: MS\n"
     ]
    },
    {
     "name": "stdout",
     "output_type": "stream",
     "text": [
      "Test RMSE: 697116.6720730268\n",
      "\n",
      "outlier\n"
     ]
    },
    {
     "name": "stderr",
     "output_type": "stream",
     "text": [
      "INFO:nixtlats.nixtla_client:Calling Forecast Endpoint...\n",
      "INFO:nixtlats.nixtla_client:Validating inputs...\n",
      "INFO:nixtlats.nixtla_client:Preprocessing dataframes...\n",
      "INFO:nixtlats.nixtla_client:Inferred freq: MS\n"
     ]
    },
    {
     "name": "stdout",
     "output_type": "stream",
     "text": [
      "Test RMSE: 627906.9656185085\n",
      "\n",
      "Minimum RMSE for Product 8: 627906.966 (DataFrame: original)\n",
      "\n",
      "Product ID: 9\n",
      "\n",
      "original\n"
     ]
    },
    {
     "name": "stderr",
     "output_type": "stream",
     "text": [
      "INFO:nixtlats.nixtla_client:Calling Forecast Endpoint...\n",
      "INFO:nixtlats.nixtla_client:Validating inputs...\n",
      "INFO:nixtlats.nixtla_client:Preprocessing dataframes...\n",
      "INFO:nixtlats.nixtla_client:Inferred freq: MS\n"
     ]
    },
    {
     "name": "stdout",
     "output_type": "stream",
     "text": [
      "Test RMSE: 8657.509145033717\n",
      "\n",
      "lag\n"
     ]
    },
    {
     "name": "stderr",
     "output_type": "stream",
     "text": [
      "INFO:nixtlats.nixtla_client:Calling Forecast Endpoint...\n",
      "INFO:nixtlats.nixtla_client:Validating inputs...\n",
      "INFO:nixtlats.nixtla_client:Preprocessing dataframes...\n",
      "INFO:nixtlats.nixtla_client:Inferred freq: MS\n"
     ]
    },
    {
     "name": "stdout",
     "output_type": "stream",
     "text": [
      "Test RMSE: 5876.297885137595\n",
      "\n",
      "outlier\n"
     ]
    },
    {
     "name": "stderr",
     "output_type": "stream",
     "text": [
      "INFO:nixtlats.nixtla_client:Calling Forecast Endpoint...\n",
      "INFO:nixtlats.nixtla_client:Validating inputs...\n",
      "INFO:nixtlats.nixtla_client:Preprocessing dataframes...\n",
      "INFO:nixtlats.nixtla_client:Inferred freq: MS\n"
     ]
    },
    {
     "name": "stdout",
     "output_type": "stream",
     "text": [
      "Test RMSE: 7316.952158684977\n",
      "\n",
      "Minimum RMSE for Product 9: 5876.298 (DataFrame: lag)\n",
      "\n",
      "Product ID: 11\n",
      "\n",
      "original\n"
     ]
    },
    {
     "name": "stderr",
     "output_type": "stream",
     "text": [
      "INFO:nixtlats.nixtla_client:Calling Forecast Endpoint...\n",
      "INFO:nixtlats.nixtla_client:Validating inputs...\n",
      "INFO:nixtlats.nixtla_client:Preprocessing dataframes...\n",
      "INFO:nixtlats.nixtla_client:Inferred freq: MS\n"
     ]
    },
    {
     "name": "stdout",
     "output_type": "stream",
     "text": [
      "Test RMSE: 826243.4087104176\n",
      "\n",
      "lag\n"
     ]
    },
    {
     "name": "stderr",
     "output_type": "stream",
     "text": [
      "INFO:nixtlats.nixtla_client:Calling Forecast Endpoint...\n",
      "INFO:nixtlats.nixtla_client:Validating inputs...\n",
      "INFO:nixtlats.nixtla_client:Preprocessing dataframes...\n",
      "INFO:nixtlats.nixtla_client:Inferred freq: MS\n"
     ]
    },
    {
     "name": "stdout",
     "output_type": "stream",
     "text": [
      "Test RMSE: 800266.9018866945\n",
      "\n",
      "outlier\n"
     ]
    },
    {
     "name": "stderr",
     "output_type": "stream",
     "text": [
      "INFO:nixtlats.nixtla_client:Calling Forecast Endpoint...\n",
      "INFO:nixtlats.nixtla_client:Validating inputs...\n",
      "INFO:nixtlats.nixtla_client:Preprocessing dataframes...\n",
      "INFO:nixtlats.nixtla_client:Inferred freq: MS\n"
     ]
    },
    {
     "name": "stdout",
     "output_type": "stream",
     "text": [
      "Test RMSE: 826243.4087104176\n",
      "\n",
      "Minimum RMSE for Product 11: 800266.902 (DataFrame: lag)\n",
      "\n",
      "Product ID: 12\n",
      "\n",
      "original\n"
     ]
    },
    {
     "name": "stderr",
     "output_type": "stream",
     "text": [
      "INFO:nixtlats.nixtla_client:Calling Forecast Endpoint...\n",
      "INFO:nixtlats.nixtla_client:Validating inputs...\n",
      "INFO:nixtlats.nixtla_client:Preprocessing dataframes...\n",
      "INFO:nixtlats.nixtla_client:Inferred freq: MS\n"
     ]
    },
    {
     "name": "stdout",
     "output_type": "stream",
     "text": [
      "Test RMSE: 145677.67790386878\n",
      "\n",
      "lag\n"
     ]
    },
    {
     "name": "stderr",
     "output_type": "stream",
     "text": [
      "INFO:nixtlats.nixtla_client:Calling Forecast Endpoint...\n",
      "INFO:nixtlats.nixtla_client:Validating inputs...\n",
      "INFO:nixtlats.nixtla_client:Preprocessing dataframes...\n",
      "INFO:nixtlats.nixtla_client:Inferred freq: MS\n"
     ]
    },
    {
     "name": "stdout",
     "output_type": "stream",
     "text": [
      "Test RMSE: 118115.73931067564\n",
      "\n",
      "outlier\n"
     ]
    },
    {
     "name": "stderr",
     "output_type": "stream",
     "text": [
      "INFO:nixtlats.nixtla_client:Calling Forecast Endpoint...\n",
      "INFO:nixtlats.nixtla_client:Validating inputs...\n",
      "INFO:nixtlats.nixtla_client:Preprocessing dataframes...\n",
      "INFO:nixtlats.nixtla_client:Inferred freq: MS\n"
     ]
    },
    {
     "name": "stdout",
     "output_type": "stream",
     "text": [
      "Test RMSE: 145677.67790386878\n",
      "\n",
      "Minimum RMSE for Product 12: 118115.739 (DataFrame: lag)\n",
      "\n",
      "Product ID: 13\n",
      "\n",
      "original\n"
     ]
    },
    {
     "name": "stderr",
     "output_type": "stream",
     "text": [
      "INFO:nixtlats.nixtla_client:Calling Forecast Endpoint...\n",
      "INFO:nixtlats.nixtla_client:Validating inputs...\n",
      "INFO:nixtlats.nixtla_client:Preprocessing dataframes...\n",
      "INFO:nixtlats.nixtla_client:Inferred freq: MS\n"
     ]
    },
    {
     "name": "stdout",
     "output_type": "stream",
     "text": [
      "Test RMSE: 12985.393664317\n",
      "\n",
      "lag\n"
     ]
    },
    {
     "name": "stderr",
     "output_type": "stream",
     "text": [
      "INFO:nixtlats.nixtla_client:Attempt 1 failed...\n",
      "INFO:nixtlats.nixtla_client:Calling Forecast Endpoint...\n",
      "INFO:nixtlats.nixtla_client:Attempt 1 failed...\n",
      "INFO:nixtlats.nixtla_client:Validating inputs...\n",
      "INFO:nixtlats.nixtla_client:Preprocessing dataframes...\n",
      "INFO:nixtlats.nixtla_client:Inferred freq: MS\n"
     ]
    },
    {
     "name": "stdout",
     "output_type": "stream",
     "text": [
      "Test RMSE: 15926.981331237172\n",
      "\n",
      "outlier\n"
     ]
    },
    {
     "name": "stderr",
     "output_type": "stream",
     "text": [
      "INFO:nixtlats.nixtla_client:Calling Forecast Endpoint...\n",
      "INFO:nixtlats.nixtla_client:Validating inputs...\n",
      "INFO:nixtlats.nixtla_client:Preprocessing dataframes...\n",
      "INFO:nixtlats.nixtla_client:Inferred freq: MS\n"
     ]
    },
    {
     "name": "stdout",
     "output_type": "stream",
     "text": [
      "Test RMSE: 12985.393664317\n",
      "\n",
      "Minimum RMSE for Product 13: 12985.394 (DataFrame: original)\n",
      "\n",
      "Product ID: 14\n",
      "\n",
      "original\n"
     ]
    },
    {
     "name": "stderr",
     "output_type": "stream",
     "text": [
      "INFO:nixtlats.nixtla_client:Calling Forecast Endpoint...\n",
      "INFO:nixtlats.nixtla_client:Validating inputs...\n",
      "INFO:nixtlats.nixtla_client:Preprocessing dataframes...\n",
      "INFO:nixtlats.nixtla_client:Inferred freq: MS\n"
     ]
    },
    {
     "name": "stdout",
     "output_type": "stream",
     "text": [
      "Test RMSE: 15649.523391593008\n",
      "\n",
      "lag\n"
     ]
    },
    {
     "name": "stderr",
     "output_type": "stream",
     "text": [
      "INFO:nixtlats.nixtla_client:Calling Forecast Endpoint...\n",
      "INFO:nixtlats.nixtla_client:Validating inputs...\n",
      "INFO:nixtlats.nixtla_client:Preprocessing dataframes...\n",
      "INFO:nixtlats.nixtla_client:Inferred freq: MS\n"
     ]
    },
    {
     "name": "stdout",
     "output_type": "stream",
     "text": [
      "Test RMSE: 16837.348247659334\n",
      "\n",
      "outlier\n"
     ]
    },
    {
     "name": "stderr",
     "output_type": "stream",
     "text": [
      "INFO:nixtlats.nixtla_client:Calling Forecast Endpoint...\n",
      "INFO:nixtlats.nixtla_client:Validating inputs...\n",
      "INFO:nixtlats.nixtla_client:Preprocessing dataframes...\n",
      "INFO:nixtlats.nixtla_client:Inferred freq: MS\n"
     ]
    },
    {
     "name": "stdout",
     "output_type": "stream",
     "text": [
      "Test RMSE: 17709.232077619658\n",
      "\n",
      "Minimum RMSE for Product 14: 15649.523 (DataFrame: original)\n",
      "\n",
      "Product ID: 16\n",
      "\n",
      "original\n"
     ]
    },
    {
     "name": "stderr",
     "output_type": "stream",
     "text": [
      "INFO:nixtlats.nixtla_client:Calling Forecast Endpoint...\n",
      "INFO:nixtlats.nixtla_client:Validating inputs...\n",
      "INFO:nixtlats.nixtla_client:Preprocessing dataframes...\n",
      "INFO:nixtlats.nixtla_client:Inferred freq: MS\n"
     ]
    },
    {
     "name": "stdout",
     "output_type": "stream",
     "text": [
      "Test RMSE: 89172.7919704339\n",
      "\n",
      "lag\n"
     ]
    },
    {
     "name": "stderr",
     "output_type": "stream",
     "text": [
      "INFO:nixtlats.nixtla_client:Calling Forecast Endpoint...\n",
      "INFO:nixtlats.nixtla_client:Validating inputs...\n",
      "INFO:nixtlats.nixtla_client:Preprocessing dataframes...\n",
      "INFO:nixtlats.nixtla_client:Inferred freq: MS\n"
     ]
    },
    {
     "name": "stdout",
     "output_type": "stream",
     "text": [
      "Test RMSE: 89587.56567986694\n",
      "\n",
      "outlier\n"
     ]
    },
    {
     "name": "stderr",
     "output_type": "stream",
     "text": [
      "INFO:nixtlats.nixtla_client:Calling Forecast Endpoint...\n",
      "INFO:nixtlats.nixtla_client:Validating inputs...\n",
      "INFO:nixtlats.nixtla_client:Preprocessing dataframes...\n",
      "INFO:nixtlats.nixtla_client:Inferred freq: MS\n"
     ]
    },
    {
     "name": "stdout",
     "output_type": "stream",
     "text": [
      "Test RMSE: 89172.7919704339\n",
      "\n",
      "Minimum RMSE for Product 16: 89172.792 (DataFrame: original)\n",
      "\n",
      "Product ID: 20\n",
      "\n",
      "original\n"
     ]
    },
    {
     "name": "stderr",
     "output_type": "stream",
     "text": [
      "INFO:nixtlats.nixtla_client:Calling Forecast Endpoint...\n",
      "INFO:nixtlats.nixtla_client:Validating inputs...\n",
      "INFO:nixtlats.nixtla_client:Preprocessing dataframes...\n",
      "INFO:nixtlats.nixtla_client:Inferred freq: MS\n"
     ]
    },
    {
     "name": "stdout",
     "output_type": "stream",
     "text": [
      "Test RMSE: 2249.737731928441\n",
      "\n",
      "lag\n"
     ]
    },
    {
     "name": "stderr",
     "output_type": "stream",
     "text": [
      "INFO:nixtlats.nixtla_client:Calling Forecast Endpoint...\n",
      "INFO:nixtlats.nixtla_client:Validating inputs...\n",
      "INFO:nixtlats.nixtla_client:Preprocessing dataframes...\n",
      "INFO:nixtlats.nixtla_client:Inferred freq: MS\n"
     ]
    },
    {
     "name": "stdout",
     "output_type": "stream",
     "text": [
      "Test RMSE: 2290.789873168815\n",
      "\n",
      "outlier\n"
     ]
    },
    {
     "name": "stderr",
     "output_type": "stream",
     "text": [
      "INFO:nixtlats.nixtla_client:Calling Forecast Endpoint...\n",
      "INFO:nixtlats.nixtla_client:Validating inputs...\n",
      "INFO:nixtlats.nixtla_client:Preprocessing dataframes...\n",
      "INFO:nixtlats.nixtla_client:Inferred freq: MS\n"
     ]
    },
    {
     "name": "stdout",
     "output_type": "stream",
     "text": [
      "Test RMSE: 2249.737731928441\n",
      "\n",
      "Minimum RMSE for Product 20: 2249.738 (DataFrame: original)\n",
      "\n",
      "Product ID: 36\n",
      "\n",
      "original\n"
     ]
    },
    {
     "name": "stderr",
     "output_type": "stream",
     "text": [
      "INFO:nixtlats.nixtla_client:Calling Forecast Endpoint...\n",
      "INFO:nixtlats.nixtla_client:Validating inputs...\n",
      "INFO:nixtlats.nixtla_client:Preprocessing dataframes...\n",
      "INFO:nixtlats.nixtla_client:Inferred freq: MS\n"
     ]
    },
    {
     "name": "stdout",
     "output_type": "stream",
     "text": [
      "Test RMSE: 17391.40781079768\n",
      "\n",
      "lag\n"
     ]
    },
    {
     "name": "stderr",
     "output_type": "stream",
     "text": [
      "INFO:nixtlats.nixtla_client:Calling Forecast Endpoint...\n",
      "INFO:nixtlats.nixtla_client:Validating inputs...\n",
      "INFO:nixtlats.nixtla_client:Preprocessing dataframes...\n",
      "INFO:nixtlats.nixtla_client:Inferred freq: MS\n"
     ]
    },
    {
     "name": "stdout",
     "output_type": "stream",
     "text": [
      "Test RMSE: 17145.747474047996\n",
      "\n",
      "outlier\n"
     ]
    },
    {
     "name": "stderr",
     "output_type": "stream",
     "text": [
      "INFO:nixtlats.nixtla_client:Calling Forecast Endpoint...\n"
     ]
    },
    {
     "name": "stdout",
     "output_type": "stream",
     "text": [
      "Test RMSE: 16264.211009613986\n",
      "\n",
      "Minimum RMSE for Product 36: 16264.211 (DataFrame: outlier)\n"
     ]
    }
   ],
   "source": [
    "def process_data_and_model(df_original_train, df_original_test, df_lag_train,\n",
    "                           df_lag_test, df_outlier_train, df_outlier_test,\n",
    "                           model_name):\n",
    "\n",
    "    for product_id in df_original_train.keys():\n",
    "        print(f\"\\nProduct ID: {product_id}\")\n",
    "\n",
    "        product_results = {}\n",
    "        min_product_rmse = float('inf')  # Initialize with a very high value\n",
    "        min_rmse_df = None  # Initialize with None\n",
    "\n",
    "        for df_train, df_test, df_type in zip(\n",
    "                [df_original_train, df_lag_train, df_outlier_train],\n",
    "                [df_original_test, df_lag_test, df_outlier_test],\n",
    "                ['original', 'lag', 'outlier']\n",
    "        ):\n",
    "            print(f\"\\n{df_type}\")\n",
    "\n",
    "            # Get the corresponding train and test DataFrames\n",
    "            train_df = df_train[product_id]\n",
    "            test_df = df_test[product_id]\n",
    "\n",
    "            # Make forecasts using TimeGPT\n",
    "            forecasts = timegpt.forecast(train_df, time_col=\"Date\", h=len(test_df), freq='M', target_col='Sales_CPI_€')\n",
    "\n",
    "            # Get true values from the test dataframe\n",
    "            true_values = test_df['Sales_CPI_€'].values\n",
    "\n",
    "            # Get forecasted values from the TimeGPT forecasts\n",
    "            forecasted_values = forecasts['TimeGPT'].values\n",
    "\n",
    "            # Calculate RMSE\n",
    "            test_rmse = rmse(true_values, forecasted_values)\n",
    "            print(f\"Test RMSE: {test_rmse}\")\n",
    "\n",
    "            # Update the minimum RMSE for the current product and the corresponding DataFrame\n",
    "            if test_rmse < min_product_rmse:\n",
    "                min_product_rmse = test_rmse\n",
    "                min_rmse_df = df_type\n",
    "\n",
    "        # Store the results for the product\n",
    "        best_rmse_timegpt[product_id] = {\n",
    "            'Model': model_name,\n",
    "            'Dataframe': min_rmse_df,\n",
    "            'Best RMSE for Validation': min_product_rmse\n",
    "        }\n",
    "\n",
    "        # Print the minimum RMSE for the current product and the corresponding DataFrame\n",
    "        print(f\"\\nMinimum RMSE for Product {product_id}: {min_product_rmse:.3f} (DataFrame: {min_rmse_df})\")\n",
    "\n",
    "\n",
    "# Call the function with your dictionaries for train and test DataFrames and the model name\n",
    "process_data_and_model(\n",
    "    dfs_original_train_copy, dfs_original_test_copy, dfs_lag_train_copy, dfs_lag_test_copy, dfs_outlier_train_copy, dfs_outlier_test_copy,\n",
    "    model_name='TimeGPT'\n",
    ")\n"
   ]
  },
  {
   "cell_type": "markdown",
   "metadata": {},
   "source": [
    "### Choose the best model for each product"
   ]
  },
  {
   "cell_type": "code",
   "execution_count": 36,
   "metadata": {},
   "outputs": [],
   "source": [
    "# Initialize a dictionary to store the best RMSE values for each product and its corresponding DataFrame\n",
    "best_rmse_values = {}\n",
    "\n",
    "# Combine all product IDs from the three dictionaries\n",
    "all_product_ids = set(best_rmse_timegpt.keys()) | set(best_rmse_prophet.keys()) | set(best_rmse_xgboost.keys())\n",
    "\n",
    "# Iterate over all product IDs\n",
    "for product_id in all_product_ids:\n",
    "    # Initialize variables to store the best RMSE value and model information\n",
    "    best_rmse = float('inf')\n",
    "    best_model = None\n",
    "    best_dataframe = None\n",
    "    best_parameters = None\n",
    "    \n",
    "    # Check if the product ID exists in the best_rmse_timegpt dictionary\n",
    "    if product_id in best_rmse_timegpt:\n",
    "        rmse_timegpt = best_rmse_timegpt[product_id]['Best RMSE for Validation']\n",
    "        if rmse_timegpt < best_rmse:\n",
    "            best_rmse = rmse_timegpt\n",
    "            best_model = 'TimeGPT'\n",
    "            best_dataframe = best_rmse_timegpt[product_id]['Dataframe']\n",
    "    \n",
    "    # Check if the product ID exists in the best_rmse_prophet dictionary\n",
    "    if product_id in best_rmse_prophet:\n",
    "        rmse_prophet = best_rmse_prophet[product_id]['Best RMSE for Validation']\n",
    "        if rmse_prophet < best_rmse:\n",
    "            best_rmse = rmse_prophet\n",
    "            best_model = 'Prophet'\n",
    "            best_dataframe = best_rmse_prophet[product_id]['Dataframe']\n",
    "    \n",
    "    # Check if the product ID exists in the best_rmse_xgboost dictionary\n",
    "    if product_id in best_rmse_xgboost:\n",
    "        rmse_xgboost = best_rmse_xgboost[product_id]['Best RMSE for Validation']\n",
    "        if rmse_xgboost < best_rmse:\n",
    "            best_rmse = rmse_xgboost\n",
    "            best_model = 'XGBoost'\n",
    "            best_dataframe = best_rmse_xgboost[product_id]['Dataframe']\n",
    "            best_parameters = best_rmse_xgboost[product_id]['Best Parameters']\n",
    "    \n",
    "    # Store the best RMSE value and model information for the current product\n",
    "    best_rmse_values[product_id] = {\n",
    "        'Model': best_model,\n",
    "        'Dataframe': best_dataframe,\n",
    "        'Best RMSE for Validation': round(best_rmse),\n",
    "        'Best Parameters': best_parameters\n",
    "    }\n",
    "\n",
    "# Now best_rmse_values contains the best RMSE value for each product among the three models\n"
   ]
  },
  {
   "cell_type": "code",
   "execution_count": 37,
   "metadata": {},
   "outputs": [],
   "source": [
    "# df_best_rmse = pd.DataFrame(best_rmse_values).T.reset_index()\n",
    "\n",
    "# # Rename the columns for better readability\n",
    "# df_best_rmse.columns = ['Product_ID', 'Model', 'Dataframe', 'Best_RMSE', 'Best_Parameters']\n",
    "\n",
    "# # Display the DataFrame\n",
    "# df_best_rmse"
   ]
  },
  {
   "cell_type": "code",
   "execution_count": 38,
   "metadata": {},
   "outputs": [
    {
     "name": "stdout",
     "output_type": "stream",
     "text": [
      "+--------------+---------+-------------+-------------+----------------------------------------------------+\n",
      "|   Product ID | Model   | Dataframe   |   Best RMSE | Best Parameters                                    |\n",
      "+==============+=========+=============+=============+====================================================+\n",
      "|            1 | Prophet | original    |     4436100 |                                                    |\n",
      "+--------------+---------+-------------+-------------+----------------------------------------------------+\n",
      "|            3 | Prophet | outlier     |     2018385 |                                                    |\n",
      "+--------------+---------+-------------+-------------+----------------------------------------------------+\n",
      "|            4 | XGBoost | lag         |      115017 | learning_rate=0.05, max_depth=3, n_estimators=1000 |\n",
      "+--------------+---------+-------------+-------------+----------------------------------------------------+\n",
      "|            5 | TimeGPT | lag         |     3242274 |                                                    |\n",
      "+--------------+---------+-------------+-------------+----------------------------------------------------+\n",
      "|            6 | XGBoost | original    |      207477 | learning_rate=0.01, max_depth=5, n_estimators=1000 |\n",
      "+--------------+---------+-------------+-------------+----------------------------------------------------+\n",
      "|            8 | Prophet | lag         |      610963 |                                                    |\n",
      "+--------------+---------+-------------+-------------+----------------------------------------------------+\n",
      "|            9 | XGBoost | lag         |        4242 | learning_rate=0.01, max_depth=5, n_estimators=100  |\n",
      "+--------------+---------+-------------+-------------+----------------------------------------------------+\n",
      "|           11 | Prophet | original    |      780347 |                                                    |\n",
      "+--------------+---------+-------------+-------------+----------------------------------------------------+\n",
      "|           12 | XGBoost | lag         |      106137 | learning_rate=0.01, max_depth=5, n_estimators=500  |\n",
      "+--------------+---------+-------------+-------------+----------------------------------------------------+\n",
      "|           13 | XGBoost | original    |       12410 | learning_rate=0.01, max_depth=3, n_estimators=100  |\n",
      "+--------------+---------+-------------+-------------+----------------------------------------------------+\n",
      "|           14 | TimeGPT | original    |       15650 |                                                    |\n",
      "+--------------+---------+-------------+-------------+----------------------------------------------------+\n",
      "|           16 | TimeGPT | original    |       89173 |                                                    |\n",
      "+--------------+---------+-------------+-------------+----------------------------------------------------+\n",
      "|           20 | TimeGPT | original    |        2250 |                                                    |\n",
      "+--------------+---------+-------------+-------------+----------------------------------------------------+\n",
      "|           36 | XGBoost | outlier     |       15602 | learning_rate=0.05, max_depth=5, n_estimators=100  |\n",
      "+--------------+---------+-------------+-------------+----------------------------------------------------+\n"
     ]
    }
   ],
   "source": [
    "# Assume best_rmse_values is your dictionary\n",
    "table_data = []\n",
    "for product_id, values in best_rmse_values.items():\n",
    "    row = [product_id, values['Model'], values['Dataframe'], values['Best RMSE for Validation']]\n",
    "    if values.get('Best Parameters'):\n",
    "        parameters = ', '.join([f\"{key}={value}\" for key, value in values['Best Parameters'].items()])\n",
    "        row.append(parameters)\n",
    "    else:\n",
    "        row.append('')\n",
    "    table_data.append(row)\n",
    "\n",
    "# Define the headers for the table\n",
    "headers = [\"Product ID\", \"Model\", \"Dataframe\", \"Best RMSE\", \"Best Parameters\"]\n",
    "\n",
    "# Print the table\n",
    "print(tabulate(table_data, headers=headers, tablefmt=\"grid\"))\n"
   ]
  },
  {
   "cell_type": "markdown",
   "metadata": {},
   "source": [
    "# Predict features for each product for test"
   ]
  },
  {
   "cell_type": "code",
   "execution_count": 39,
   "metadata": {},
   "outputs": [
    {
     "data": {
      "text/html": [
       "<div>\n",
       "<style scoped>\n",
       "    .dataframe tbody tr th:only-of-type {\n",
       "        vertical-align: middle;\n",
       "    }\n",
       "\n",
       "    .dataframe tbody tr th {\n",
       "        vertical-align: top;\n",
       "    }\n",
       "\n",
       "    .dataframe thead th {\n",
       "        text-align: right;\n",
       "    }\n",
       "</style>\n",
       "<table border=\"1\" class=\"dataframe\">\n",
       "  <thead>\n",
       "    <tr style=\"text-align: right;\">\n",
       "      <th></th>\n",
       "      <th>PRO27826_org</th>\n",
       "      <th>RohiENERGY1000_org</th>\n",
       "      <th>PRO27840_org</th>\n",
       "      <th>MAB_ELE_PRO826</th>\n",
       "      <th>RohiNATGAS1000_org</th>\n",
       "      <th>Sales_CPI_€</th>\n",
       "    </tr>\n",
       "    <tr>\n",
       "      <th>Date</th>\n",
       "      <th></th>\n",
       "      <th></th>\n",
       "      <th></th>\n",
       "      <th></th>\n",
       "      <th></th>\n",
       "      <th></th>\n",
       "    </tr>\n",
       "  </thead>\n",
       "  <tbody>\n",
       "    <tr>\n",
       "      <th>2018-10-01</th>\n",
       "      <td>118.670791</td>\n",
       "      <td>100.222169</td>\n",
       "      <td>112.853256</td>\n",
       "      <td>113.659322</td>\n",
       "      <td>89.570796</td>\n",
       "      <td>394180.84379</td>\n",
       "    </tr>\n",
       "    <tr>\n",
       "      <th>2018-11-01</th>\n",
       "      <td>120.467019</td>\n",
       "      <td>84.436807</td>\n",
       "      <td>113.145294</td>\n",
       "      <td>115.088417</td>\n",
       "      <td>97.362468</td>\n",
       "      <td>365752.58370</td>\n",
       "    </tr>\n",
       "    <tr>\n",
       "      <th>2018-12-01</th>\n",
       "      <td>105.378705</td>\n",
       "      <td>74.898746</td>\n",
       "      <td>111.823624</td>\n",
       "      <td>101.556108</td>\n",
       "      <td>94.406578</td>\n",
       "      <td>423649.44560</td>\n",
       "    </tr>\n",
       "    <tr>\n",
       "      <th>2019-01-01</th>\n",
       "      <td>107.174933</td>\n",
       "      <td>76.204771</td>\n",
       "      <td>109.499725</td>\n",
       "      <td>101.799754</td>\n",
       "      <td>80.055366</td>\n",
       "      <td>473037.88076</td>\n",
       "    </tr>\n",
       "    <tr>\n",
       "      <th>2019-02-01</th>\n",
       "      <td>110.647640</td>\n",
       "      <td>80.086039</td>\n",
       "      <td>110.835655</td>\n",
       "      <td>103.495768</td>\n",
       "      <td>69.545042</td>\n",
       "      <td>608251.19580</td>\n",
       "    </tr>\n",
       "  </tbody>\n",
       "</table>\n",
       "</div>"
      ],
      "text/plain": [
       "            PRO27826_org  RohiENERGY1000_org  PRO27840_org  MAB_ELE_PRO826  \\\n",
       "Date                                                                         \n",
       "2018-10-01    118.670791          100.222169    112.853256      113.659322   \n",
       "2018-11-01    120.467019           84.436807    113.145294      115.088417   \n",
       "2018-12-01    105.378705           74.898746    111.823624      101.556108   \n",
       "2019-01-01    107.174933           76.204771    109.499725      101.799754   \n",
       "2019-02-01    110.647640           80.086039    110.835655      103.495768   \n",
       "\n",
       "            RohiNATGAS1000_org   Sales_CPI_€  \n",
       "Date                                          \n",
       "2018-10-01           89.570796  394180.84379  \n",
       "2018-11-01           97.362468  365752.58370  \n",
       "2018-12-01           94.406578  423649.44560  \n",
       "2019-01-01           80.055366  473037.88076  \n",
       "2019-02-01           69.545042  608251.19580  "
      ]
     },
     "execution_count": 39,
     "metadata": {},
     "output_type": "execute_result"
    }
   ],
   "source": [
    "dfs_original_train[4].head()"
   ]
  },
  {
   "cell_type": "code",
   "execution_count": 40,
   "metadata": {},
   "outputs": [],
   "source": [
    "# Initialize the remerged_data dictionary\n",
    "remerged_data = {}\n",
    "\n",
    "# Concatenate train and test sets for each product and add them to the remerged_data dictionary\n",
    "remerged_data[1] = pd.concat([dfs_original_train[1].copy(), dfs_original_test[1].copy()], axis=0)\n",
    "remerged_data[3] = pd.concat([dfs_outlier_train[3].copy(), dfs_outlier_test[3].copy()], axis=0)\n",
    "remerged_data[4] = pd.concat([dfs_lag_train[4].copy(), dfs_lag_test[4].copy()], axis=0)\n",
    "remerged_data[5] = pd.concat([dfs_lag_train[5].copy(), dfs_lag_test[5].copy()], axis=0)\n",
    "remerged_data[6] = pd.concat([dfs_original_train[6].copy(), dfs_original_test[6].copy()], axis=0)\n",
    "remerged_data[8] = pd.concat([dfs_lag_train[8].copy(), dfs_lag_test[8].copy()], axis=0)\n",
    "remerged_data[9] = pd.concat([dfs_lag_train[9].copy(), dfs_lag_test[9].copy()], axis=0)\n",
    "remerged_data[11] = pd.concat([dfs_original_train[11].copy(), dfs_original_test[11].copy()], axis=0)\n",
    "remerged_data[12] = pd.concat([dfs_lag_train[12].copy(), dfs_lag_test[12].copy()], axis=0)\n",
    "remerged_data[13] = pd.concat([dfs_original_train[13].copy(), dfs_original_test[13].copy()], axis=0)\n",
    "remerged_data[14] = pd.concat([dfs_original_train[14].copy(), dfs_original_test[14].copy()], axis=0)\n",
    "remerged_data[16] = pd.concat([dfs_original_train[16].copy(), dfs_original_test[16].copy()], axis=0)\n",
    "remerged_data[20] = pd.concat([dfs_original_train[20].copy(), dfs_original_test[20].copy()], axis=0)\n",
    "remerged_data[36] = pd.concat([dfs_outlier_train[36].copy(), dfs_outlier_test[36].copy()], axis=0)\n"
   ]
  },
  {
   "cell_type": "code",
   "execution_count": 41,
   "metadata": {},
   "outputs": [
    {
     "data": {
      "text/html": [
       "<div>\n",
       "<style scoped>\n",
       "    .dataframe tbody tr th:only-of-type {\n",
       "        vertical-align: middle;\n",
       "    }\n",
       "\n",
       "    .dataframe tbody tr th {\n",
       "        vertical-align: top;\n",
       "    }\n",
       "\n",
       "    .dataframe thead th {\n",
       "        text-align: right;\n",
       "    }\n",
       "</style>\n",
       "<table border=\"1\" class=\"dataframe\">\n",
       "  <thead>\n",
       "    <tr style=\"text-align: right;\">\n",
       "      <th></th>\n",
       "      <th>MAB_ELE_PRO276</th>\n",
       "      <th>PRO27826_org</th>\n",
       "      <th>MAB_ELE_PRO756</th>\n",
       "      <th>MAB_ELE_PRO826</th>\n",
       "      <th>PRO27840_org</th>\n",
       "      <th>Sales_CPI_€</th>\n",
       "    </tr>\n",
       "    <tr>\n",
       "      <th>Date</th>\n",
       "      <th></th>\n",
       "      <th></th>\n",
       "      <th></th>\n",
       "      <th></th>\n",
       "      <th></th>\n",
       "      <th></th>\n",
       "    </tr>\n",
       "  </thead>\n",
       "  <tbody>\n",
       "    <tr>\n",
       "      <th>2021-07-01</th>\n",
       "      <td>110.680184</td>\n",
       "      <td>122.742241</td>\n",
       "      <td>93.286137</td>\n",
       "      <td>105.426099</td>\n",
       "      <td>108.732765</td>\n",
       "      <td>3.839242e+07</td>\n",
       "    </tr>\n",
       "    <tr>\n",
       "      <th>2021-08-01</th>\n",
       "      <td>100.880844</td>\n",
       "      <td>116.395569</td>\n",
       "      <td>96.965037</td>\n",
       "      <td>99.283383</td>\n",
       "      <td>109.376541</td>\n",
       "      <td>3.758170e+07</td>\n",
       "    </tr>\n",
       "    <tr>\n",
       "      <th>2021-09-01</th>\n",
       "      <td>115.043611</td>\n",
       "      <td>130.525896</td>\n",
       "      <td>100.643938</td>\n",
       "      <td>115.833771</td>\n",
       "      <td>109.221512</td>\n",
       "      <td>3.765748e+07</td>\n",
       "    </tr>\n",
       "    <tr>\n",
       "      <th>2021-10-01</th>\n",
       "      <td>108.420507</td>\n",
       "      <td>117.832552</td>\n",
       "      <td>102.663969</td>\n",
       "      <td>99.135838</td>\n",
       "      <td>113.523598</td>\n",
       "      <td>4.639578e+07</td>\n",
       "    </tr>\n",
       "    <tr>\n",
       "      <th>2021-11-01</th>\n",
       "      <td>115.951560</td>\n",
       "      <td>127.053188</td>\n",
       "      <td>104.683999</td>\n",
       "      <td>109.856972</td>\n",
       "      <td>113.067886</td>\n",
       "      <td>3.572583e+07</td>\n",
       "    </tr>\n",
       "    <tr>\n",
       "      <th>2021-12-01</th>\n",
       "      <td>118.103281</td>\n",
       "      <td>121.065762</td>\n",
       "      <td>106.704029</td>\n",
       "      <td>101.273544</td>\n",
       "      <td>109.624107</td>\n",
       "      <td>3.554572e+07</td>\n",
       "    </tr>\n",
       "    <tr>\n",
       "      <th>2022-01-01</th>\n",
       "      <td>94.550610</td>\n",
       "      <td>112.324119</td>\n",
       "      <td>103.499260</td>\n",
       "      <td>95.003541</td>\n",
       "      <td>111.364670</td>\n",
       "      <td>3.991598e+07</td>\n",
       "    </tr>\n",
       "    <tr>\n",
       "      <th>2022-02-01</th>\n",
       "      <td>103.987916</td>\n",
       "      <td>115.557330</td>\n",
       "      <td>100.294492</td>\n",
       "      <td>98.458412</td>\n",
       "      <td>114.688400</td>\n",
       "      <td>3.847066e+07</td>\n",
       "    </tr>\n",
       "    <tr>\n",
       "      <th>2022-03-01</th>\n",
       "      <td>121.308119</td>\n",
       "      <td>145.254965</td>\n",
       "      <td>97.089723</td>\n",
       "      <td>121.993915</td>\n",
       "      <td>115.164093</td>\n",
       "      <td>4.347826e+07</td>\n",
       "    </tr>\n",
       "    <tr>\n",
       "      <th>2022-04-01</th>\n",
       "      <td>99.522205</td>\n",
       "      <td>114.359844</td>\n",
       "      <td>97.360450</td>\n",
       "      <td>95.266502</td>\n",
       "      <td>112.158089</td>\n",
       "      <td>4.466588e+07</td>\n",
       "    </tr>\n",
       "  </tbody>\n",
       "</table>\n",
       "</div>"
      ],
      "text/plain": [
       "            MAB_ELE_PRO276  PRO27826_org  MAB_ELE_PRO756  MAB_ELE_PRO826  \\\n",
       "Date                                                                       \n",
       "2021-07-01      110.680184    122.742241       93.286137      105.426099   \n",
       "2021-08-01      100.880844    116.395569       96.965037       99.283383   \n",
       "2021-09-01      115.043611    130.525896      100.643938      115.833771   \n",
       "2021-10-01      108.420507    117.832552      102.663969       99.135838   \n",
       "2021-11-01      115.951560    127.053188      104.683999      109.856972   \n",
       "2021-12-01      118.103281    121.065762      106.704029      101.273544   \n",
       "2022-01-01       94.550610    112.324119      103.499260       95.003541   \n",
       "2022-02-01      103.987916    115.557330      100.294492       98.458412   \n",
       "2022-03-01      121.308119    145.254965       97.089723      121.993915   \n",
       "2022-04-01       99.522205    114.359844       97.360450       95.266502   \n",
       "\n",
       "            PRO27840_org   Sales_CPI_€  \n",
       "Date                                    \n",
       "2021-07-01    108.732765  3.839242e+07  \n",
       "2021-08-01    109.376541  3.758170e+07  \n",
       "2021-09-01    109.221512  3.765748e+07  \n",
       "2021-10-01    113.523598  4.639578e+07  \n",
       "2021-11-01    113.067886  3.572583e+07  \n",
       "2021-12-01    109.624107  3.554572e+07  \n",
       "2022-01-01    111.364670  3.991598e+07  \n",
       "2022-02-01    114.688400  3.847066e+07  \n",
       "2022-03-01    115.164093  4.347826e+07  \n",
       "2022-04-01    112.158089  4.466588e+07  "
      ]
     },
     "execution_count": 41,
     "metadata": {},
     "output_type": "execute_result"
    }
   ],
   "source": [
    "remerged_data[1].tail(10)"
   ]
  },
  {
   "cell_type": "code",
   "execution_count": 42,
   "metadata": {},
   "outputs": [
    {
     "name": "stdout",
     "output_type": "stream",
     "text": [
      "Product ID: 1\n",
      "    Variable: MAB_ELE_PRO276\n",
      "    Test Statistic: 0.965643048286438\n",
      "    p-value: 0.2221372276544571\n",
      "\n",
      "    Variable: PRO27826_org\n",
      "    Test Statistic: 0.9144018292427063\n",
      "    p-value: 0.0035255765542387962\n",
      "\n",
      "    Variable: MAB_ELE_PRO756\n",
      "    Test Statistic: 0.992559015750885\n",
      "    p-value: 0.993213951587677\n",
      "\n",
      "    Variable: MAB_ELE_PRO826\n",
      "    Test Statistic: 0.9129245281219482\n",
      "    p-value: 0.003161100437864661\n",
      "\n",
      "    Variable: PRO27840_org\n",
      "    Test Statistic: 0.8624692559242249\n",
      "    p-value: 0.00010922953515546396\n",
      "\n",
      "Product ID: 3\n",
      "    Variable: PRO27826_org\n",
      "    Test Statistic: 0.9144018292427063\n",
      "    p-value: 0.0035255765542387962\n",
      "\n",
      "    Variable: MAB_ELE_PRO156\n",
      "    Test Statistic: 0.9585809707641602\n",
      "    p-value: 0.12300286442041397\n",
      "\n",
      "    Variable: RohiNATGAS1000_org\n",
      "    Test Statistic: 0.7715831995010376\n",
      "    p-value: 9.260044748771179e-07\n",
      "\n",
      "    Variable: PRI27826_org\n",
      "    Test Statistic: 0.9333119988441467\n",
      "    p-value: 0.015125780366361141\n",
      "\n",
      "    Variable: PRO27756_org\n",
      "    Test Statistic: 0.9644860029220581\n",
      "    p-value: 0.20185773074626923\n",
      "\n",
      "Product ID: 4\n",
      "    Variable: Sales_CPI_€_rolling_mean_3\n",
      "    Test Statistic: 0.9157757759094238\n",
      "    p-value: 0.008333815261721611\n",
      "\n",
      "    Variable: WKLWEUR840_org\n",
      "    Test Statistic: 0.9224519729614258\n",
      "    p-value: 0.01317611988633871\n",
      "\n",
      "    Variable: Sales_CPI_€_lag_1\n",
      "    Test Statistic: 0.8841894268989563\n",
      "    p-value: 0.0011029652087017894\n",
      "\n",
      "    Variable: PRO27826_org\n",
      "    Test Statistic: 0.8924440145492554\n",
      "    p-value: 0.0018296465277671814\n",
      "\n",
      "    Variable: RohiNATGAS1000_org\n",
      "    Test Statistic: 0.7653350830078125\n",
      "    p-value: 2.8104927878302988e-06\n",
      "\n",
      "Product ID: 6\n",
      "    Variable: PRO27276_org\n",
      "    Test Statistic: 0.9616402983665466\n",
      "    p-value: 0.15915870666503906\n",
      "\n",
      "    Variable: MAB_ELE_SHP840\n",
      "    Test Statistic: 0.9575577974319458\n",
      "    p-value: 0.11281711608171463\n",
      "\n",
      "    Variable: MAB_ELE_PRO276\n",
      "    Test Statistic: 0.965643048286438\n",
      "    p-value: 0.2221372276544571\n",
      "\n",
      "    Variable: MAB_ELE_PRO380\n",
      "    Test Statistic: 0.8568029999732971\n",
      "    p-value: 7.779023871989921e-05\n",
      "\n",
      "    Variable: MAB_ELE_SHP826\n",
      "    Test Statistic: 0.9364475011825562\n",
      "    p-value: 0.019461823627352715\n",
      "\n",
      "Product ID: 8\n",
      "    Variable: Sales_CPI_€_rolling_mean_3\n",
      "    Test Statistic: 0.910173773765564\n",
      "    p-value: 0.005722124595195055\n",
      "\n",
      "    Variable: Sales_CPI_€_lag_6\n",
      "    Test Statistic: 0.8938634991645813\n",
      "    p-value: 0.0019991088192909956\n",
      "\n",
      "    Variable: WKLWEUR840_org\n",
      "    Test Statistic: 0.9224519729614258\n",
      "    p-value: 0.01317611988633871\n",
      "\n",
      "    Variable: Sales_CPI_€_lag_3\n",
      "    Test Statistic: 0.8598865270614624\n",
      "    p-value: 0.0002700797631405294\n",
      "\n",
      "    Variable: PRO271000_org\n",
      "    Test Statistic: 0.9813738465309143\n",
      "    p-value: 0.7783116698265076\n",
      "\n",
      "Product ID: 9\n",
      "    Variable: Sales_CPI_€_rolling_mean_3\n",
      "    Test Statistic: 0.9376823306083679\n",
      "    p-value: 0.03894945979118347\n",
      "\n",
      "    Variable: PRO271000_org\n",
      "    Test Statistic: 0.9813738465309143\n",
      "    p-value: 0.7783116698265076\n",
      "\n",
      "    Variable: PRO27826_org\n",
      "    Test Statistic: 0.8924440145492554\n",
      "    p-value: 0.0018296465277671814\n",
      "\n",
      "    Variable: MAB_ELE_SHP840\n",
      "    Test Statistic: 0.9648101925849915\n",
      "    p-value: 0.2856925427913666\n",
      "\n",
      "    Variable: MAB_ELE_PRO250\n",
      "    Test Statistic: 0.864642858505249\n",
      "    p-value: 0.00035244168248027563\n",
      "\n",
      "Product ID: 11\n",
      "    Variable: RohiNATGAS1000_org\n",
      "    Test Statistic: 0.7715831995010376\n",
      "    p-value: 9.260044748771179e-07\n",
      "\n",
      "    Variable: MAB_ELE_SHP840\n",
      "    Test Statistic: 0.9575577974319458\n",
      "    p-value: 0.11281711608171463\n",
      "\n",
      "    Variable: MAB_ELE_PRO756\n",
      "    Test Statistic: 0.992559015750885\n",
      "    p-value: 0.993213951587677\n",
      "\n",
      "    Variable: PRI27826_org\n",
      "    Test Statistic: 0.9333119988441467\n",
      "    p-value: 0.015125780366361141\n",
      "\n",
      "    Variable: PRI27380_org\n",
      "    Test Statistic: 0.701572835445404\n",
      "    p-value: 4.803181496981779e-08\n",
      "\n",
      "Product ID: 12\n",
      "    Variable: Sales_CPI_€_rolling_mean_3\n",
      "    Test Statistic: 0.9301002025604248\n",
      "    p-value: 0.022561952471733093\n",
      "\n",
      "    Variable: MAB_ELE_PRO250\n",
      "    Test Statistic: 0.864642858505249\n",
      "    p-value: 0.00035244168248027563\n",
      "\n",
      "    Variable: MAB_ELE_PRO156\n",
      "    Test Statistic: 0.9317998290061951\n",
      "    p-value: 0.025472702458500862\n",
      "\n",
      "    Variable: Sales_CPI_€_lag_3\n",
      "    Test Statistic: 0.9280703067779541\n",
      "    p-value: 0.019534694030880928\n",
      "\n",
      "    Variable: MAB_ELE_SHP380\n",
      "    Test Statistic: 0.9450166821479797\n",
      "    p-value: 0.06671115756034851\n",
      "\n",
      "Product ID: 13\n",
      "    Variable: PRI27840_org\n",
      "    Test Statistic: 0.725189745426178\n",
      "    p-value: 1.2363267387627275e-07\n",
      "\n",
      "    Variable: PRO27756_org\n",
      "    Test Statistic: 0.9644860029220581\n",
      "    p-value: 0.20185773074626923\n",
      "\n",
      "    Variable: MAB_ELE_PRO826\n",
      "    Test Statistic: 0.9129245281219482\n",
      "    p-value: 0.003161100437864661\n",
      "\n",
      "    Variable: MAB_ELE_PRO276\n",
      "    Test Statistic: 0.965643048286438\n",
      "    p-value: 0.2221372276544571\n",
      "\n",
      "    Variable: RohiENERGY1000_org\n",
      "    Test Statistic: 0.9440041184425354\n",
      "    p-value: 0.03613327071070671\n",
      "\n",
      "Product ID: 36\n",
      "    Variable: MAB_ELE_PRO840\n",
      "    Test Statistic: 0.9564471244812012\n",
      "    p-value: 0.10270584374666214\n",
      "\n",
      "    Variable: RohiNATGAS1000_org\n",
      "    Test Statistic: 0.7715831995010376\n",
      "    p-value: 9.260044748771179e-07\n",
      "\n",
      "    Variable: PRO27826_org\n",
      "    Test Statistic: 0.9144018292427063\n",
      "    p-value: 0.0035255765542387962\n",
      "\n",
      "    Variable: RohiBASEMET1000_org\n",
      "    Test Statistic: 0.8702868223190308\n",
      "    p-value: 0.00017648264474701136\n",
      "\n",
      "    Variable: MAB_ELE_PRO756\n",
      "    Test Statistic: 0.992559015750885\n",
      "    p-value: 0.993213951587677\n",
      "\n"
     ]
    }
   ],
   "source": [
    "from scipy.stats import shapiro\n",
    "\n",
    "# Define a function to check normality using Shapiro-Wilk test for each variable in each DataFrame\n",
    "def check_normality_for_all_products(remerged_data, best_rmse_values):\n",
    "    # Initialize a dictionary to store the results\n",
    "    all_normality_results = {}\n",
    "\n",
    "    # Get models that are not \"timegpt\"\n",
    "    non_timegpt_models = [product_id for product_id, values in best_rmse_values.items() if values['Model'] != 'TimeGPT']\n",
    "\n",
    "    # Iterate through each product in remerged_data\n",
    "    for product_id, df in remerged_data.items():\n",
    "        if product_id in non_timegpt_models:\n",
    "            normality_results = {}\n",
    "\n",
    "            # Exclude 'Sales_CPI_€' column from the DataFrame\n",
    "            df_exog = df.drop(columns=['Sales_CPI_€'])\n",
    "\n",
    "            # Iterate over each column in the DataFrame\n",
    "            for column in df_exog.columns:\n",
    "                # Perform Shapiro-Wilk test\n",
    "                stat, p_value = shapiro(df_exog[column].dropna()) # Drop NaN values\n",
    "\n",
    "                # Store the result\n",
    "                normality_results[column] = {\n",
    "                    'Test Statistic': stat,\n",
    "                    'p-value': p_value\n",
    "                }\n",
    "\n",
    "            # Store the normality results for the current product\n",
    "            all_normality_results[product_id] = normality_results\n",
    "\n",
    "    return all_normality_results\n",
    "\n",
    "# Check normality for each variable in each product's DataFrame\n",
    "all_normality_results = check_normality_for_all_products(remerged_data, best_rmse_values)\n",
    "\n",
    "# Print normality results\n",
    "for product_id, product_results in all_normality_results.items():\n",
    "    print(f\"Product ID: {product_id}\")\n",
    "    for column, result in product_results.items():\n",
    "        print(f\"    Variable: {column}\")\n",
    "        print(f\"    Test Statistic: {result['Test Statistic']}\")\n",
    "        print(f\"    p-value: {result['p-value']}\")\n",
    "        print()\n"
   ]
  },
  {
   "cell_type": "code",
   "execution_count": 43,
   "metadata": {},
   "outputs": [
    {
     "name": "stdout",
     "output_type": "stream",
     "text": [
      "Product ID: 1\n",
      "    Variable: MAB_ELE_PRO276\n",
      "    ADF Statistic: -2.747344219173471\n",
      "    p-value: 0.06619779592967073\n",
      "    Stationary: False\n",
      "\n",
      "    Variable: PRO27826_org\n",
      "    ADF Statistic: -4.853463077754567\n",
      "    p-value: 4.2926977771570865e-05\n",
      "    Stationary: True\n",
      "\n",
      "    Variable: MAB_ELE_PRO756\n",
      "    ADF Statistic: -2.145974448389574\n",
      "    p-value: 0.22643414880279056\n",
      "    Stationary: False\n",
      "\n",
      "    Variable: MAB_ELE_PRO826\n",
      "    ADF Statistic: -2.2277679399093704\n",
      "    p-value: 0.19632207403368973\n",
      "    Stationary: False\n",
      "\n",
      "    Variable: PRO27840_org\n",
      "    ADF Statistic: -2.0725769483770753\n",
      "    p-value: 0.2556835310614358\n",
      "    Stationary: False\n",
      "\n",
      "Product ID: 3\n",
      "    Variable: PRO27826_org\n",
      "    ADF Statistic: -4.853463077754567\n",
      "    p-value: 4.2926977771570865e-05\n",
      "    Stationary: True\n",
      "\n",
      "    Variable: MAB_ELE_PRO156\n",
      "    ADF Statistic: -0.19620286804902076\n",
      "    p-value: 0.9389727145274538\n",
      "    Stationary: False\n",
      "\n",
      "    Variable: RohiNATGAS1000_org\n",
      "    ADF Statistic: 0.4599340270660138\n",
      "    p-value: 0.9836030810225652\n",
      "    Stationary: False\n",
      "\n",
      "    Variable: PRI27826_org\n",
      "    ADF Statistic: 0.6228556289129139\n",
      "    p-value: 0.9881656401406813\n",
      "    Stationary: False\n",
      "\n",
      "    Variable: PRO27756_org\n",
      "    ADF Statistic: -2.0194315538782615\n",
      "    p-value: 0.2781185645962199\n",
      "    Stationary: False\n",
      "\n",
      "Product ID: 4\n",
      "    Variable: Sales_CPI_€_rolling_mean_3\n",
      "    ADF Statistic: -1.4417327798537203\n",
      "    p-value: 0.5621135687302041\n",
      "    Stationary: False\n",
      "\n",
      "    Variable: WKLWEUR840_org\n",
      "    ADF Statistic: -2.014778995325006\n",
      "    p-value: 0.2801308560585239\n",
      "    Stationary: False\n",
      "\n",
      "    Variable: Sales_CPI_€_lag_1\n",
      "    ADF Statistic: -5.224051178574912\n",
      "    p-value: 7.850593260388146e-06\n",
      "    Stationary: True\n",
      "\n",
      "    Variable: PRO27826_org\n",
      "    ADF Statistic: -4.497866661356587\n",
      "    p-value: 0.00019839263811214053\n",
      "    Stationary: True\n",
      "\n",
      "    Variable: RohiNATGAS1000_org\n",
      "    ADF Statistic: -0.006114689618666617\n",
      "    p-value: 0.9580234747610828\n",
      "    Stationary: False\n",
      "\n",
      "Product ID: 6\n",
      "    Variable: PRO27276_org\n",
      "    ADF Statistic: -1.8202806130314182\n",
      "    p-value: 0.37044042678695444\n",
      "    Stationary: False\n",
      "\n",
      "    Variable: MAB_ELE_SHP840\n",
      "    ADF Statistic: 0.1525431238146123\n",
      "    p-value: 0.9694706923950925\n",
      "    Stationary: False\n",
      "\n",
      "    Variable: MAB_ELE_PRO276\n",
      "    ADF Statistic: -2.747344219173471\n",
      "    p-value: 0.06619779592967073\n",
      "    Stationary: False\n",
      "\n",
      "    Variable: MAB_ELE_PRO380\n",
      "    ADF Statistic: -1.9535368945368923\n",
      "    p-value: 0.3073095029974522\n",
      "    Stationary: False\n",
      "\n",
      "    Variable: MAB_ELE_SHP826\n",
      "    ADF Statistic: -3.9524384589292225\n",
      "    p-value: 0.0016810903456394475\n",
      "    Stationary: True\n",
      "\n",
      "Product ID: 8\n",
      "    Variable: Sales_CPI_€_rolling_mean_3\n",
      "    ADF Statistic: 2.472763491093764\n",
      "    p-value: 0.9990405379352214\n",
      "    Stationary: False\n",
      "\n",
      "    Variable: Sales_CPI_€_lag_6\n",
      "    ADF Statistic: 2.0718390050706965\n",
      "    p-value: 0.9987593282940284\n",
      "    Stationary: False\n",
      "\n",
      "    Variable: WKLWEUR840_org\n",
      "    ADF Statistic: -2.014778995325006\n",
      "    p-value: 0.2801308560585239\n",
      "    Stationary: False\n",
      "\n",
      "    Variable: Sales_CPI_€_lag_3\n",
      "    ADF Statistic: 2.3979046445191057\n",
      "    p-value: 0.9990093201320246\n",
      "    Stationary: False\n",
      "\n",
      "    Variable: PRO271000_org\n",
      "    ADF Statistic: -0.19253357298715926\n",
      "    p-value: 0.9394057634518859\n",
      "    Stationary: False\n",
      "\n",
      "Product ID: 9\n",
      "    Variable: Sales_CPI_€_rolling_mean_3\n",
      "    ADF Statistic: -1.5726659453760288\n",
      "    p-value: 0.4973081068637113\n",
      "    Stationary: False\n",
      "\n",
      "    Variable: PRO271000_org\n",
      "    ADF Statistic: -0.19253357298715926\n",
      "    p-value: 0.9394057634518859\n",
      "    Stationary: False\n",
      "\n",
      "    Variable: PRO27826_org\n",
      "    ADF Statistic: -4.497866661356587\n",
      "    p-value: 0.00019839263811214053\n",
      "    Stationary: True\n",
      "\n",
      "    Variable: MAB_ELE_SHP840\n",
      "    ADF Statistic: 0.3704940781064937\n",
      "    p-value: 0.9803573544737846\n",
      "    Stationary: False\n",
      "\n",
      "    Variable: MAB_ELE_PRO250\n",
      "    ADF Statistic: -2.5583062451593084\n",
      "    p-value: 0.10192428157220457\n",
      "    Stationary: False\n",
      "\n",
      "Product ID: 11\n",
      "    Variable: RohiNATGAS1000_org\n",
      "    ADF Statistic: 0.4599340270660138\n",
      "    p-value: 0.9836030810225652\n",
      "    Stationary: False\n",
      "\n",
      "    Variable: MAB_ELE_SHP840\n",
      "    ADF Statistic: 0.1525431238146123\n",
      "    p-value: 0.9694706923950925\n",
      "    Stationary: False\n",
      "\n",
      "    Variable: MAB_ELE_PRO756\n",
      "    ADF Statistic: -2.145974448389574\n",
      "    p-value: 0.22643414880279056\n",
      "    Stationary: False\n",
      "\n",
      "    Variable: PRI27826_org\n",
      "    ADF Statistic: 0.6228556289129139\n",
      "    p-value: 0.9881656401406813\n",
      "    Stationary: False\n",
      "\n",
      "    Variable: PRI27380_org\n",
      "    ADF Statistic: 7.017747315059135\n",
      "    p-value: 1.0\n",
      "    Stationary: False\n",
      "\n",
      "Product ID: 12\n",
      "    Variable: Sales_CPI_€_rolling_mean_3\n",
      "    ADF Statistic: -0.3449064393675397\n",
      "    p-value: 0.9188990425665005\n",
      "    Stationary: False\n",
      "\n",
      "    Variable: MAB_ELE_PRO250\n",
      "    ADF Statistic: -2.5583062451593084\n",
      "    p-value: 0.10192428157220457\n",
      "    Stationary: False\n",
      "\n",
      "    Variable: MAB_ELE_PRO156\n",
      "    ADF Statistic: -1.7363917441147791\n",
      "    p-value: 0.4124665667695261\n",
      "    Stationary: False\n",
      "\n",
      "    Variable: Sales_CPI_€_lag_3\n",
      "    ADF Statistic: -3.8260423421714025\n",
      "    p-value: 0.002651828362937505\n",
      "    Stationary: True\n",
      "\n",
      "    Variable: MAB_ELE_SHP380\n",
      "    ADF Statistic: -4.705585988748083\n",
      "    p-value: 8.214282152126978e-05\n",
      "    Stationary: True\n",
      "\n",
      "Product ID: 13\n",
      "    Variable: PRI27840_org\n",
      "    ADF Statistic: 7.670830521693212\n",
      "    p-value: 1.0\n",
      "    Stationary: False\n",
      "\n",
      "    Variable: PRO27756_org\n",
      "    ADF Statistic: -2.0194315538782615\n",
      "    p-value: 0.2781185645962199\n",
      "    Stationary: False\n",
      "\n",
      "    Variable: MAB_ELE_PRO826\n",
      "    ADF Statistic: -2.2277679399093704\n",
      "    p-value: 0.19632207403368973\n",
      "    Stationary: False\n",
      "\n",
      "    Variable: MAB_ELE_PRO276\n",
      "    ADF Statistic: -2.747344219173471\n",
      "    p-value: 0.06619779592967073\n",
      "    Stationary: False\n",
      "\n",
      "    Variable: RohiENERGY1000_org\n",
      "    ADF Statistic: 0.4057475513642027\n",
      "    p-value: 0.9817086112887563\n",
      "    Stationary: False\n",
      "\n",
      "Product ID: 36\n",
      "    Variable: MAB_ELE_PRO840\n",
      "    ADF Statistic: -2.1880797216549457\n",
      "    p-value: 0.21060024144979794\n",
      "    Stationary: False\n",
      "\n",
      "    Variable: RohiNATGAS1000_org\n",
      "    ADF Statistic: 0.4599340270660138\n",
      "    p-value: 0.9836030810225652\n",
      "    Stationary: False\n",
      "\n",
      "    Variable: PRO27826_org\n",
      "    ADF Statistic: -4.853463077754567\n",
      "    p-value: 4.2926977771570865e-05\n",
      "    Stationary: True\n",
      "\n",
      "    Variable: RohiBASEMET1000_org\n",
      "    ADF Statistic: 0.4983636872897753\n",
      "    p-value: 0.9848232769525972\n",
      "    Stationary: False\n",
      "\n",
      "    Variable: MAB_ELE_PRO756\n",
      "    ADF Statistic: -2.145974448389574\n",
      "    p-value: 0.22643414880279056\n",
      "    Stationary: False\n",
      "\n"
     ]
    }
   ],
   "source": [
    "from statsmodels.tsa.stattools import adfuller\n",
    "\n",
    "def check_stationarity_for_all_products(remerged_data, best_rmse_values):\n",
    "    \"\"\"\n",
    "    Check stationarity using ADF test for each variable in each DataFrame, excluding variables associated with TimeGPT model.\n",
    "    \n",
    "    Parameters:\n",
    "        remerged_data (dict): Dictionary containing DataFrames for each product.\n",
    "        best_rmse_values (dict): Dictionary containing best RMSE values for each product and its associated model.\n",
    "    \n",
    "    Returns:\n",
    "        dict: A dictionary where keys are product IDs and values are dictionaries containing ADF test results for each variable.\n",
    "    \"\"\"\n",
    "    all_stationarity_results = {}\n",
    "\n",
    "    # Get models that are not \"TimeGPT\"\n",
    "    non_timegpt_models = [product_id for product_id, values in best_rmse_values.items() if values['Model'] != 'TimeGPT']\n",
    "\n",
    "    # Iterate through each product in remerged_data\n",
    "    for product_id, df in remerged_data.items():\n",
    "        if product_id in non_timegpt_models:\n",
    "            stationarity_results = {}\n",
    "\n",
    "            # Exclude 'Sales_CPI_€' column from the DataFrame\n",
    "            df_exog = df.drop(columns=['Sales_CPI_€'])\n",
    "\n",
    "            # Iterate over each column in the DataFrame\n",
    "            for column in df_exog.columns:\n",
    "                # Perform ADF test\n",
    "                result = adfuller(df_exog[column].dropna())  # Drop NaN values\n",
    "                \n",
    "                # Extract ADF test results\n",
    "                adf_statistic = result[0]\n",
    "                p_value = result[1]\n",
    "                is_stationary = p_value < 0.05  # True if the variable is stationary\n",
    "                \n",
    "                # Store the result\n",
    "                stationarity_results[column] = {\n",
    "                    'ADF Statistic': adf_statistic,\n",
    "                    'p-value': p_value,\n",
    "                    'Stationary': is_stationary\n",
    "                }\n",
    "\n",
    "            # Store the stationarity results for the current product\n",
    "            all_stationarity_results[product_id] = stationarity_results\n",
    "    \n",
    "    return all_stationarity_results\n",
    "\n",
    "all_stationarity_results = check_stationarity_for_all_products(remerged_data, best_rmse_values)\n",
    "\n",
    "# Print stationarity results\n",
    "for product_id, product_results in all_stationarity_results.items():\n",
    "    print(f\"Product ID: {product_id}\")\n",
    "    for column, result in product_results.items():\n",
    "        print(f\"    Variable: {column}\")\n",
    "        print(f\"    ADF Statistic: {result['ADF Statistic']}\")\n",
    "        print(f\"    p-value: {result['p-value']}\")\n",
    "        print(f\"    Stationary: {result['Stationary']}\")\n",
    "        print()"
   ]
  },
  {
   "cell_type": "markdown",
   "metadata": {},
   "source": [
    "## Predict "
   ]
  },
  {
   "cell_type": "markdown",
   "metadata": {},
   "source": [
    "### Product 1"
   ]
  },
  {
   "cell_type": "code",
   "execution_count": 44,
   "metadata": {},
   "outputs": [],
   "source": [
    "test_1 = pd.DataFrame(index=test[test['Mapped_GCK'] == '1']['Month Year'], columns=remerged_data[1].columns)"
   ]
  },
  {
   "cell_type": "code",
   "execution_count": 45,
   "metadata": {},
   "outputs": [
    {
     "data": {
      "text/html": [
       "<div>\n",
       "<style scoped>\n",
       "    .dataframe tbody tr th:only-of-type {\n",
       "        vertical-align: middle;\n",
       "    }\n",
       "\n",
       "    .dataframe tbody tr th {\n",
       "        vertical-align: top;\n",
       "    }\n",
       "\n",
       "    .dataframe thead th {\n",
       "        text-align: right;\n",
       "    }\n",
       "</style>\n",
       "<table border=\"1\" class=\"dataframe\">\n",
       "  <thead>\n",
       "    <tr style=\"text-align: right;\">\n",
       "      <th></th>\n",
       "      <th>MAB_ELE_PRO276</th>\n",
       "      <th>PRO27826_org</th>\n",
       "      <th>MAB_ELE_PRO756</th>\n",
       "      <th>MAB_ELE_PRO826</th>\n",
       "      <th>PRO27840_org</th>\n",
       "      <th>Sales_CPI_€</th>\n",
       "    </tr>\n",
       "    <tr>\n",
       "      <th>Month Year</th>\n",
       "      <th></th>\n",
       "      <th></th>\n",
       "      <th></th>\n",
       "      <th></th>\n",
       "      <th></th>\n",
       "      <th></th>\n",
       "    </tr>\n",
       "  </thead>\n",
       "  <tbody>\n",
       "    <tr>\n",
       "      <th>2022-05-01</th>\n",
       "      <td>NaN</td>\n",
       "      <td>NaN</td>\n",
       "      <td>NaN</td>\n",
       "      <td>NaN</td>\n",
       "      <td>NaN</td>\n",
       "      <td>NaN</td>\n",
       "    </tr>\n",
       "    <tr>\n",
       "      <th>2022-06-01</th>\n",
       "      <td>NaN</td>\n",
       "      <td>NaN</td>\n",
       "      <td>NaN</td>\n",
       "      <td>NaN</td>\n",
       "      <td>NaN</td>\n",
       "      <td>NaN</td>\n",
       "    </tr>\n",
       "    <tr>\n",
       "      <th>2022-07-01</th>\n",
       "      <td>NaN</td>\n",
       "      <td>NaN</td>\n",
       "      <td>NaN</td>\n",
       "      <td>NaN</td>\n",
       "      <td>NaN</td>\n",
       "      <td>NaN</td>\n",
       "    </tr>\n",
       "    <tr>\n",
       "      <th>2022-08-01</th>\n",
       "      <td>NaN</td>\n",
       "      <td>NaN</td>\n",
       "      <td>NaN</td>\n",
       "      <td>NaN</td>\n",
       "      <td>NaN</td>\n",
       "      <td>NaN</td>\n",
       "    </tr>\n",
       "    <tr>\n",
       "      <th>2022-09-01</th>\n",
       "      <td>NaN</td>\n",
       "      <td>NaN</td>\n",
       "      <td>NaN</td>\n",
       "      <td>NaN</td>\n",
       "      <td>NaN</td>\n",
       "      <td>NaN</td>\n",
       "    </tr>\n",
       "    <tr>\n",
       "      <th>2022-10-01</th>\n",
       "      <td>NaN</td>\n",
       "      <td>NaN</td>\n",
       "      <td>NaN</td>\n",
       "      <td>NaN</td>\n",
       "      <td>NaN</td>\n",
       "      <td>NaN</td>\n",
       "    </tr>\n",
       "    <tr>\n",
       "      <th>2022-11-01</th>\n",
       "      <td>NaN</td>\n",
       "      <td>NaN</td>\n",
       "      <td>NaN</td>\n",
       "      <td>NaN</td>\n",
       "      <td>NaN</td>\n",
       "      <td>NaN</td>\n",
       "    </tr>\n",
       "    <tr>\n",
       "      <th>2022-12-01</th>\n",
       "      <td>NaN</td>\n",
       "      <td>NaN</td>\n",
       "      <td>NaN</td>\n",
       "      <td>NaN</td>\n",
       "      <td>NaN</td>\n",
       "      <td>NaN</td>\n",
       "    </tr>\n",
       "    <tr>\n",
       "      <th>2023-01-01</th>\n",
       "      <td>NaN</td>\n",
       "      <td>NaN</td>\n",
       "      <td>NaN</td>\n",
       "      <td>NaN</td>\n",
       "      <td>NaN</td>\n",
       "      <td>NaN</td>\n",
       "    </tr>\n",
       "    <tr>\n",
       "      <th>2023-02-01</th>\n",
       "      <td>NaN</td>\n",
       "      <td>NaN</td>\n",
       "      <td>NaN</td>\n",
       "      <td>NaN</td>\n",
       "      <td>NaN</td>\n",
       "      <td>NaN</td>\n",
       "    </tr>\n",
       "  </tbody>\n",
       "</table>\n",
       "</div>"
      ],
      "text/plain": [
       "           MAB_ELE_PRO276 PRO27826_org MAB_ELE_PRO756 MAB_ELE_PRO826  \\\n",
       "Month Year                                                             \n",
       "2022-05-01            NaN          NaN            NaN            NaN   \n",
       "2022-06-01            NaN          NaN            NaN            NaN   \n",
       "2022-07-01            NaN          NaN            NaN            NaN   \n",
       "2022-08-01            NaN          NaN            NaN            NaN   \n",
       "2022-09-01            NaN          NaN            NaN            NaN   \n",
       "2022-10-01            NaN          NaN            NaN            NaN   \n",
       "2022-11-01            NaN          NaN            NaN            NaN   \n",
       "2022-12-01            NaN          NaN            NaN            NaN   \n",
       "2023-01-01            NaN          NaN            NaN            NaN   \n",
       "2023-02-01            NaN          NaN            NaN            NaN   \n",
       "\n",
       "           PRO27840_org Sales_CPI_€  \n",
       "Month Year                           \n",
       "2022-05-01          NaN         NaN  \n",
       "2022-06-01          NaN         NaN  \n",
       "2022-07-01          NaN         NaN  \n",
       "2022-08-01          NaN         NaN  \n",
       "2022-09-01          NaN         NaN  \n",
       "2022-10-01          NaN         NaN  \n",
       "2022-11-01          NaN         NaN  \n",
       "2022-12-01          NaN         NaN  \n",
       "2023-01-01          NaN         NaN  \n",
       "2023-02-01          NaN         NaN  "
      ]
     },
     "execution_count": 45,
     "metadata": {},
     "output_type": "execute_result"
    }
   ],
   "source": [
    "test_1"
   ]
  },
  {
   "cell_type": "markdown",
   "metadata": {},
   "source": [
    "#### MAB_ELE_PRO276"
   ]
  },
  {
   "cell_type": "markdown",
   "metadata": {},
   "source": [
    "Has a p-value > 0.05, so it follows a normal distribution"
   ]
  },
  {
   "cell_type": "code",
   "execution_count": 46,
   "metadata": {},
   "outputs": [],
   "source": [
    "from scipy.stats import norm"
   ]
  },
  {
   "cell_type": "code",
   "execution_count": 47,
   "metadata": {},
   "outputs": [],
   "source": [
    "#  Calculate mean and standard deviation of the non-missing values\n",
    "mean_value = remerged_data[1]['MAB_ELE_PRO276'].mean()\n",
    "std_value = remerged_data[1]['MAB_ELE_PRO276'].std()\n",
    "\n",
    "#  Get the number of missing values\n",
    "num_missing = test_1['MAB_ELE_PRO276'].isnull().sum()\n",
    "\n",
    "# Generate a sequence of random values from a normal distribution\n",
    "predictions = norm.rvs(loc=mean_value, scale=std_value, size=num_missing)\n",
    "\n",
    "# Get the indices of the missing values\n",
    "missing_indexes = test_1[test_1['MAB_ELE_PRO276'].isnull()].index\n",
    "\n",
    "# Create a pd.Series with the predictions for the missing indexes\n",
    "predictions_series = pd.Series(predictions, index=missing_indexes)\n",
    "\n",
    "# Fill the missing values in the 'MAB_ELE_PRO276' column with the predictions\n",
    "test_1['MAB_ELE_PRO276'].fillna(predictions_series, inplace=True)"
   ]
  },
  {
   "cell_type": "markdown",
   "metadata": {},
   "source": [
    "#### PRO27826_org"
   ]
  },
  {
   "cell_type": "markdown",
   "metadata": {},
   "source": [
    "Has a p-value < 0.05, so it does not follow a normal distribution and is stacionary so we are gonna apply Simple Exponencial Smoothing to predict the values"
   ]
  },
  {
   "cell_type": "code",
   "execution_count": 48,
   "metadata": {},
   "outputs": [
    {
     "name": "stderr",
     "output_type": "stream",
     "text": [
      "/Users/ritamatias/anaconda3/envs/DM2324/lib/python3.11/site-packages/statsmodels/tsa/base/tsa_model.py:473: ValueWarning: No frequency information was provided, so inferred frequency MS will be used.\n",
      "  self._init_dates(dates, freq)\n"
     ]
    }
   ],
   "source": [
    "from statsmodels.tsa.holtwinters import SimpleExpSmoothing\n",
    "\n",
    "# Extract non-missing values\n",
    "series = remerged_data[1]['PRO27826_org'].dropna()\n",
    "\n",
    "# Fit the simple exponential smoothing model\n",
    "model = SimpleExpSmoothing(series)\n",
    "fitted_model = model.fit()\n",
    "\n",
    "# Forecast future values\n",
    "n_periods = test_1['PRO27826_org'].isnull().sum()\n",
    "forecast = fitted_model.forecast(steps=n_periods)\n",
    "\n",
    "# Get the indices of the missing values\n",
    "missing_indexes = test_1[test_1['PRO27826_org'].isnull()].index\n",
    "\n",
    "# Replace NaN values in the 'PRO27826_org' column with the forecasted values\n",
    "test_1.loc[missing_indexes, 'PRO27826_org'] = forecast\n"
   ]
  },
  {
   "cell_type": "markdown",
   "metadata": {},
   "source": [
    "#### MAB_ELE_PRO756"
   ]
  },
  {
   "cell_type": "markdown",
   "metadata": {},
   "source": [
    "Has a p-value > 0.05, so it follows a normal distribution"
   ]
  },
  {
   "cell_type": "code",
   "execution_count": 49,
   "metadata": {},
   "outputs": [],
   "source": [
    "#  Calculate mean and standard deviation of the non-missing values\n",
    "mean_value = remerged_data[1]['MAB_ELE_PRO756'].mean()\n",
    "std_value = remerged_data[1]['MAB_ELE_PRO756'].std()\n",
    "\n",
    "#  Get the number of missing values\n",
    "num_missing = test_1['MAB_ELE_PRO756'].isnull().sum()\n",
    "\n",
    "# Generate a sequence of random values from a normal distribution\n",
    "predictions = norm.rvs(loc=mean_value, scale=std_value, size=num_missing)\n",
    "\n",
    "# Get the indices of the missing values\n",
    "missing_indexes = test_1[test_1['MAB_ELE_PRO756'].isnull()].index\n",
    "\n",
    "# Create a pd.Series with the predictions for the missing indexes\n",
    "predictions_series = pd.Series(predictions, index=missing_indexes)\n",
    "\n",
    "# Fill the missing values in the 'MAB_ELE_PRO756' column with the predictions\n",
    "test_1['MAB_ELE_PRO756'].fillna(predictions_series, inplace=True)"
   ]
  },
  {
   "cell_type": "markdown",
   "metadata": {},
   "source": [
    "#### MAB_ELE_PRO826"
   ]
  },
  {
   "cell_type": "markdown",
   "metadata": {},
   "source": [
    "Has a p-value < 0.05, so it does not follow a normal distribution and is non stacionary so we are gonna apply Holt Winters to predict the values"
   ]
  },
  {
   "cell_type": "code",
   "execution_count": 50,
   "metadata": {},
   "outputs": [
    {
     "name": "stderr",
     "output_type": "stream",
     "text": [
      "/Users/ritamatias/anaconda3/envs/DM2324/lib/python3.11/site-packages/statsmodels/tsa/base/tsa_model.py:473: ValueWarning: No frequency information was provided, so inferred frequency MS will be used.\n",
      "  self._init_dates(dates, freq)\n"
     ]
    }
   ],
   "source": [
    "from statsmodels.tsa.holtwinters import ExponentialSmoothing\n",
    "\n",
    "# Extract non-missing values\n",
    "series = remerged_data[1]['MAB_ELE_PRO826'].dropna()\n",
    "\n",
    "# Fit the Holt-Winters Exponential Smoothing model\n",
    "model = ExponentialSmoothing(series, seasonal='multiplicative', trend='additive', seasonal_periods=12)\n",
    "fitted_model = model.fit()\n",
    "\n",
    "# Forecast future values\n",
    "n_periods = test_1['MAB_ELE_PRO826'].isnull().sum()\n",
    "forecast = fitted_model.forecast(steps=n_periods)\n",
    "\n",
    "# Get the indices of the missing values\n",
    "missing_indexes = test_1[test_1['MAB_ELE_PRO826'].isnull()].index\n",
    "\n",
    "# Replace NaN values in the 'MAB_ELE_PRO826' column with the forecasted values\n",
    "test_1.loc[missing_indexes, 'MAB_ELE_PRO826'] = forecast\n"
   ]
  },
  {
   "cell_type": "markdown",
   "metadata": {},
   "source": [
    "#### PRO27840_org"
   ]
  },
  {
   "cell_type": "markdown",
   "metadata": {},
   "source": [
    "Has a p-value < 0.05, so it does not follow a normal distribution and is non stacionary so we are gonna apply Holt Winters to predict the values"
   ]
  },
  {
   "cell_type": "code",
   "execution_count": 51,
   "metadata": {},
   "outputs": [
    {
     "name": "stderr",
     "output_type": "stream",
     "text": [
      "/Users/ritamatias/anaconda3/envs/DM2324/lib/python3.11/site-packages/statsmodels/tsa/base/tsa_model.py:473: ValueWarning: No frequency information was provided, so inferred frequency MS will be used.\n",
      "  self._init_dates(dates, freq)\n"
     ]
    }
   ],
   "source": [
    "from statsmodels.tsa.holtwinters import ExponentialSmoothing\n",
    "\n",
    "#  Extract non-missing values\n",
    "series = remerged_data[1]['PRO27840_org'].dropna()\n",
    "\n",
    "# Fit the exponential smoothing model\n",
    "model = ExponentialSmoothing(series, seasonal='multiplicative', trend='multiplicative')\n",
    "fitted_model = model.fit()\n",
    "\n",
    "# Forecast future values\n",
    "n_periods = test_1['PRO27840_org'].isnull().sum()\n",
    "forecast = fitted_model.forecast(steps=n_periods)\n",
    "\n",
    "# Get the indices of the missing values\n",
    "missing_indexes = test_1[test_1['PRO27840_org'].isnull()].index\n",
    "\n",
    "# Replace NaN values in the 'PRO27840_org' column with the forecasted values\n",
    "test_1.loc[missing_indexes, 'PRO27840_org'] = forecast\n"
   ]
  },
  {
   "cell_type": "code",
   "execution_count": 52,
   "metadata": {},
   "outputs": [
    {
     "data": {
      "text/html": [
       "<div>\n",
       "<style scoped>\n",
       "    .dataframe tbody tr th:only-of-type {\n",
       "        vertical-align: middle;\n",
       "    }\n",
       "\n",
       "    .dataframe tbody tr th {\n",
       "        vertical-align: top;\n",
       "    }\n",
       "\n",
       "    .dataframe thead th {\n",
       "        text-align: right;\n",
       "    }\n",
       "</style>\n",
       "<table border=\"1\" class=\"dataframe\">\n",
       "  <thead>\n",
       "    <tr style=\"text-align: right;\">\n",
       "      <th></th>\n",
       "      <th>MAB_ELE_PRO276</th>\n",
       "      <th>PRO27826_org</th>\n",
       "      <th>MAB_ELE_PRO756</th>\n",
       "      <th>MAB_ELE_PRO826</th>\n",
       "      <th>PRO27840_org</th>\n",
       "      <th>Sales_CPI_€</th>\n",
       "    </tr>\n",
       "    <tr>\n",
       "      <th>Month Year</th>\n",
       "      <th></th>\n",
       "      <th></th>\n",
       "      <th></th>\n",
       "      <th></th>\n",
       "      <th></th>\n",
       "      <th></th>\n",
       "    </tr>\n",
       "  </thead>\n",
       "  <tbody>\n",
       "    <tr>\n",
       "      <th>2022-05-01</th>\n",
       "      <td>117.602286</td>\n",
       "      <td>118.670726</td>\n",
       "      <td>105.263948</td>\n",
       "      <td>97.98079</td>\n",
       "      <td>112.919318</td>\n",
       "      <td>NaN</td>\n",
       "    </tr>\n",
       "    <tr>\n",
       "      <th>2022-06-01</th>\n",
       "      <td>120.292600</td>\n",
       "      <td>118.670726</td>\n",
       "      <td>84.042132</td>\n",
       "      <td>109.658616</td>\n",
       "      <td>113.11048</td>\n",
       "      <td>NaN</td>\n",
       "    </tr>\n",
       "    <tr>\n",
       "      <th>2022-07-01</th>\n",
       "      <td>116.126088</td>\n",
       "      <td>118.670726</td>\n",
       "      <td>98.029081</td>\n",
       "      <td>105.869498</td>\n",
       "      <td>112.167111</td>\n",
       "      <td>NaN</td>\n",
       "    </tr>\n",
       "    <tr>\n",
       "      <th>2022-08-01</th>\n",
       "      <td>109.638478</td>\n",
       "      <td>118.670726</td>\n",
       "      <td>86.736721</td>\n",
       "      <td>97.97361</td>\n",
       "      <td>113.532076</td>\n",
       "      <td>NaN</td>\n",
       "    </tr>\n",
       "    <tr>\n",
       "      <th>2022-09-01</th>\n",
       "      <td>111.056307</td>\n",
       "      <td>118.670726</td>\n",
       "      <td>110.153464</td>\n",
       "      <td>113.899246</td>\n",
       "      <td>112.481588</td>\n",
       "      <td>NaN</td>\n",
       "    </tr>\n",
       "    <tr>\n",
       "      <th>2022-10-01</th>\n",
       "      <td>116.416852</td>\n",
       "      <td>118.670726</td>\n",
       "      <td>108.126620</td>\n",
       "      <td>107.709413</td>\n",
       "      <td>116.403894</td>\n",
       "      <td>NaN</td>\n",
       "    </tr>\n",
       "    <tr>\n",
       "      <th>2022-11-01</th>\n",
       "      <td>112.829967</td>\n",
       "      <td>118.670726</td>\n",
       "      <td>98.291681</td>\n",
       "      <td>110.977378</td>\n",
       "      <td>116.65317</td>\n",
       "      <td>NaN</td>\n",
       "    </tr>\n",
       "    <tr>\n",
       "      <th>2022-12-01</th>\n",
       "      <td>110.486227</td>\n",
       "      <td>118.670726</td>\n",
       "      <td>93.018922</td>\n",
       "      <td>101.840492</td>\n",
       "      <td>114.148308</td>\n",
       "      <td>NaN</td>\n",
       "    </tr>\n",
       "    <tr>\n",
       "      <th>2023-01-01</th>\n",
       "      <td>123.828164</td>\n",
       "      <td>118.670726</td>\n",
       "      <td>86.207770</td>\n",
       "      <td>96.865944</td>\n",
       "      <td>114.958416</td>\n",
       "      <td>NaN</td>\n",
       "    </tr>\n",
       "    <tr>\n",
       "      <th>2023-02-01</th>\n",
       "      <td>96.984587</td>\n",
       "      <td>118.670726</td>\n",
       "      <td>98.231947</td>\n",
       "      <td>101.037951</td>\n",
       "      <td>116.28118</td>\n",
       "      <td>NaN</td>\n",
       "    </tr>\n",
       "  </tbody>\n",
       "</table>\n",
       "</div>"
      ],
      "text/plain": [
       "            MAB_ELE_PRO276 PRO27826_org  MAB_ELE_PRO756 MAB_ELE_PRO826  \\\n",
       "Month Year                                                               \n",
       "2022-05-01      117.602286   118.670726      105.263948       97.98079   \n",
       "2022-06-01      120.292600   118.670726       84.042132     109.658616   \n",
       "2022-07-01      116.126088   118.670726       98.029081     105.869498   \n",
       "2022-08-01      109.638478   118.670726       86.736721       97.97361   \n",
       "2022-09-01      111.056307   118.670726      110.153464     113.899246   \n",
       "2022-10-01      116.416852   118.670726      108.126620     107.709413   \n",
       "2022-11-01      112.829967   118.670726       98.291681     110.977378   \n",
       "2022-12-01      110.486227   118.670726       93.018922     101.840492   \n",
       "2023-01-01      123.828164   118.670726       86.207770      96.865944   \n",
       "2023-02-01       96.984587   118.670726       98.231947     101.037951   \n",
       "\n",
       "           PRO27840_org Sales_CPI_€  \n",
       "Month Year                           \n",
       "2022-05-01   112.919318         NaN  \n",
       "2022-06-01    113.11048         NaN  \n",
       "2022-07-01   112.167111         NaN  \n",
       "2022-08-01   113.532076         NaN  \n",
       "2022-09-01   112.481588         NaN  \n",
       "2022-10-01   116.403894         NaN  \n",
       "2022-11-01    116.65317         NaN  \n",
       "2022-12-01   114.148308         NaN  \n",
       "2023-01-01   114.958416         NaN  \n",
       "2023-02-01    116.28118         NaN  "
      ]
     },
     "execution_count": 52,
     "metadata": {},
     "output_type": "execute_result"
    }
   ],
   "source": [
    "test_1"
   ]
  },
  {
   "cell_type": "code",
   "execution_count": null,
   "metadata": {},
   "outputs": [],
   "source": []
  },
  {
   "cell_type": "markdown",
   "metadata": {},
   "source": [
    "### Product 3"
   ]
  },
  {
   "cell_type": "code",
   "execution_count": 53,
   "metadata": {},
   "outputs": [],
   "source": [
    "test_3 = pd.DataFrame(index=test[test['Mapped_GCK'] == '3']['Month Year'], columns=remerged_data[3].columns)"
   ]
  },
  {
   "cell_type": "code",
   "execution_count": 54,
   "metadata": {},
   "outputs": [
    {
     "data": {
      "text/html": [
       "<div>\n",
       "<style scoped>\n",
       "    .dataframe tbody tr th:only-of-type {\n",
       "        vertical-align: middle;\n",
       "    }\n",
       "\n",
       "    .dataframe tbody tr th {\n",
       "        vertical-align: top;\n",
       "    }\n",
       "\n",
       "    .dataframe thead th {\n",
       "        text-align: right;\n",
       "    }\n",
       "</style>\n",
       "<table border=\"1\" class=\"dataframe\">\n",
       "  <thead>\n",
       "    <tr style=\"text-align: right;\">\n",
       "      <th></th>\n",
       "      <th>PRO27826_org</th>\n",
       "      <th>MAB_ELE_PRO156</th>\n",
       "      <th>RohiNATGAS1000_org</th>\n",
       "      <th>PRI27826_org</th>\n",
       "      <th>PRO27756_org</th>\n",
       "      <th>Sales_CPI_€</th>\n",
       "    </tr>\n",
       "    <tr>\n",
       "      <th>Month Year</th>\n",
       "      <th></th>\n",
       "      <th></th>\n",
       "      <th></th>\n",
       "      <th></th>\n",
       "      <th></th>\n",
       "      <th></th>\n",
       "    </tr>\n",
       "  </thead>\n",
       "  <tbody>\n",
       "    <tr>\n",
       "      <th>2022-05-01</th>\n",
       "      <td>NaN</td>\n",
       "      <td>NaN</td>\n",
       "      <td>NaN</td>\n",
       "      <td>NaN</td>\n",
       "      <td>NaN</td>\n",
       "      <td>NaN</td>\n",
       "    </tr>\n",
       "    <tr>\n",
       "      <th>2022-06-01</th>\n",
       "      <td>NaN</td>\n",
       "      <td>NaN</td>\n",
       "      <td>NaN</td>\n",
       "      <td>NaN</td>\n",
       "      <td>NaN</td>\n",
       "      <td>NaN</td>\n",
       "    </tr>\n",
       "    <tr>\n",
       "      <th>2022-07-01</th>\n",
       "      <td>NaN</td>\n",
       "      <td>NaN</td>\n",
       "      <td>NaN</td>\n",
       "      <td>NaN</td>\n",
       "      <td>NaN</td>\n",
       "      <td>NaN</td>\n",
       "    </tr>\n",
       "    <tr>\n",
       "      <th>2022-08-01</th>\n",
       "      <td>NaN</td>\n",
       "      <td>NaN</td>\n",
       "      <td>NaN</td>\n",
       "      <td>NaN</td>\n",
       "      <td>NaN</td>\n",
       "      <td>NaN</td>\n",
       "    </tr>\n",
       "    <tr>\n",
       "      <th>2022-09-01</th>\n",
       "      <td>NaN</td>\n",
       "      <td>NaN</td>\n",
       "      <td>NaN</td>\n",
       "      <td>NaN</td>\n",
       "      <td>NaN</td>\n",
       "      <td>NaN</td>\n",
       "    </tr>\n",
       "    <tr>\n",
       "      <th>2022-10-01</th>\n",
       "      <td>NaN</td>\n",
       "      <td>NaN</td>\n",
       "      <td>NaN</td>\n",
       "      <td>NaN</td>\n",
       "      <td>NaN</td>\n",
       "      <td>NaN</td>\n",
       "    </tr>\n",
       "    <tr>\n",
       "      <th>2022-11-01</th>\n",
       "      <td>NaN</td>\n",
       "      <td>NaN</td>\n",
       "      <td>NaN</td>\n",
       "      <td>NaN</td>\n",
       "      <td>NaN</td>\n",
       "      <td>NaN</td>\n",
       "    </tr>\n",
       "    <tr>\n",
       "      <th>2022-12-01</th>\n",
       "      <td>NaN</td>\n",
       "      <td>NaN</td>\n",
       "      <td>NaN</td>\n",
       "      <td>NaN</td>\n",
       "      <td>NaN</td>\n",
       "      <td>NaN</td>\n",
       "    </tr>\n",
       "    <tr>\n",
       "      <th>2023-01-01</th>\n",
       "      <td>NaN</td>\n",
       "      <td>NaN</td>\n",
       "      <td>NaN</td>\n",
       "      <td>NaN</td>\n",
       "      <td>NaN</td>\n",
       "      <td>NaN</td>\n",
       "    </tr>\n",
       "    <tr>\n",
       "      <th>2023-02-01</th>\n",
       "      <td>NaN</td>\n",
       "      <td>NaN</td>\n",
       "      <td>NaN</td>\n",
       "      <td>NaN</td>\n",
       "      <td>NaN</td>\n",
       "      <td>NaN</td>\n",
       "    </tr>\n",
       "  </tbody>\n",
       "</table>\n",
       "</div>"
      ],
      "text/plain": [
       "           PRO27826_org MAB_ELE_PRO156 RohiNATGAS1000_org PRI27826_org  \\\n",
       "Month Year                                                               \n",
       "2022-05-01          NaN            NaN                NaN          NaN   \n",
       "2022-06-01          NaN            NaN                NaN          NaN   \n",
       "2022-07-01          NaN            NaN                NaN          NaN   \n",
       "2022-08-01          NaN            NaN                NaN          NaN   \n",
       "2022-09-01          NaN            NaN                NaN          NaN   \n",
       "2022-10-01          NaN            NaN                NaN          NaN   \n",
       "2022-11-01          NaN            NaN                NaN          NaN   \n",
       "2022-12-01          NaN            NaN                NaN          NaN   \n",
       "2023-01-01          NaN            NaN                NaN          NaN   \n",
       "2023-02-01          NaN            NaN                NaN          NaN   \n",
       "\n",
       "           PRO27756_org Sales_CPI_€  \n",
       "Month Year                           \n",
       "2022-05-01          NaN         NaN  \n",
       "2022-06-01          NaN         NaN  \n",
       "2022-07-01          NaN         NaN  \n",
       "2022-08-01          NaN         NaN  \n",
       "2022-09-01          NaN         NaN  \n",
       "2022-10-01          NaN         NaN  \n",
       "2022-11-01          NaN         NaN  \n",
       "2022-12-01          NaN         NaN  \n",
       "2023-01-01          NaN         NaN  \n",
       "2023-02-01          NaN         NaN  "
      ]
     },
     "execution_count": 54,
     "metadata": {},
     "output_type": "execute_result"
    }
   ],
   "source": [
    "test_3"
   ]
  },
  {
   "cell_type": "markdown",
   "metadata": {},
   "source": [
    "#### PRO27826_org"
   ]
  },
  {
   "cell_type": "code",
   "execution_count": 55,
   "metadata": {},
   "outputs": [],
   "source": [
    "test_3['PRO27826_org'] = test_1['PRO27826_org']"
   ]
  },
  {
   "cell_type": "markdown",
   "metadata": {},
   "source": [
    "#### MAB_ELE_PRO156"
   ]
  },
  {
   "cell_type": "markdown",
   "metadata": {},
   "source": [
    "Has a p-value > 0.05, so it follows a normal distribution"
   ]
  },
  {
   "cell_type": "code",
   "execution_count": 56,
   "metadata": {},
   "outputs": [],
   "source": [
    "#  Calculate mean and standard deviation of the non-missing values\n",
    "mean_value = remerged_data[3]['MAB_ELE_PRO156'].mean()\n",
    "std_value = remerged_data[3]['MAB_ELE_PRO156'].std()\n",
    "\n",
    "#  Get the number of missing values\n",
    "num_missing = test_3['MAB_ELE_PRO156'].isnull().sum()\n",
    "\n",
    "# Generate a sequence of random values from a normal distribution\n",
    "predictions = norm.rvs(loc=mean_value, scale=std_value, size=num_missing)\n",
    "\n",
    "# Get the indices of the missing values\n",
    "missing_indexes = test_3[test_3['MAB_ELE_PRO156'].isnull()].index\n",
    "\n",
    "# Create a pd.Series with the predictions for the missing indexes\n",
    "predictions_series = pd.Series(predictions, index=missing_indexes)\n",
    "\n",
    "# Fill the missing values in the 'MAB_ELE_PRO156' column with the predictions\n",
    "test_3['MAB_ELE_PRO156'].fillna(predictions_series, inplace=True)"
   ]
  },
  {
   "cell_type": "markdown",
   "metadata": {},
   "source": [
    "#### RohiNATGAS1000_org"
   ]
  },
  {
   "cell_type": "markdown",
   "metadata": {},
   "source": [
    "Has a p-value < 0.05, so it does not follow a normal distribution and is non stacionary so we are gonna apply Holt Winters to predict the values"
   ]
  },
  {
   "cell_type": "code",
   "execution_count": 57,
   "metadata": {},
   "outputs": [
    {
     "name": "stderr",
     "output_type": "stream",
     "text": [
      "/Users/ritamatias/anaconda3/envs/DM2324/lib/python3.11/site-packages/statsmodels/tsa/base/tsa_model.py:473: ValueWarning: No frequency information was provided, so inferred frequency MS will be used.\n",
      "  self._init_dates(dates, freq)\n"
     ]
    }
   ],
   "source": [
    "from statsmodels.tsa.holtwinters import ExponentialSmoothing\n",
    "\n",
    "#  Extract non-missing values\n",
    "series = remerged_data[3]['RohiNATGAS1000_org'].dropna()\n",
    "\n",
    "# Fit the exponential smoothing model\n",
    "model = ExponentialSmoothing(series, seasonal='multiplicative', trend='multiplicative')\n",
    "fitted_model = model.fit()\n",
    "\n",
    "# Forecast future values\n",
    "n_periods = test_3['RohiNATGAS1000_org'].isnull().sum()\n",
    "forecast = fitted_model.forecast(steps=n_periods)\n",
    "\n",
    "# Get the indices of the missing values\n",
    "missing_indexes = test_3[test_3['RohiNATGAS1000_org'].isnull()].index\n",
    "\n",
    "# Replace NaN values in the 'RohiNATGAS1000_org' column with the forecasted values\n",
    "test_3.loc[missing_indexes, 'RohiNATGAS1000_org'] = forecast\n"
   ]
  },
  {
   "cell_type": "markdown",
   "metadata": {},
   "source": [
    "#### PRI27826_org"
   ]
  },
  {
   "cell_type": "markdown",
   "metadata": {},
   "source": [
    "Has a p-value < 0.05, so it does not follow a normal distribution and is non stacionary so we are gonna apply Holt Winters to predict the values"
   ]
  },
  {
   "cell_type": "code",
   "execution_count": 58,
   "metadata": {},
   "outputs": [
    {
     "name": "stderr",
     "output_type": "stream",
     "text": [
      "/Users/ritamatias/anaconda3/envs/DM2324/lib/python3.11/site-packages/statsmodels/tsa/base/tsa_model.py:473: ValueWarning: No frequency information was provided, so inferred frequency MS will be used.\n",
      "  self._init_dates(dates, freq)\n"
     ]
    }
   ],
   "source": [
    "from statsmodels.tsa.holtwinters import ExponentialSmoothing\n",
    "\n",
    "#  Extract non-missing values\n",
    "series = remerged_data[3]['PRI27826_org'].dropna()\n",
    "\n",
    "# Fit the exponential smoothing model\n",
    "model = ExponentialSmoothing(series, seasonal='multiplicative', trend='multiplicative')\n",
    "fitted_model = model.fit()\n",
    "\n",
    "# Forecast future values\n",
    "n_periods = test_3['PRI27826_org'].isnull().sum()\n",
    "forecast = fitted_model.forecast(steps=n_periods)\n",
    "\n",
    "# Get the indices of the missing values\n",
    "missing_indexes = test_3[test_3['PRI27826_org'].isnull()].index\n",
    "\n",
    "# Replace NaN values in the 'PRI27826_org' column with the forecasted values\n",
    "test_3.loc[missing_indexes, 'PRI27826_org'] = forecast\n"
   ]
  },
  {
   "cell_type": "markdown",
   "metadata": {},
   "source": [
    "#### PRO27756_org"
   ]
  },
  {
   "cell_type": "markdown",
   "metadata": {},
   "source": [
    "Has a p-value > 0.05, so it follows a normal distribution"
   ]
  },
  {
   "cell_type": "code",
   "execution_count": 59,
   "metadata": {},
   "outputs": [],
   "source": [
    "#  Calculate mean and standard deviation of the non-missing values\n",
    "mean_value = remerged_data[3]['PRO27756_org'].mean()\n",
    "std_value = remerged_data[3]['PRO27756_org'].std()\n",
    "\n",
    "#  Get the number of missing values\n",
    "num_missing = test_3['PRO27756_org'].isnull().sum()\n",
    "\n",
    "# Generate a sequence of random values from a normal distribution\n",
    "predictions = norm.rvs(loc=mean_value, scale=std_value, size=num_missing)\n",
    "\n",
    "# Get the indices of the missing values\n",
    "missing_indexes = test_3[test_3['PRO27756_org'].isnull()].index\n",
    "\n",
    "# Create a pd.Series with the predictions for the missing indexes\n",
    "predictions_series = pd.Series(predictions, index=missing_indexes)\n",
    "\n",
    "# Fill the missing values in the 'PRO27756_org' column with the predictions\n",
    "test_3['PRO27756_org'].fillna(predictions_series, inplace=True)"
   ]
  },
  {
   "cell_type": "code",
   "execution_count": 60,
   "metadata": {},
   "outputs": [
    {
     "data": {
      "text/html": [
       "<div>\n",
       "<style scoped>\n",
       "    .dataframe tbody tr th:only-of-type {\n",
       "        vertical-align: middle;\n",
       "    }\n",
       "\n",
       "    .dataframe tbody tr th {\n",
       "        vertical-align: top;\n",
       "    }\n",
       "\n",
       "    .dataframe thead th {\n",
       "        text-align: right;\n",
       "    }\n",
       "</style>\n",
       "<table border=\"1\" class=\"dataframe\">\n",
       "  <thead>\n",
       "    <tr style=\"text-align: right;\">\n",
       "      <th></th>\n",
       "      <th>PRO27826_org</th>\n",
       "      <th>MAB_ELE_PRO156</th>\n",
       "      <th>RohiNATGAS1000_org</th>\n",
       "      <th>PRI27826_org</th>\n",
       "      <th>PRO27756_org</th>\n",
       "      <th>Sales_CPI_€</th>\n",
       "    </tr>\n",
       "    <tr>\n",
       "      <th>Month Year</th>\n",
       "      <th></th>\n",
       "      <th></th>\n",
       "      <th></th>\n",
       "      <th></th>\n",
       "      <th></th>\n",
       "      <th></th>\n",
       "    </tr>\n",
       "  </thead>\n",
       "  <tbody>\n",
       "    <tr>\n",
       "      <th>2022-05-01</th>\n",
       "      <td>118.670726</td>\n",
       "      <td>249.876055</td>\n",
       "      <td>266.988303</td>\n",
       "      <td>119.865031</td>\n",
       "      <td>107.373152</td>\n",
       "      <td>NaN</td>\n",
       "    </tr>\n",
       "    <tr>\n",
       "      <th>2022-06-01</th>\n",
       "      <td>118.670726</td>\n",
       "      <td>263.394005</td>\n",
       "      <td>292.098955</td>\n",
       "      <td>120.661201</td>\n",
       "      <td>95.448685</td>\n",
       "      <td>NaN</td>\n",
       "    </tr>\n",
       "    <tr>\n",
       "      <th>2022-07-01</th>\n",
       "      <td>118.670726</td>\n",
       "      <td>231.094229</td>\n",
       "      <td>345.070741</td>\n",
       "      <td>121.179187</td>\n",
       "      <td>85.028550</td>\n",
       "      <td>NaN</td>\n",
       "    </tr>\n",
       "    <tr>\n",
       "      <th>2022-08-01</th>\n",
       "      <td>118.670726</td>\n",
       "      <td>279.640592</td>\n",
       "      <td>402.373417</td>\n",
       "      <td>121.447896</td>\n",
       "      <td>113.682701</td>\n",
       "      <td>NaN</td>\n",
       "    </tr>\n",
       "    <tr>\n",
       "      <th>2022-09-01</th>\n",
       "      <td>118.670726</td>\n",
       "      <td>263.411072</td>\n",
       "      <td>543.230004</td>\n",
       "      <td>121.262017</td>\n",
       "      <td>103.701788</td>\n",
       "      <td>NaN</td>\n",
       "    </tr>\n",
       "    <tr>\n",
       "      <th>2022-10-01</th>\n",
       "      <td>118.670726</td>\n",
       "      <td>279.404055</td>\n",
       "      <td>660.634007</td>\n",
       "      <td>120.83341</td>\n",
       "      <td>90.546631</td>\n",
       "      <td>NaN</td>\n",
       "    </tr>\n",
       "    <tr>\n",
       "      <th>2022-11-01</th>\n",
       "      <td>118.670726</td>\n",
       "      <td>304.171919</td>\n",
       "      <td>638.454951</td>\n",
       "      <td>120.78039</td>\n",
       "      <td>105.949542</td>\n",
       "      <td>NaN</td>\n",
       "    </tr>\n",
       "    <tr>\n",
       "      <th>2022-12-01</th>\n",
       "      <td>118.670726</td>\n",
       "      <td>291.971129</td>\n",
       "      <td>729.592793</td>\n",
       "      <td>120.951953</td>\n",
       "      <td>84.445655</td>\n",
       "      <td>NaN</td>\n",
       "    </tr>\n",
       "    <tr>\n",
       "      <th>2023-01-01</th>\n",
       "      <td>118.670726</td>\n",
       "      <td>260.481567</td>\n",
       "      <td>629.929812</td>\n",
       "      <td>120.967418</td>\n",
       "      <td>102.000027</td>\n",
       "      <td>NaN</td>\n",
       "    </tr>\n",
       "    <tr>\n",
       "      <th>2023-02-01</th>\n",
       "      <td>118.670726</td>\n",
       "      <td>221.379915</td>\n",
       "      <td>654.606808</td>\n",
       "      <td>121.08973</td>\n",
       "      <td>101.039066</td>\n",
       "      <td>NaN</td>\n",
       "    </tr>\n",
       "  </tbody>\n",
       "</table>\n",
       "</div>"
      ],
      "text/plain": [
       "           PRO27826_org  MAB_ELE_PRO156 RohiNATGAS1000_org PRI27826_org  \\\n",
       "Month Year                                                                \n",
       "2022-05-01   118.670726      249.876055         266.988303   119.865031   \n",
       "2022-06-01   118.670726      263.394005         292.098955   120.661201   \n",
       "2022-07-01   118.670726      231.094229         345.070741   121.179187   \n",
       "2022-08-01   118.670726      279.640592         402.373417   121.447896   \n",
       "2022-09-01   118.670726      263.411072         543.230004   121.262017   \n",
       "2022-10-01   118.670726      279.404055         660.634007    120.83341   \n",
       "2022-11-01   118.670726      304.171919         638.454951    120.78039   \n",
       "2022-12-01   118.670726      291.971129         729.592793   120.951953   \n",
       "2023-01-01   118.670726      260.481567         629.929812   120.967418   \n",
       "2023-02-01   118.670726      221.379915         654.606808    121.08973   \n",
       "\n",
       "            PRO27756_org Sales_CPI_€  \n",
       "Month Year                            \n",
       "2022-05-01    107.373152         NaN  \n",
       "2022-06-01     95.448685         NaN  \n",
       "2022-07-01     85.028550         NaN  \n",
       "2022-08-01    113.682701         NaN  \n",
       "2022-09-01    103.701788         NaN  \n",
       "2022-10-01     90.546631         NaN  \n",
       "2022-11-01    105.949542         NaN  \n",
       "2022-12-01     84.445655         NaN  \n",
       "2023-01-01    102.000027         NaN  \n",
       "2023-02-01    101.039066         NaN  "
      ]
     },
     "execution_count": 60,
     "metadata": {},
     "output_type": "execute_result"
    }
   ],
   "source": [
    "test_3"
   ]
  },
  {
   "cell_type": "markdown",
   "metadata": {},
   "source": [
    "### Product 4"
   ]
  },
  {
   "cell_type": "code",
   "execution_count": 61,
   "metadata": {},
   "outputs": [],
   "source": [
    "test_4 = pd.DataFrame(index=test[test['Mapped_GCK'] == '4']['Month Year'], columns=remerged_data[4].columns)"
   ]
  },
  {
   "cell_type": "code",
   "execution_count": 62,
   "metadata": {},
   "outputs": [
    {
     "data": {
      "text/html": [
       "<div>\n",
       "<style scoped>\n",
       "    .dataframe tbody tr th:only-of-type {\n",
       "        vertical-align: middle;\n",
       "    }\n",
       "\n",
       "    .dataframe tbody tr th {\n",
       "        vertical-align: top;\n",
       "    }\n",
       "\n",
       "    .dataframe thead th {\n",
       "        text-align: right;\n",
       "    }\n",
       "</style>\n",
       "<table border=\"1\" class=\"dataframe\">\n",
       "  <thead>\n",
       "    <tr style=\"text-align: right;\">\n",
       "      <th></th>\n",
       "      <th>Sales_CPI_€_rolling_mean_3</th>\n",
       "      <th>WKLWEUR840_org</th>\n",
       "      <th>Sales_CPI_€_lag_1</th>\n",
       "      <th>PRO27826_org</th>\n",
       "      <th>RohiNATGAS1000_org</th>\n",
       "      <th>Sales_CPI_€</th>\n",
       "    </tr>\n",
       "    <tr>\n",
       "      <th>Month Year</th>\n",
       "      <th></th>\n",
       "      <th></th>\n",
       "      <th></th>\n",
       "      <th></th>\n",
       "      <th></th>\n",
       "      <th></th>\n",
       "    </tr>\n",
       "  </thead>\n",
       "  <tbody>\n",
       "    <tr>\n",
       "      <th>2022-05-01</th>\n",
       "      <td>NaN</td>\n",
       "      <td>NaN</td>\n",
       "      <td>NaN</td>\n",
       "      <td>NaN</td>\n",
       "      <td>NaN</td>\n",
       "      <td>NaN</td>\n",
       "    </tr>\n",
       "    <tr>\n",
       "      <th>2022-06-01</th>\n",
       "      <td>NaN</td>\n",
       "      <td>NaN</td>\n",
       "      <td>NaN</td>\n",
       "      <td>NaN</td>\n",
       "      <td>NaN</td>\n",
       "      <td>NaN</td>\n",
       "    </tr>\n",
       "    <tr>\n",
       "      <th>2022-07-01</th>\n",
       "      <td>NaN</td>\n",
       "      <td>NaN</td>\n",
       "      <td>NaN</td>\n",
       "      <td>NaN</td>\n",
       "      <td>NaN</td>\n",
       "      <td>NaN</td>\n",
       "    </tr>\n",
       "    <tr>\n",
       "      <th>2022-08-01</th>\n",
       "      <td>NaN</td>\n",
       "      <td>NaN</td>\n",
       "      <td>NaN</td>\n",
       "      <td>NaN</td>\n",
       "      <td>NaN</td>\n",
       "      <td>NaN</td>\n",
       "    </tr>\n",
       "    <tr>\n",
       "      <th>2022-09-01</th>\n",
       "      <td>NaN</td>\n",
       "      <td>NaN</td>\n",
       "      <td>NaN</td>\n",
       "      <td>NaN</td>\n",
       "      <td>NaN</td>\n",
       "      <td>NaN</td>\n",
       "    </tr>\n",
       "    <tr>\n",
       "      <th>2022-10-01</th>\n",
       "      <td>NaN</td>\n",
       "      <td>NaN</td>\n",
       "      <td>NaN</td>\n",
       "      <td>NaN</td>\n",
       "      <td>NaN</td>\n",
       "      <td>NaN</td>\n",
       "    </tr>\n",
       "    <tr>\n",
       "      <th>2022-11-01</th>\n",
       "      <td>NaN</td>\n",
       "      <td>NaN</td>\n",
       "      <td>NaN</td>\n",
       "      <td>NaN</td>\n",
       "      <td>NaN</td>\n",
       "      <td>NaN</td>\n",
       "    </tr>\n",
       "    <tr>\n",
       "      <th>2022-12-01</th>\n",
       "      <td>NaN</td>\n",
       "      <td>NaN</td>\n",
       "      <td>NaN</td>\n",
       "      <td>NaN</td>\n",
       "      <td>NaN</td>\n",
       "      <td>NaN</td>\n",
       "    </tr>\n",
       "    <tr>\n",
       "      <th>2023-01-01</th>\n",
       "      <td>NaN</td>\n",
       "      <td>NaN</td>\n",
       "      <td>NaN</td>\n",
       "      <td>NaN</td>\n",
       "      <td>NaN</td>\n",
       "      <td>NaN</td>\n",
       "    </tr>\n",
       "    <tr>\n",
       "      <th>2023-02-01</th>\n",
       "      <td>NaN</td>\n",
       "      <td>NaN</td>\n",
       "      <td>NaN</td>\n",
       "      <td>NaN</td>\n",
       "      <td>NaN</td>\n",
       "      <td>NaN</td>\n",
       "    </tr>\n",
       "  </tbody>\n",
       "</table>\n",
       "</div>"
      ],
      "text/plain": [
       "           Sales_CPI_€_rolling_mean_3 WKLWEUR840_org Sales_CPI_€_lag_1  \\\n",
       "Month Year                                                               \n",
       "2022-05-01                        NaN            NaN               NaN   \n",
       "2022-06-01                        NaN            NaN               NaN   \n",
       "2022-07-01                        NaN            NaN               NaN   \n",
       "2022-08-01                        NaN            NaN               NaN   \n",
       "2022-09-01                        NaN            NaN               NaN   \n",
       "2022-10-01                        NaN            NaN               NaN   \n",
       "2022-11-01                        NaN            NaN               NaN   \n",
       "2022-12-01                        NaN            NaN               NaN   \n",
       "2023-01-01                        NaN            NaN               NaN   \n",
       "2023-02-01                        NaN            NaN               NaN   \n",
       "\n",
       "           PRO27826_org RohiNATGAS1000_org Sales_CPI_€  \n",
       "Month Year                                              \n",
       "2022-05-01          NaN                NaN         NaN  \n",
       "2022-06-01          NaN                NaN         NaN  \n",
       "2022-07-01          NaN                NaN         NaN  \n",
       "2022-08-01          NaN                NaN         NaN  \n",
       "2022-09-01          NaN                NaN         NaN  \n",
       "2022-10-01          NaN                NaN         NaN  \n",
       "2022-11-01          NaN                NaN         NaN  \n",
       "2022-12-01          NaN                NaN         NaN  \n",
       "2023-01-01          NaN                NaN         NaN  \n",
       "2023-02-01          NaN                NaN         NaN  "
      ]
     },
     "execution_count": 62,
     "metadata": {},
     "output_type": "execute_result"
    }
   ],
   "source": [
    "test_4"
   ]
  },
  {
   "cell_type": "markdown",
   "metadata": {},
   "source": [
    "#### Sales_CPI_€_rolling_mean_3"
   ]
  },
  {
   "cell_type": "markdown",
   "metadata": {},
   "source": [
    "Has a p-value < 0.05, so it does not follow a normal distribution and is non stacionary so we are gonna apply Holt Winters to predict the values"
   ]
  },
  {
   "cell_type": "code",
   "execution_count": 63,
   "metadata": {},
   "outputs": [
    {
     "name": "stderr",
     "output_type": "stream",
     "text": [
      "/Users/ritamatias/anaconda3/envs/DM2324/lib/python3.11/site-packages/statsmodels/tsa/base/tsa_model.py:473: ValueWarning: No frequency information was provided, so inferred frequency MS will be used.\n",
      "  self._init_dates(dates, freq)\n",
      "/Users/ritamatias/anaconda3/envs/DM2324/lib/python3.11/site-packages/statsmodels/tsa/holtwinters/model.py:917: ConvergenceWarning: Optimization failed to converge. Check mle_retvals.\n",
      "  warnings.warn(\n"
     ]
    }
   ],
   "source": [
    "from statsmodels.tsa.holtwinters import ExponentialSmoothing\n",
    "\n",
    "#  Extract non-missing values\n",
    "series = remerged_data[4]['Sales_CPI_€_rolling_mean_3'].dropna()\n",
    "\n",
    "# Fit the exponential smoothing model\n",
    "model = ExponentialSmoothing(series, seasonal='multiplicative', trend='multiplicative')\n",
    "fitted_model = model.fit()\n",
    "\n",
    "# Forecast future values\n",
    "n_periods = test_4['Sales_CPI_€_rolling_mean_3'].isnull().sum()\n",
    "forecast = fitted_model.forecast(steps=n_periods)\n",
    "\n",
    "# Get the indices of the missing values\n",
    "missing_indexes = test_4[test_4['Sales_CPI_€_rolling_mean_3'].isnull()].index\n",
    "\n",
    "# Replace NaN values in the 'Sales_CPI_€_rolling_mean_3' column with the forecasted values\n",
    "test_4.loc[missing_indexes, 'Sales_CPI_€_rolling_mean_3'] = forecast\n"
   ]
  },
  {
   "cell_type": "markdown",
   "metadata": {},
   "source": [
    "#### WKLWEUR840_org"
   ]
  },
  {
   "cell_type": "markdown",
   "metadata": {},
   "source": [
    "Has a p-value < 0.05, so it does not follow a normal distribution and is non stacionary so we are gonna apply Holt Winters to predict the values"
   ]
  },
  {
   "cell_type": "code",
   "execution_count": 64,
   "metadata": {},
   "outputs": [
    {
     "name": "stderr",
     "output_type": "stream",
     "text": [
      "/Users/ritamatias/anaconda3/envs/DM2324/lib/python3.11/site-packages/statsmodels/tsa/base/tsa_model.py:473: ValueWarning: No frequency information was provided, so inferred frequency MS will be used.\n",
      "  self._init_dates(dates, freq)\n"
     ]
    }
   ],
   "source": [
    "from statsmodels.tsa.holtwinters import ExponentialSmoothing\n",
    "\n",
    "#  Extract non-missing values\n",
    "series = remerged_data[4]['WKLWEUR840_org'].dropna()\n",
    "\n",
    "# Fit the exponential smoothing model\n",
    "model = ExponentialSmoothing(series, seasonal='multiplicative', trend='multiplicative')\n",
    "fitted_model = model.fit()\n",
    "\n",
    "# Forecast future values\n",
    "n_periods = test_4['WKLWEUR840_org'].isnull().sum()\n",
    "forecast = fitted_model.forecast(steps=n_periods)\n",
    "\n",
    "# Get the indices of the missing values\n",
    "missing_indexes = test_4[test_4['WKLWEUR840_org'].isnull()].index\n",
    "\n",
    "# Replace NaN values in the 'WKLWEUR840_org' column with the forecasted values\n",
    "test_4.loc[missing_indexes, 'WKLWEUR840_org'] = forecast\n"
   ]
  },
  {
   "cell_type": "markdown",
   "metadata": {},
   "source": [
    "#### Sales_CPI_€_lag_1"
   ]
  },
  {
   "cell_type": "markdown",
   "metadata": {},
   "source": [
    "Has a p-value < 0.05, so it does not follow a normal distribution and is stacionary so we are gonna apply Simple Exponencial Smoothing to predict the values"
   ]
  },
  {
   "cell_type": "code",
   "execution_count": 65,
   "metadata": {},
   "outputs": [
    {
     "name": "stderr",
     "output_type": "stream",
     "text": [
      "/Users/ritamatias/anaconda3/envs/DM2324/lib/python3.11/site-packages/statsmodels/tsa/base/tsa_model.py:473: ValueWarning: No frequency information was provided, so inferred frequency MS will be used.\n",
      "  self._init_dates(dates, freq)\n",
      "/Users/ritamatias/anaconda3/envs/DM2324/lib/python3.11/site-packages/statsmodels/tsa/holtwinters/model.py:917: ConvergenceWarning: Optimization failed to converge. Check mle_retvals.\n",
      "  warnings.warn(\n"
     ]
    }
   ],
   "source": [
    "from statsmodels.tsa.holtwinters import SimpleExpSmoothing\n",
    "\n",
    "# Extract non-missing values\n",
    "series = remerged_data[4]['Sales_CPI_€_lag_1'].dropna()\n",
    "\n",
    "# Fit the simple exponential smoothing model\n",
    "model = SimpleExpSmoothing(series)\n",
    "fitted_model = model.fit()\n",
    "\n",
    "# Forecast future values\n",
    "n_periods = test_4['Sales_CPI_€_lag_1'].isnull().sum()\n",
    "forecast = fitted_model.forecast(steps=n_periods)\n",
    "\n",
    "# Get the indices of the missing values\n",
    "missing_indexes = test_4[test_4['Sales_CPI_€_lag_1'].isnull()].index\n",
    "\n",
    "# Replace NaN values in the 'Sales_CPI_€_lag_1' column with the forecasted values\n",
    "test_4.loc[missing_indexes, 'Sales_CPI_€_lag_1'] = forecast\n"
   ]
  },
  {
   "cell_type": "markdown",
   "metadata": {},
   "source": [
    "#### PRO27826_org"
   ]
  },
  {
   "cell_type": "code",
   "execution_count": 66,
   "metadata": {},
   "outputs": [],
   "source": [
    "test_4['PRO27826_org'] = test_3['PRO27826_org']"
   ]
  },
  {
   "cell_type": "markdown",
   "metadata": {},
   "source": [
    "#### RohiNATGAS1000_org"
   ]
  },
  {
   "cell_type": "markdown",
   "metadata": {},
   "source": [
    "Has a p-value < 0.05, so it does not follow a normal distribution and is non stacionary so we are gonna apply Holt Winters to predict the values"
   ]
  },
  {
   "cell_type": "code",
   "execution_count": 67,
   "metadata": {},
   "outputs": [
    {
     "name": "stderr",
     "output_type": "stream",
     "text": [
      "/Users/ritamatias/anaconda3/envs/DM2324/lib/python3.11/site-packages/statsmodels/tsa/base/tsa_model.py:473: ValueWarning: No frequency information was provided, so inferred frequency MS will be used.\n",
      "  self._init_dates(dates, freq)\n"
     ]
    }
   ],
   "source": [
    "from statsmodels.tsa.holtwinters import ExponentialSmoothing\n",
    "\n",
    "#  Extract non-missing values\n",
    "series = remerged_data[4]['RohiNATGAS1000_org'].dropna()\n",
    "\n",
    "# Fit the exponential smoothing model\n",
    "model = ExponentialSmoothing(series, seasonal='multiplicative', trend='multiplicative')\n",
    "fitted_model = model.fit()\n",
    "\n",
    "# Forecast future values\n",
    "n_periods = test_4['RohiNATGAS1000_org'].isnull().sum()\n",
    "forecast = fitted_model.forecast(steps=n_periods)\n",
    "\n",
    "# Get the indices of the missing values\n",
    "missing_indexes = test_4[test_4['RohiNATGAS1000_org'].isnull()].index\n",
    "\n",
    "# Replace NaN values in the 'RohiNATGAS1000_org' column with the forecasted values\n",
    "test_4.loc[missing_indexes, 'RohiNATGAS1000_org'] = forecast"
   ]
  },
  {
   "cell_type": "code",
   "execution_count": 68,
   "metadata": {},
   "outputs": [
    {
     "data": {
      "text/plain": [
       "Sales_CPI_€_rolling_mean_3    object\n",
       "WKLWEUR840_org                object\n",
       "Sales_CPI_€_lag_1             object\n",
       "PRO27826_org                  object\n",
       "RohiNATGAS1000_org            object\n",
       "Sales_CPI_€                   object\n",
       "dtype: object"
      ]
     },
     "execution_count": 68,
     "metadata": {},
     "output_type": "execute_result"
    }
   ],
   "source": [
    "test_4.dtypes"
   ]
  },
  {
   "cell_type": "code",
   "execution_count": 69,
   "metadata": {},
   "outputs": [
    {
     "data": {
      "text/html": [
       "<div>\n",
       "<style scoped>\n",
       "    .dataframe tbody tr th:only-of-type {\n",
       "        vertical-align: middle;\n",
       "    }\n",
       "\n",
       "    .dataframe tbody tr th {\n",
       "        vertical-align: top;\n",
       "    }\n",
       "\n",
       "    .dataframe thead th {\n",
       "        text-align: right;\n",
       "    }\n",
       "</style>\n",
       "<table border=\"1\" class=\"dataframe\">\n",
       "  <thead>\n",
       "    <tr style=\"text-align: right;\">\n",
       "      <th></th>\n",
       "      <th>Sales_CPI_€_rolling_mean_3</th>\n",
       "      <th>WKLWEUR840_org</th>\n",
       "      <th>Sales_CPI_€_lag_1</th>\n",
       "      <th>PRO27826_org</th>\n",
       "      <th>RohiNATGAS1000_org</th>\n",
       "      <th>Sales_CPI_€</th>\n",
       "    </tr>\n",
       "    <tr>\n",
       "      <th>Month Year</th>\n",
       "      <th></th>\n",
       "      <th></th>\n",
       "      <th></th>\n",
       "      <th></th>\n",
       "      <th></th>\n",
       "      <th></th>\n",
       "    </tr>\n",
       "  </thead>\n",
       "  <tbody>\n",
       "    <tr>\n",
       "      <th>2022-05-01</th>\n",
       "      <td>335907.773903</td>\n",
       "      <td>1.078756</td>\n",
       "      <td>345999.356954</td>\n",
       "      <td>118.670726</td>\n",
       "      <td>268.771808</td>\n",
       "      <td>NaN</td>\n",
       "    </tr>\n",
       "    <tr>\n",
       "      <th>2022-06-01</th>\n",
       "      <td>408108.492055</td>\n",
       "      <td>1.080986</td>\n",
       "      <td>345999.356954</td>\n",
       "      <td>118.670726</td>\n",
       "      <td>296.259275</td>\n",
       "      <td>NaN</td>\n",
       "    </tr>\n",
       "    <tr>\n",
       "      <th>2022-07-01</th>\n",
       "      <td>411033.375776</td>\n",
       "      <td>1.069669</td>\n",
       "      <td>345999.356954</td>\n",
       "      <td>118.670726</td>\n",
       "      <td>350.833367</td>\n",
       "      <td>NaN</td>\n",
       "    </tr>\n",
       "    <tr>\n",
       "      <th>2022-08-01</th>\n",
       "      <td>346191.424686</td>\n",
       "      <td>1.068663</td>\n",
       "      <td>345999.356954</td>\n",
       "      <td>118.670726</td>\n",
       "      <td>409.139941</td>\n",
       "      <td>NaN</td>\n",
       "    </tr>\n",
       "    <tr>\n",
       "      <th>2022-09-01</th>\n",
       "      <td>328025.511084</td>\n",
       "      <td>1.055818</td>\n",
       "      <td>345999.356954</td>\n",
       "      <td>118.670726</td>\n",
       "      <td>553.162939</td>\n",
       "      <td>NaN</td>\n",
       "    </tr>\n",
       "    <tr>\n",
       "      <th>2022-10-01</th>\n",
       "      <td>338836.046619</td>\n",
       "      <td>1.043714</td>\n",
       "      <td>345999.356954</td>\n",
       "      <td>118.670726</td>\n",
       "      <td>688.013522</td>\n",
       "      <td>NaN</td>\n",
       "    </tr>\n",
       "    <tr>\n",
       "      <th>2022-11-01</th>\n",
       "      <td>376768.09474</td>\n",
       "      <td>1.032455</td>\n",
       "      <td>345999.356954</td>\n",
       "      <td>118.670726</td>\n",
       "      <td>640.143764</td>\n",
       "      <td>NaN</td>\n",
       "    </tr>\n",
       "    <tr>\n",
       "      <th>2022-12-01</th>\n",
       "      <td>289693.331625</td>\n",
       "      <td>1.034</td>\n",
       "      <td>345999.356954</td>\n",
       "      <td>118.670726</td>\n",
       "      <td>739.017461</td>\n",
       "      <td>NaN</td>\n",
       "    </tr>\n",
       "    <tr>\n",
       "      <th>2023-01-01</th>\n",
       "      <td>286136.982277</td>\n",
       "      <td>1.026457</td>\n",
       "      <td>345999.356954</td>\n",
       "      <td>118.670726</td>\n",
       "      <td>629.926231</td>\n",
       "      <td>NaN</td>\n",
       "    </tr>\n",
       "    <tr>\n",
       "      <th>2023-02-01</th>\n",
       "      <td>321608.848767</td>\n",
       "      <td>1.01224</td>\n",
       "      <td>345999.356954</td>\n",
       "      <td>118.670726</td>\n",
       "      <td>659.910012</td>\n",
       "      <td>NaN</td>\n",
       "    </tr>\n",
       "  </tbody>\n",
       "</table>\n",
       "</div>"
      ],
      "text/plain": [
       "           Sales_CPI_€_rolling_mean_3 WKLWEUR840_org Sales_CPI_€_lag_1  \\\n",
       "Month Year                                                               \n",
       "2022-05-01              335907.773903       1.078756     345999.356954   \n",
       "2022-06-01              408108.492055       1.080986     345999.356954   \n",
       "2022-07-01              411033.375776       1.069669     345999.356954   \n",
       "2022-08-01              346191.424686       1.068663     345999.356954   \n",
       "2022-09-01              328025.511084       1.055818     345999.356954   \n",
       "2022-10-01              338836.046619       1.043714     345999.356954   \n",
       "2022-11-01               376768.09474       1.032455     345999.356954   \n",
       "2022-12-01              289693.331625          1.034     345999.356954   \n",
       "2023-01-01              286136.982277       1.026457     345999.356954   \n",
       "2023-02-01              321608.848767        1.01224     345999.356954   \n",
       "\n",
       "           PRO27826_org RohiNATGAS1000_org Sales_CPI_€  \n",
       "Month Year                                              \n",
       "2022-05-01   118.670726         268.771808         NaN  \n",
       "2022-06-01   118.670726         296.259275         NaN  \n",
       "2022-07-01   118.670726         350.833367         NaN  \n",
       "2022-08-01   118.670726         409.139941         NaN  \n",
       "2022-09-01   118.670726         553.162939         NaN  \n",
       "2022-10-01   118.670726         688.013522         NaN  \n",
       "2022-11-01   118.670726         640.143764         NaN  \n",
       "2022-12-01   118.670726         739.017461         NaN  \n",
       "2023-01-01   118.670726         629.926231         NaN  \n",
       "2023-02-01   118.670726         659.910012         NaN  "
      ]
     },
     "execution_count": 69,
     "metadata": {},
     "output_type": "execute_result"
    }
   ],
   "source": [
    "test_4"
   ]
  },
  {
   "cell_type": "markdown",
   "metadata": {},
   "source": [
    "### Product 6"
   ]
  },
  {
   "cell_type": "code",
   "execution_count": 70,
   "metadata": {},
   "outputs": [],
   "source": [
    "test_6 = pd.DataFrame(index=test[test['Mapped_GCK'] == '6']['Month Year'], columns=remerged_data[6].columns)"
   ]
  },
  {
   "cell_type": "code",
   "execution_count": 71,
   "metadata": {},
   "outputs": [
    {
     "data": {
      "text/html": [
       "<div>\n",
       "<style scoped>\n",
       "    .dataframe tbody tr th:only-of-type {\n",
       "        vertical-align: middle;\n",
       "    }\n",
       "\n",
       "    .dataframe tbody tr th {\n",
       "        vertical-align: top;\n",
       "    }\n",
       "\n",
       "    .dataframe thead th {\n",
       "        text-align: right;\n",
       "    }\n",
       "</style>\n",
       "<table border=\"1\" class=\"dataframe\">\n",
       "  <thead>\n",
       "    <tr style=\"text-align: right;\">\n",
       "      <th></th>\n",
       "      <th>PRO27276_org</th>\n",
       "      <th>MAB_ELE_SHP840</th>\n",
       "      <th>MAB_ELE_PRO276</th>\n",
       "      <th>MAB_ELE_PRO380</th>\n",
       "      <th>MAB_ELE_SHP826</th>\n",
       "      <th>Sales_CPI_€</th>\n",
       "    </tr>\n",
       "    <tr>\n",
       "      <th>Month Year</th>\n",
       "      <th></th>\n",
       "      <th></th>\n",
       "      <th></th>\n",
       "      <th></th>\n",
       "      <th></th>\n",
       "      <th></th>\n",
       "    </tr>\n",
       "  </thead>\n",
       "  <tbody>\n",
       "    <tr>\n",
       "      <th>2022-05-01</th>\n",
       "      <td>NaN</td>\n",
       "      <td>NaN</td>\n",
       "      <td>NaN</td>\n",
       "      <td>NaN</td>\n",
       "      <td>NaN</td>\n",
       "      <td>NaN</td>\n",
       "    </tr>\n",
       "    <tr>\n",
       "      <th>2022-06-01</th>\n",
       "      <td>NaN</td>\n",
       "      <td>NaN</td>\n",
       "      <td>NaN</td>\n",
       "      <td>NaN</td>\n",
       "      <td>NaN</td>\n",
       "      <td>NaN</td>\n",
       "    </tr>\n",
       "    <tr>\n",
       "      <th>2022-07-01</th>\n",
       "      <td>NaN</td>\n",
       "      <td>NaN</td>\n",
       "      <td>NaN</td>\n",
       "      <td>NaN</td>\n",
       "      <td>NaN</td>\n",
       "      <td>NaN</td>\n",
       "    </tr>\n",
       "    <tr>\n",
       "      <th>2022-08-01</th>\n",
       "      <td>NaN</td>\n",
       "      <td>NaN</td>\n",
       "      <td>NaN</td>\n",
       "      <td>NaN</td>\n",
       "      <td>NaN</td>\n",
       "      <td>NaN</td>\n",
       "    </tr>\n",
       "    <tr>\n",
       "      <th>2022-09-01</th>\n",
       "      <td>NaN</td>\n",
       "      <td>NaN</td>\n",
       "      <td>NaN</td>\n",
       "      <td>NaN</td>\n",
       "      <td>NaN</td>\n",
       "      <td>NaN</td>\n",
       "    </tr>\n",
       "    <tr>\n",
       "      <th>2022-10-01</th>\n",
       "      <td>NaN</td>\n",
       "      <td>NaN</td>\n",
       "      <td>NaN</td>\n",
       "      <td>NaN</td>\n",
       "      <td>NaN</td>\n",
       "      <td>NaN</td>\n",
       "    </tr>\n",
       "    <tr>\n",
       "      <th>2022-11-01</th>\n",
       "      <td>NaN</td>\n",
       "      <td>NaN</td>\n",
       "      <td>NaN</td>\n",
       "      <td>NaN</td>\n",
       "      <td>NaN</td>\n",
       "      <td>NaN</td>\n",
       "    </tr>\n",
       "    <tr>\n",
       "      <th>2022-12-01</th>\n",
       "      <td>NaN</td>\n",
       "      <td>NaN</td>\n",
       "      <td>NaN</td>\n",
       "      <td>NaN</td>\n",
       "      <td>NaN</td>\n",
       "      <td>NaN</td>\n",
       "    </tr>\n",
       "    <tr>\n",
       "      <th>2023-01-01</th>\n",
       "      <td>NaN</td>\n",
       "      <td>NaN</td>\n",
       "      <td>NaN</td>\n",
       "      <td>NaN</td>\n",
       "      <td>NaN</td>\n",
       "      <td>NaN</td>\n",
       "    </tr>\n",
       "    <tr>\n",
       "      <th>2023-02-01</th>\n",
       "      <td>NaN</td>\n",
       "      <td>NaN</td>\n",
       "      <td>NaN</td>\n",
       "      <td>NaN</td>\n",
       "      <td>NaN</td>\n",
       "      <td>NaN</td>\n",
       "    </tr>\n",
       "  </tbody>\n",
       "</table>\n",
       "</div>"
      ],
      "text/plain": [
       "           PRO27276_org MAB_ELE_SHP840 MAB_ELE_PRO276 MAB_ELE_PRO380  \\\n",
       "Month Year                                                             \n",
       "2022-05-01          NaN            NaN            NaN            NaN   \n",
       "2022-06-01          NaN            NaN            NaN            NaN   \n",
       "2022-07-01          NaN            NaN            NaN            NaN   \n",
       "2022-08-01          NaN            NaN            NaN            NaN   \n",
       "2022-09-01          NaN            NaN            NaN            NaN   \n",
       "2022-10-01          NaN            NaN            NaN            NaN   \n",
       "2022-11-01          NaN            NaN            NaN            NaN   \n",
       "2022-12-01          NaN            NaN            NaN            NaN   \n",
       "2023-01-01          NaN            NaN            NaN            NaN   \n",
       "2023-02-01          NaN            NaN            NaN            NaN   \n",
       "\n",
       "           MAB_ELE_SHP826 Sales_CPI_€  \n",
       "Month Year                             \n",
       "2022-05-01            NaN         NaN  \n",
       "2022-06-01            NaN         NaN  \n",
       "2022-07-01            NaN         NaN  \n",
       "2022-08-01            NaN         NaN  \n",
       "2022-09-01            NaN         NaN  \n",
       "2022-10-01            NaN         NaN  \n",
       "2022-11-01            NaN         NaN  \n",
       "2022-12-01            NaN         NaN  \n",
       "2023-01-01            NaN         NaN  \n",
       "2023-02-01            NaN         NaN  "
      ]
     },
     "execution_count": 71,
     "metadata": {},
     "output_type": "execute_result"
    }
   ],
   "source": [
    "test_6"
   ]
  },
  {
   "cell_type": "markdown",
   "metadata": {},
   "source": [
    "#### PRO27276_org"
   ]
  },
  {
   "cell_type": "markdown",
   "metadata": {},
   "source": [
    "Has a p-value < 0.05, so it does not follow a normal distribution and is non stacionary so we are gonna apply Holt Winters to predict the values"
   ]
  },
  {
   "cell_type": "code",
   "execution_count": 72,
   "metadata": {},
   "outputs": [
    {
     "name": "stderr",
     "output_type": "stream",
     "text": [
      "/Users/ritamatias/anaconda3/envs/DM2324/lib/python3.11/site-packages/statsmodels/tsa/base/tsa_model.py:473: ValueWarning: No frequency information was provided, so inferred frequency MS will be used.\n",
      "  self._init_dates(dates, freq)\n",
      "/Users/ritamatias/anaconda3/envs/DM2324/lib/python3.11/site-packages/statsmodels/tsa/holtwinters/model.py:83: RuntimeWarning: overflow encountered in matmul\n",
      "  return err.T @ err\n"
     ]
    }
   ],
   "source": [
    "#  Extract non-missing values\n",
    "series = remerged_data[6]['PRO27276_org'].dropna()\n",
    "\n",
    "# Fit the exponential smoothing model\n",
    "model = ExponentialSmoothing(series, seasonal='multiplicative', trend='multiplicative')\n",
    "fitted_model = model.fit()\n",
    "\n",
    "# Forecast future values\n",
    "n_periods = test_6['PRO27276_org'].isnull().sum()\n",
    "forecast = fitted_model.forecast(steps=n_periods)\n",
    "\n",
    "# Get the indices of the missing values\n",
    "missing_indexes = test_6[test_6['PRO27276_org'].isnull()].index\n",
    "\n",
    "# Replace NaN values in the 'PRO27276_org' column with the forecasted values\n",
    "test_6.loc[missing_indexes, 'PRO27276_org'] = forecast"
   ]
  },
  {
   "cell_type": "markdown",
   "metadata": {},
   "source": [
    "#### MAB_ELE_SHP840"
   ]
  },
  {
   "cell_type": "markdown",
   "metadata": {},
   "source": [
    "Has a p-value > 0.05, so it follows a normal distribution"
   ]
  },
  {
   "cell_type": "code",
   "execution_count": 73,
   "metadata": {},
   "outputs": [],
   "source": [
    "#  Calculate mean and standard deviation of the non-missing values\n",
    "mean_value = remerged_data[6]['MAB_ELE_SHP840'].mean()\n",
    "std_value = remerged_data[6]['MAB_ELE_SHP840'].std()\n",
    "\n",
    "#  Get the number of missing values\n",
    "num_missing = test_6['MAB_ELE_SHP840'].isnull().sum()\n",
    "\n",
    "# Generate a sequence of random values from a normal distribution\n",
    "predictions = norm.rvs(loc=mean_value, scale=std_value, size=num_missing)\n",
    "\n",
    "# Get the indices of the missing values\n",
    "missing_indexes = test_6[test_6['MAB_ELE_SHP840'].isnull()].index\n",
    "\n",
    "# Create a pd.Series with the predictions for the missing indexes\n",
    "predictions_series = pd.Series(predictions, index=missing_indexes)\n",
    "\n",
    "# Fill the missing values in the 'MAB_ELE_SHP840' column with the predictions\n",
    "test_6['MAB_ELE_SHP840'].fillna(predictions_series, inplace=True)"
   ]
  },
  {
   "cell_type": "markdown",
   "metadata": {},
   "source": [
    "#### MAB_ELE_PRO276"
   ]
  },
  {
   "cell_type": "code",
   "execution_count": 74,
   "metadata": {},
   "outputs": [],
   "source": [
    "test_6['MAB_ELE_PRO276'] = test_1['MAB_ELE_PRO276']"
   ]
  },
  {
   "cell_type": "markdown",
   "metadata": {},
   "source": [
    "#### MAB_ELE_PRO380"
   ]
  },
  {
   "cell_type": "markdown",
   "metadata": {},
   "source": [
    "Has a p-value < 0.05, so it does not follow a normal distribution and is non stacionary so we are gonna apply Holt Winters to predict the values"
   ]
  },
  {
   "cell_type": "code",
   "execution_count": 75,
   "metadata": {},
   "outputs": [
    {
     "name": "stderr",
     "output_type": "stream",
     "text": [
      "/Users/ritamatias/anaconda3/envs/DM2324/lib/python3.11/site-packages/statsmodels/tsa/base/tsa_model.py:473: ValueWarning: No frequency information was provided, so inferred frequency MS will be used.\n",
      "  self._init_dates(dates, freq)\n"
     ]
    }
   ],
   "source": [
    "from statsmodels.tsa.holtwinters import ExponentialSmoothing\n",
    "\n",
    "#  Extract non-missing values\n",
    "series = remerged_data[6]['MAB_ELE_PRO380'].dropna()\n",
    "\n",
    "# Fit the exponential smoothing model\n",
    "model = ExponentialSmoothing(series, seasonal='multiplicative', trend='multiplicative')\n",
    "fitted_model = model.fit()\n",
    "\n",
    "# Forecast future values\n",
    "n_periods = test_6['MAB_ELE_PRO380'].isnull().sum()\n",
    "forecast = fitted_model.forecast(steps=n_periods)\n",
    "\n",
    "# Get the indices of the missing values\n",
    "missing_indexes = test_6[test_6['MAB_ELE_PRO380'].isnull()].index\n",
    "\n",
    "# Replace NaN values in the 'MAB_ELE_PRO380' column with the forecasted values\n",
    "test_6.loc[missing_indexes, 'MAB_ELE_PRO380'] = forecast"
   ]
  },
  {
   "cell_type": "markdown",
   "metadata": {},
   "source": [
    "#### MAB_ELE_SHP826"
   ]
  },
  {
   "cell_type": "markdown",
   "metadata": {},
   "source": [
    "Has a p-value < 0.05, so it does not follow a normal distribution and is stacionary so we are gonna apply Simple Exponencial Smoothing to predict the values"
   ]
  },
  {
   "cell_type": "code",
   "execution_count": 76,
   "metadata": {},
   "outputs": [
    {
     "name": "stderr",
     "output_type": "stream",
     "text": [
      "/Users/ritamatias/anaconda3/envs/DM2324/lib/python3.11/site-packages/statsmodels/tsa/base/tsa_model.py:473: ValueWarning: No frequency information was provided, so inferred frequency MS will be used.\n",
      "  self._init_dates(dates, freq)\n"
     ]
    }
   ],
   "source": [
    "from statsmodels.tsa.holtwinters import SimpleExpSmoothing\n",
    "\n",
    "# Extract non-missing values\n",
    "series = remerged_data[6]['MAB_ELE_SHP826'].dropna()\n",
    "\n",
    "# Fit the simple exponential smoothing model\n",
    "model = SimpleExpSmoothing(series)\n",
    "fitted_model = model.fit()\n",
    "\n",
    "# Forecast future values\n",
    "n_periods = test_6['MAB_ELE_SHP826'].isnull().sum()\n",
    "forecast = fitted_model.forecast(steps=n_periods)\n",
    "\n",
    "# Get the indices of the missing values\n",
    "missing_indexes = test_6[test_6['MAB_ELE_SHP826'].isnull()].index\n",
    "\n",
    "# Replace NaN values in the 'MAB_ELE_SHP826' column with the forecasted values\n",
    "test_6.loc[missing_indexes, 'MAB_ELE_SHP826'] = forecast\n"
   ]
  },
  {
   "cell_type": "code",
   "execution_count": 77,
   "metadata": {},
   "outputs": [
    {
     "data": {
      "text/html": [
       "<div>\n",
       "<style scoped>\n",
       "    .dataframe tbody tr th:only-of-type {\n",
       "        vertical-align: middle;\n",
       "    }\n",
       "\n",
       "    .dataframe tbody tr th {\n",
       "        vertical-align: top;\n",
       "    }\n",
       "\n",
       "    .dataframe thead th {\n",
       "        text-align: right;\n",
       "    }\n",
       "</style>\n",
       "<table border=\"1\" class=\"dataframe\">\n",
       "  <thead>\n",
       "    <tr style=\"text-align: right;\">\n",
       "      <th></th>\n",
       "      <th>PRO27276_org</th>\n",
       "      <th>MAB_ELE_SHP840</th>\n",
       "      <th>MAB_ELE_PRO276</th>\n",
       "      <th>MAB_ELE_PRO380</th>\n",
       "      <th>MAB_ELE_SHP826</th>\n",
       "      <th>Sales_CPI_€</th>\n",
       "    </tr>\n",
       "    <tr>\n",
       "      <th>Month Year</th>\n",
       "      <th></th>\n",
       "      <th></th>\n",
       "      <th></th>\n",
       "      <th></th>\n",
       "      <th></th>\n",
       "      <th></th>\n",
       "    </tr>\n",
       "  </thead>\n",
       "  <tbody>\n",
       "    <tr>\n",
       "      <th>2022-05-01</th>\n",
       "      <td>101.990985</td>\n",
       "      <td>135.021423</td>\n",
       "      <td>117.602286</td>\n",
       "      <td>120.169624</td>\n",
       "      <td>109.680343</td>\n",
       "      <td>NaN</td>\n",
       "    </tr>\n",
       "    <tr>\n",
       "      <th>2022-06-01</th>\n",
       "      <td>104.508181</td>\n",
       "      <td>136.111567</td>\n",
       "      <td>120.292600</td>\n",
       "      <td>118.998123</td>\n",
       "      <td>109.680343</td>\n",
       "      <td>NaN</td>\n",
       "    </tr>\n",
       "    <tr>\n",
       "      <th>2022-07-01</th>\n",
       "      <td>108.800287</td>\n",
       "      <td>121.875341</td>\n",
       "      <td>116.126088</td>\n",
       "      <td>125.429775</td>\n",
       "      <td>109.680343</td>\n",
       "      <td>NaN</td>\n",
       "    </tr>\n",
       "    <tr>\n",
       "      <th>2022-08-01</th>\n",
       "      <td>101.307528</td>\n",
       "      <td>130.724240</td>\n",
       "      <td>109.638478</td>\n",
       "      <td>64.286661</td>\n",
       "      <td>109.680343</td>\n",
       "      <td>NaN</td>\n",
       "    </tr>\n",
       "    <tr>\n",
       "      <th>2022-09-01</th>\n",
       "      <td>112.743424</td>\n",
       "      <td>130.196612</td>\n",
       "      <td>111.056307</td>\n",
       "      <td>120.583328</td>\n",
       "      <td>109.680343</td>\n",
       "      <td>NaN</td>\n",
       "    </tr>\n",
       "    <tr>\n",
       "      <th>2022-10-01</th>\n",
       "      <td>112.765987</td>\n",
       "      <td>138.504734</td>\n",
       "      <td>116.416852</td>\n",
       "      <td>123.489779</td>\n",
       "      <td>109.680343</td>\n",
       "      <td>NaN</td>\n",
       "    </tr>\n",
       "    <tr>\n",
       "      <th>2022-11-01</th>\n",
       "      <td>113.011056</td>\n",
       "      <td>145.026630</td>\n",
       "      <td>112.829967</td>\n",
       "      <td>116.992908</td>\n",
       "      <td>109.680343</td>\n",
       "      <td>NaN</td>\n",
       "    </tr>\n",
       "    <tr>\n",
       "      <th>2022-12-01</th>\n",
       "      <td>92.435647</td>\n",
       "      <td>107.480376</td>\n",
       "      <td>110.486227</td>\n",
       "      <td>98.153986</td>\n",
       "      <td>109.680343</td>\n",
       "      <td>NaN</td>\n",
       "    </tr>\n",
       "    <tr>\n",
       "      <th>2023-01-01</th>\n",
       "      <td>101.612179</td>\n",
       "      <td>120.257369</td>\n",
       "      <td>123.828164</td>\n",
       "      <td>101.62835</td>\n",
       "      <td>109.680343</td>\n",
       "      <td>NaN</td>\n",
       "    </tr>\n",
       "    <tr>\n",
       "      <th>2023-02-01</th>\n",
       "      <td>105.899404</td>\n",
       "      <td>130.623601</td>\n",
       "      <td>96.984587</td>\n",
       "      <td>113.962894</td>\n",
       "      <td>109.680343</td>\n",
       "      <td>NaN</td>\n",
       "    </tr>\n",
       "  </tbody>\n",
       "</table>\n",
       "</div>"
      ],
      "text/plain": [
       "           PRO27276_org  MAB_ELE_SHP840  MAB_ELE_PRO276 MAB_ELE_PRO380  \\\n",
       "Month Year                                                               \n",
       "2022-05-01   101.990985      135.021423      117.602286     120.169624   \n",
       "2022-06-01   104.508181      136.111567      120.292600     118.998123   \n",
       "2022-07-01   108.800287      121.875341      116.126088     125.429775   \n",
       "2022-08-01   101.307528      130.724240      109.638478      64.286661   \n",
       "2022-09-01   112.743424      130.196612      111.056307     120.583328   \n",
       "2022-10-01   112.765987      138.504734      116.416852     123.489779   \n",
       "2022-11-01   113.011056      145.026630      112.829967     116.992908   \n",
       "2022-12-01    92.435647      107.480376      110.486227      98.153986   \n",
       "2023-01-01   101.612179      120.257369      123.828164      101.62835   \n",
       "2023-02-01   105.899404      130.623601       96.984587     113.962894   \n",
       "\n",
       "           MAB_ELE_SHP826 Sales_CPI_€  \n",
       "Month Year                             \n",
       "2022-05-01     109.680343         NaN  \n",
       "2022-06-01     109.680343         NaN  \n",
       "2022-07-01     109.680343         NaN  \n",
       "2022-08-01     109.680343         NaN  \n",
       "2022-09-01     109.680343         NaN  \n",
       "2022-10-01     109.680343         NaN  \n",
       "2022-11-01     109.680343         NaN  \n",
       "2022-12-01     109.680343         NaN  \n",
       "2023-01-01     109.680343         NaN  \n",
       "2023-02-01     109.680343         NaN  "
      ]
     },
     "execution_count": 77,
     "metadata": {},
     "output_type": "execute_result"
    }
   ],
   "source": [
    "test_6"
   ]
  },
  {
   "cell_type": "markdown",
   "metadata": {},
   "source": [
    "### Product 8"
   ]
  },
  {
   "cell_type": "code",
   "execution_count": 78,
   "metadata": {},
   "outputs": [],
   "source": [
    "test_8 = pd.DataFrame(index=test[test['Mapped_GCK'] == '8']['Month Year'], columns=remerged_data[8].columns)"
   ]
  },
  {
   "cell_type": "code",
   "execution_count": 79,
   "metadata": {},
   "outputs": [
    {
     "data": {
      "text/html": [
       "<div>\n",
       "<style scoped>\n",
       "    .dataframe tbody tr th:only-of-type {\n",
       "        vertical-align: middle;\n",
       "    }\n",
       "\n",
       "    .dataframe tbody tr th {\n",
       "        vertical-align: top;\n",
       "    }\n",
       "\n",
       "    .dataframe thead th {\n",
       "        text-align: right;\n",
       "    }\n",
       "</style>\n",
       "<table border=\"1\" class=\"dataframe\">\n",
       "  <thead>\n",
       "    <tr style=\"text-align: right;\">\n",
       "      <th></th>\n",
       "      <th>Sales_CPI_€_rolling_mean_3</th>\n",
       "      <th>Sales_CPI_€_lag_6</th>\n",
       "      <th>WKLWEUR840_org</th>\n",
       "      <th>Sales_CPI_€_lag_3</th>\n",
       "      <th>PRO271000_org</th>\n",
       "      <th>Sales_CPI_€</th>\n",
       "    </tr>\n",
       "    <tr>\n",
       "      <th>Month Year</th>\n",
       "      <th></th>\n",
       "      <th></th>\n",
       "      <th></th>\n",
       "      <th></th>\n",
       "      <th></th>\n",
       "      <th></th>\n",
       "    </tr>\n",
       "  </thead>\n",
       "  <tbody>\n",
       "    <tr>\n",
       "      <th>2022-05-01</th>\n",
       "      <td>NaN</td>\n",
       "      <td>NaN</td>\n",
       "      <td>NaN</td>\n",
       "      <td>NaN</td>\n",
       "      <td>NaN</td>\n",
       "      <td>NaN</td>\n",
       "    </tr>\n",
       "    <tr>\n",
       "      <th>2022-06-01</th>\n",
       "      <td>NaN</td>\n",
       "      <td>NaN</td>\n",
       "      <td>NaN</td>\n",
       "      <td>NaN</td>\n",
       "      <td>NaN</td>\n",
       "      <td>NaN</td>\n",
       "    </tr>\n",
       "    <tr>\n",
       "      <th>2022-07-01</th>\n",
       "      <td>NaN</td>\n",
       "      <td>NaN</td>\n",
       "      <td>NaN</td>\n",
       "      <td>NaN</td>\n",
       "      <td>NaN</td>\n",
       "      <td>NaN</td>\n",
       "    </tr>\n",
       "    <tr>\n",
       "      <th>2022-08-01</th>\n",
       "      <td>NaN</td>\n",
       "      <td>NaN</td>\n",
       "      <td>NaN</td>\n",
       "      <td>NaN</td>\n",
       "      <td>NaN</td>\n",
       "      <td>NaN</td>\n",
       "    </tr>\n",
       "    <tr>\n",
       "      <th>2022-09-01</th>\n",
       "      <td>NaN</td>\n",
       "      <td>NaN</td>\n",
       "      <td>NaN</td>\n",
       "      <td>NaN</td>\n",
       "      <td>NaN</td>\n",
       "      <td>NaN</td>\n",
       "    </tr>\n",
       "    <tr>\n",
       "      <th>2022-10-01</th>\n",
       "      <td>NaN</td>\n",
       "      <td>NaN</td>\n",
       "      <td>NaN</td>\n",
       "      <td>NaN</td>\n",
       "      <td>NaN</td>\n",
       "      <td>NaN</td>\n",
       "    </tr>\n",
       "    <tr>\n",
       "      <th>2022-11-01</th>\n",
       "      <td>NaN</td>\n",
       "      <td>NaN</td>\n",
       "      <td>NaN</td>\n",
       "      <td>NaN</td>\n",
       "      <td>NaN</td>\n",
       "      <td>NaN</td>\n",
       "    </tr>\n",
       "    <tr>\n",
       "      <th>2022-12-01</th>\n",
       "      <td>NaN</td>\n",
       "      <td>NaN</td>\n",
       "      <td>NaN</td>\n",
       "      <td>NaN</td>\n",
       "      <td>NaN</td>\n",
       "      <td>NaN</td>\n",
       "    </tr>\n",
       "    <tr>\n",
       "      <th>2023-01-01</th>\n",
       "      <td>NaN</td>\n",
       "      <td>NaN</td>\n",
       "      <td>NaN</td>\n",
       "      <td>NaN</td>\n",
       "      <td>NaN</td>\n",
       "      <td>NaN</td>\n",
       "    </tr>\n",
       "    <tr>\n",
       "      <th>2023-02-01</th>\n",
       "      <td>NaN</td>\n",
       "      <td>NaN</td>\n",
       "      <td>NaN</td>\n",
       "      <td>NaN</td>\n",
       "      <td>NaN</td>\n",
       "      <td>NaN</td>\n",
       "    </tr>\n",
       "  </tbody>\n",
       "</table>\n",
       "</div>"
      ],
      "text/plain": [
       "           Sales_CPI_€_rolling_mean_3 Sales_CPI_€_lag_6 WKLWEUR840_org  \\\n",
       "Month Year                                                               \n",
       "2022-05-01                        NaN               NaN            NaN   \n",
       "2022-06-01                        NaN               NaN            NaN   \n",
       "2022-07-01                        NaN               NaN            NaN   \n",
       "2022-08-01                        NaN               NaN            NaN   \n",
       "2022-09-01                        NaN               NaN            NaN   \n",
       "2022-10-01                        NaN               NaN            NaN   \n",
       "2022-11-01                        NaN               NaN            NaN   \n",
       "2022-12-01                        NaN               NaN            NaN   \n",
       "2023-01-01                        NaN               NaN            NaN   \n",
       "2023-02-01                        NaN               NaN            NaN   \n",
       "\n",
       "           Sales_CPI_€_lag_3 PRO271000_org Sales_CPI_€  \n",
       "Month Year                                              \n",
       "2022-05-01               NaN           NaN         NaN  \n",
       "2022-06-01               NaN           NaN         NaN  \n",
       "2022-07-01               NaN           NaN         NaN  \n",
       "2022-08-01               NaN           NaN         NaN  \n",
       "2022-09-01               NaN           NaN         NaN  \n",
       "2022-10-01               NaN           NaN         NaN  \n",
       "2022-11-01               NaN           NaN         NaN  \n",
       "2022-12-01               NaN           NaN         NaN  \n",
       "2023-01-01               NaN           NaN         NaN  \n",
       "2023-02-01               NaN           NaN         NaN  "
      ]
     },
     "execution_count": 79,
     "metadata": {},
     "output_type": "execute_result"
    }
   ],
   "source": [
    "test_8"
   ]
  },
  {
   "cell_type": "markdown",
   "metadata": {},
   "source": [
    "#### Sales_CPI_€_rolling_mean_3"
   ]
  },
  {
   "cell_type": "code",
   "execution_count": 80,
   "metadata": {},
   "outputs": [],
   "source": [
    "test_8['Sales_CPI_€_rolling_mean_3'] = test_4['Sales_CPI_€_rolling_mean_3']"
   ]
  },
  {
   "cell_type": "markdown",
   "metadata": {},
   "source": [
    "#### Sales_CPI_€_lag_6"
   ]
  },
  {
   "cell_type": "markdown",
   "metadata": {},
   "source": [
    "Has a p-value < 0.05, so it does not follow a normal distribution and is non stacionary so we are gonna apply Holt Winters to predict the values"
   ]
  },
  {
   "cell_type": "code",
   "execution_count": 81,
   "metadata": {},
   "outputs": [
    {
     "name": "stderr",
     "output_type": "stream",
     "text": [
      "/Users/ritamatias/anaconda3/envs/DM2324/lib/python3.11/site-packages/statsmodels/tsa/base/tsa_model.py:473: ValueWarning: No frequency information was provided, so inferred frequency MS will be used.\n",
      "  self._init_dates(dates, freq)\n",
      "/Users/ritamatias/anaconda3/envs/DM2324/lib/python3.11/site-packages/statsmodels/tsa/holtwinters/model.py:83: RuntimeWarning: overflow encountered in matmul\n",
      "  return err.T @ err\n",
      "/Users/ritamatias/anaconda3/envs/DM2324/lib/python3.11/site-packages/statsmodels/tsa/holtwinters/model.py:917: ConvergenceWarning: Optimization failed to converge. Check mle_retvals.\n",
      "  warnings.warn(\n"
     ]
    }
   ],
   "source": [
    "from statsmodels.tsa.holtwinters import ExponentialSmoothing\n",
    "\n",
    "#  Extract non-missing values\n",
    "series = remerged_data[8]['Sales_CPI_€_lag_6'].dropna()\n",
    "\n",
    "# Fit the exponential smoothing model\n",
    "model = ExponentialSmoothing(series, seasonal='multiplicative', trend='multiplicative')\n",
    "fitted_model = model.fit()\n",
    "\n",
    "# Forecast future values\n",
    "n_periods = test_8['Sales_CPI_€_lag_6'].isnull().sum()\n",
    "forecast = fitted_model.forecast(steps=n_periods)\n",
    "\n",
    "# Get the indices of the missing values\n",
    "missing_indexes = test_8[test_8['Sales_CPI_€_lag_6'].isnull()].index\n",
    "\n",
    "# Replace NaN values in the 'Sales_CPI_€_lag_6' column with the forecasted values\n",
    "test_8.loc[missing_indexes, 'Sales_CPI_€_lag_6'] = forecast"
   ]
  },
  {
   "cell_type": "markdown",
   "metadata": {},
   "source": [
    "#### WKLWEUR840_org"
   ]
  },
  {
   "cell_type": "code",
   "execution_count": 82,
   "metadata": {},
   "outputs": [],
   "source": [
    "test_8['WKLWEUR840_org']= test_4['WKLWEUR840_org']"
   ]
  },
  {
   "cell_type": "markdown",
   "metadata": {},
   "source": [
    "#### Sales_CPI_€_lag_3"
   ]
  },
  {
   "cell_type": "markdown",
   "metadata": {},
   "source": [
    "Has a p-value < 0.05, so it does not follow a normal distribution and is non stacionary so we are gonna apply Holt Winters to predict the values"
   ]
  },
  {
   "cell_type": "code",
   "execution_count": 83,
   "metadata": {},
   "outputs": [
    {
     "name": "stderr",
     "output_type": "stream",
     "text": [
      "/Users/ritamatias/anaconda3/envs/DM2324/lib/python3.11/site-packages/statsmodels/tsa/base/tsa_model.py:473: ValueWarning: No frequency information was provided, so inferred frequency MS will be used.\n",
      "  self._init_dates(dates, freq)\n",
      "/Users/ritamatias/anaconda3/envs/DM2324/lib/python3.11/site-packages/statsmodels/tsa/holtwinters/model.py:917: ConvergenceWarning: Optimization failed to converge. Check mle_retvals.\n",
      "  warnings.warn(\n"
     ]
    }
   ],
   "source": [
    "from statsmodels.tsa.holtwinters import ExponentialSmoothing\n",
    "\n",
    "#  Extract non-missing values\n",
    "series = remerged_data[8]['Sales_CPI_€_lag_3'].dropna()\n",
    "\n",
    "# Fit the exponential smoothing model\n",
    "model = ExponentialSmoothing(series, seasonal='multiplicative', trend='multiplicative')\n",
    "fitted_model = model.fit()\n",
    "\n",
    "# Forecast future values\n",
    "n_periods = test_8['Sales_CPI_€_lag_3'].isnull().sum()\n",
    "forecast = fitted_model.forecast(steps=n_periods)\n",
    "\n",
    "# Get the indices of the missing values\n",
    "missing_indexes = test_8[test_8['Sales_CPI_€_lag_3'].isnull()].index\n",
    "\n",
    "# Replace NaN values in the 'Sales_CPI_€_lag_3' column with the forecasted values\n",
    "test_8.loc[missing_indexes, 'Sales_CPI_€_lag_3'] = forecast"
   ]
  },
  {
   "cell_type": "markdown",
   "metadata": {},
   "source": [
    "#### PRO271000_org"
   ]
  },
  {
   "cell_type": "markdown",
   "metadata": {},
   "source": [
    "Has a p-value > 0.05, so it follows a normal distribution"
   ]
  },
  {
   "cell_type": "code",
   "execution_count": 84,
   "metadata": {},
   "outputs": [],
   "source": [
    "#  Calculate mean and standard deviation of the non-missing values\n",
    "mean_value = remerged_data[8]['PRO271000_org'].mean()\n",
    "std_value = remerged_data[8]['PRO271000_org'].std()\n",
    "\n",
    "#  Get the number of missing values\n",
    "num_missing = test_8['PRO271000_org'].isnull().sum()\n",
    "\n",
    "# Generate a sequence of random values from a normal distribution\n",
    "predictions = norm.rvs(loc=mean_value, scale=std_value, size=num_missing)\n",
    "\n",
    "# Get the indices of the missing values\n",
    "missing_indexes = test_8[test_8['PRO271000_org'].isnull()].index\n",
    "\n",
    "# Create a pd.Series with the predictions for the missing indexes\n",
    "predictions_series = pd.Series(predictions, index=missing_indexes)\n",
    "\n",
    "# Fill the missing values in the 'PRO271000_org' column with the predictions\n",
    "test_8['PRO271000_org'].fillna(predictions_series, inplace=True)"
   ]
  },
  {
   "cell_type": "code",
   "execution_count": 85,
   "metadata": {},
   "outputs": [
    {
     "data": {
      "text/html": [
       "<div>\n",
       "<style scoped>\n",
       "    .dataframe tbody tr th:only-of-type {\n",
       "        vertical-align: middle;\n",
       "    }\n",
       "\n",
       "    .dataframe tbody tr th {\n",
       "        vertical-align: top;\n",
       "    }\n",
       "\n",
       "    .dataframe thead th {\n",
       "        text-align: right;\n",
       "    }\n",
       "</style>\n",
       "<table border=\"1\" class=\"dataframe\">\n",
       "  <thead>\n",
       "    <tr style=\"text-align: right;\">\n",
       "      <th></th>\n",
       "      <th>Sales_CPI_€_rolling_mean_3</th>\n",
       "      <th>Sales_CPI_€_lag_6</th>\n",
       "      <th>WKLWEUR840_org</th>\n",
       "      <th>Sales_CPI_€_lag_3</th>\n",
       "      <th>PRO271000_org</th>\n",
       "      <th>Sales_CPI_€</th>\n",
       "    </tr>\n",
       "    <tr>\n",
       "      <th>Month Year</th>\n",
       "      <th></th>\n",
       "      <th></th>\n",
       "      <th></th>\n",
       "      <th></th>\n",
       "      <th></th>\n",
       "      <th></th>\n",
       "    </tr>\n",
       "  </thead>\n",
       "  <tbody>\n",
       "    <tr>\n",
       "      <th>2022-05-01</th>\n",
       "      <td>335907.773903</td>\n",
       "      <td>3846001720836854043508281233367909434654253643...</td>\n",
       "      <td>1.078756</td>\n",
       "      <td>2090191.441812</td>\n",
       "      <td>121.611326</td>\n",
       "      <td>NaN</td>\n",
       "    </tr>\n",
       "    <tr>\n",
       "      <th>2022-06-01</th>\n",
       "      <td>408108.492055</td>\n",
       "      <td>6726324878095722402774802958121662069486320033...</td>\n",
       "      <td>1.080986</td>\n",
       "      <td>2254740.945709</td>\n",
       "      <td>131.418696</td>\n",
       "      <td>NaN</td>\n",
       "    </tr>\n",
       "    <tr>\n",
       "      <th>2022-07-01</th>\n",
       "      <td>411033.375776</td>\n",
       "      <td>5168856161856411592498945013984906419191210967...</td>\n",
       "      <td>1.069669</td>\n",
       "      <td>1540927.718676</td>\n",
       "      <td>130.825563</td>\n",
       "      <td>NaN</td>\n",
       "    </tr>\n",
       "    <tr>\n",
       "      <th>2022-08-01</th>\n",
       "      <td>346191.424686</td>\n",
       "      <td>2444192948225237828862370246402072429219907024...</td>\n",
       "      <td>1.068663</td>\n",
       "      <td>2016097.115437</td>\n",
       "      <td>140.669796</td>\n",
       "      <td>NaN</td>\n",
       "    </tr>\n",
       "    <tr>\n",
       "      <th>2022-09-01</th>\n",
       "      <td>328025.511084</td>\n",
       "      <td>3949053624485848548468021044636594861706565197...</td>\n",
       "      <td>1.055818</td>\n",
       "      <td>2045379.462427</td>\n",
       "      <td>119.908817</td>\n",
       "      <td>NaN</td>\n",
       "    </tr>\n",
       "    <tr>\n",
       "      <th>2022-10-01</th>\n",
       "      <td>338836.046619</td>\n",
       "      <td>2241446741695006730500772314280135146448775669...</td>\n",
       "      <td>1.043714</td>\n",
       "      <td>1885793.879506</td>\n",
       "      <td>110.813092</td>\n",
       "      <td>NaN</td>\n",
       "    </tr>\n",
       "    <tr>\n",
       "      <th>2022-11-01</th>\n",
       "      <td>376768.09474</td>\n",
       "      <td>9537181765595268114760994492413111527193132459...</td>\n",
       "      <td>1.032455</td>\n",
       "      <td>2511826.396807</td>\n",
       "      <td>105.823003</td>\n",
       "      <td>NaN</td>\n",
       "    </tr>\n",
       "    <tr>\n",
       "      <th>2022-12-01</th>\n",
       "      <td>289693.331625</td>\n",
       "      <td>1316936817734429492113200715204914944196794740...</td>\n",
       "      <td>1.034</td>\n",
       "      <td>4965394.464856</td>\n",
       "      <td>125.015413</td>\n",
       "      <td>NaN</td>\n",
       "    </tr>\n",
       "    <tr>\n",
       "      <th>2023-01-01</th>\n",
       "      <td>286136.982277</td>\n",
       "      <td>1561878744974975379084242665779693918416671939...</td>\n",
       "      <td>1.026457</td>\n",
       "      <td>544431.309797</td>\n",
       "      <td>132.357487</td>\n",
       "      <td>NaN</td>\n",
       "    </tr>\n",
       "    <tr>\n",
       "      <th>2023-02-01</th>\n",
       "      <td>321608.848767</td>\n",
       "      <td>5948720723738194707677757672210105814956055531...</td>\n",
       "      <td>1.01224</td>\n",
       "      <td>2889135.744967</td>\n",
       "      <td>98.252199</td>\n",
       "      <td>NaN</td>\n",
       "    </tr>\n",
       "  </tbody>\n",
       "</table>\n",
       "</div>"
      ],
      "text/plain": [
       "           Sales_CPI_€_rolling_mean_3  \\\n",
       "Month Year                              \n",
       "2022-05-01              335907.773903   \n",
       "2022-06-01              408108.492055   \n",
       "2022-07-01              411033.375776   \n",
       "2022-08-01              346191.424686   \n",
       "2022-09-01              328025.511084   \n",
       "2022-10-01              338836.046619   \n",
       "2022-11-01               376768.09474   \n",
       "2022-12-01              289693.331625   \n",
       "2023-01-01              286136.982277   \n",
       "2023-02-01              321608.848767   \n",
       "\n",
       "                                            Sales_CPI_€_lag_6 WKLWEUR840_org  \\\n",
       "Month Year                                                                     \n",
       "2022-05-01  3846001720836854043508281233367909434654253643...       1.078756   \n",
       "2022-06-01  6726324878095722402774802958121662069486320033...       1.080986   \n",
       "2022-07-01  5168856161856411592498945013984906419191210967...       1.069669   \n",
       "2022-08-01  2444192948225237828862370246402072429219907024...       1.068663   \n",
       "2022-09-01  3949053624485848548468021044636594861706565197...       1.055818   \n",
       "2022-10-01  2241446741695006730500772314280135146448775669...       1.043714   \n",
       "2022-11-01  9537181765595268114760994492413111527193132459...       1.032455   \n",
       "2022-12-01  1316936817734429492113200715204914944196794740...          1.034   \n",
       "2023-01-01  1561878744974975379084242665779693918416671939...       1.026457   \n",
       "2023-02-01  5948720723738194707677757672210105814956055531...        1.01224   \n",
       "\n",
       "           Sales_CPI_€_lag_3  PRO271000_org Sales_CPI_€  \n",
       "Month Year                                               \n",
       "2022-05-01    2090191.441812     121.611326         NaN  \n",
       "2022-06-01    2254740.945709     131.418696         NaN  \n",
       "2022-07-01    1540927.718676     130.825563         NaN  \n",
       "2022-08-01    2016097.115437     140.669796         NaN  \n",
       "2022-09-01    2045379.462427     119.908817         NaN  \n",
       "2022-10-01    1885793.879506     110.813092         NaN  \n",
       "2022-11-01    2511826.396807     105.823003         NaN  \n",
       "2022-12-01    4965394.464856     125.015413         NaN  \n",
       "2023-01-01     544431.309797     132.357487         NaN  \n",
       "2023-02-01    2889135.744967      98.252199         NaN  "
      ]
     },
     "execution_count": 85,
     "metadata": {},
     "output_type": "execute_result"
    }
   ],
   "source": [
    "test_8"
   ]
  },
  {
   "cell_type": "markdown",
   "metadata": {},
   "source": [
    "### Product 9"
   ]
  },
  {
   "cell_type": "code",
   "execution_count": 86,
   "metadata": {},
   "outputs": [],
   "source": [
    "test_9 = pd.DataFrame(index=test[test['Mapped_GCK'] == '9']['Month Year'], columns=remerged_data[9].columns)"
   ]
  },
  {
   "cell_type": "code",
   "execution_count": 87,
   "metadata": {},
   "outputs": [
    {
     "data": {
      "text/html": [
       "<div>\n",
       "<style scoped>\n",
       "    .dataframe tbody tr th:only-of-type {\n",
       "        vertical-align: middle;\n",
       "    }\n",
       "\n",
       "    .dataframe tbody tr th {\n",
       "        vertical-align: top;\n",
       "    }\n",
       "\n",
       "    .dataframe thead th {\n",
       "        text-align: right;\n",
       "    }\n",
       "</style>\n",
       "<table border=\"1\" class=\"dataframe\">\n",
       "  <thead>\n",
       "    <tr style=\"text-align: right;\">\n",
       "      <th></th>\n",
       "      <th>Sales_CPI_€_rolling_mean_3</th>\n",
       "      <th>PRO271000_org</th>\n",
       "      <th>PRO27826_org</th>\n",
       "      <th>MAB_ELE_SHP840</th>\n",
       "      <th>MAB_ELE_PRO250</th>\n",
       "      <th>Sales_CPI_€</th>\n",
       "    </tr>\n",
       "    <tr>\n",
       "      <th>Month Year</th>\n",
       "      <th></th>\n",
       "      <th></th>\n",
       "      <th></th>\n",
       "      <th></th>\n",
       "      <th></th>\n",
       "      <th></th>\n",
       "    </tr>\n",
       "  </thead>\n",
       "  <tbody>\n",
       "    <tr>\n",
       "      <th>2022-05-01</th>\n",
       "      <td>NaN</td>\n",
       "      <td>NaN</td>\n",
       "      <td>NaN</td>\n",
       "      <td>NaN</td>\n",
       "      <td>NaN</td>\n",
       "      <td>NaN</td>\n",
       "    </tr>\n",
       "    <tr>\n",
       "      <th>2022-06-01</th>\n",
       "      <td>NaN</td>\n",
       "      <td>NaN</td>\n",
       "      <td>NaN</td>\n",
       "      <td>NaN</td>\n",
       "      <td>NaN</td>\n",
       "      <td>NaN</td>\n",
       "    </tr>\n",
       "    <tr>\n",
       "      <th>2022-07-01</th>\n",
       "      <td>NaN</td>\n",
       "      <td>NaN</td>\n",
       "      <td>NaN</td>\n",
       "      <td>NaN</td>\n",
       "      <td>NaN</td>\n",
       "      <td>NaN</td>\n",
       "    </tr>\n",
       "    <tr>\n",
       "      <th>2022-08-01</th>\n",
       "      <td>NaN</td>\n",
       "      <td>NaN</td>\n",
       "      <td>NaN</td>\n",
       "      <td>NaN</td>\n",
       "      <td>NaN</td>\n",
       "      <td>NaN</td>\n",
       "    </tr>\n",
       "    <tr>\n",
       "      <th>2022-09-01</th>\n",
       "      <td>NaN</td>\n",
       "      <td>NaN</td>\n",
       "      <td>NaN</td>\n",
       "      <td>NaN</td>\n",
       "      <td>NaN</td>\n",
       "      <td>NaN</td>\n",
       "    </tr>\n",
       "    <tr>\n",
       "      <th>2022-10-01</th>\n",
       "      <td>NaN</td>\n",
       "      <td>NaN</td>\n",
       "      <td>NaN</td>\n",
       "      <td>NaN</td>\n",
       "      <td>NaN</td>\n",
       "      <td>NaN</td>\n",
       "    </tr>\n",
       "    <tr>\n",
       "      <th>2022-11-01</th>\n",
       "      <td>NaN</td>\n",
       "      <td>NaN</td>\n",
       "      <td>NaN</td>\n",
       "      <td>NaN</td>\n",
       "      <td>NaN</td>\n",
       "      <td>NaN</td>\n",
       "    </tr>\n",
       "    <tr>\n",
       "      <th>2022-12-01</th>\n",
       "      <td>NaN</td>\n",
       "      <td>NaN</td>\n",
       "      <td>NaN</td>\n",
       "      <td>NaN</td>\n",
       "      <td>NaN</td>\n",
       "      <td>NaN</td>\n",
       "    </tr>\n",
       "    <tr>\n",
       "      <th>2023-01-01</th>\n",
       "      <td>NaN</td>\n",
       "      <td>NaN</td>\n",
       "      <td>NaN</td>\n",
       "      <td>NaN</td>\n",
       "      <td>NaN</td>\n",
       "      <td>NaN</td>\n",
       "    </tr>\n",
       "    <tr>\n",
       "      <th>2023-02-01</th>\n",
       "      <td>NaN</td>\n",
       "      <td>NaN</td>\n",
       "      <td>NaN</td>\n",
       "      <td>NaN</td>\n",
       "      <td>NaN</td>\n",
       "      <td>NaN</td>\n",
       "    </tr>\n",
       "  </tbody>\n",
       "</table>\n",
       "</div>"
      ],
      "text/plain": [
       "           Sales_CPI_€_rolling_mean_3 PRO271000_org PRO27826_org  \\\n",
       "Month Year                                                         \n",
       "2022-05-01                        NaN           NaN          NaN   \n",
       "2022-06-01                        NaN           NaN          NaN   \n",
       "2022-07-01                        NaN           NaN          NaN   \n",
       "2022-08-01                        NaN           NaN          NaN   \n",
       "2022-09-01                        NaN           NaN          NaN   \n",
       "2022-10-01                        NaN           NaN          NaN   \n",
       "2022-11-01                        NaN           NaN          NaN   \n",
       "2022-12-01                        NaN           NaN          NaN   \n",
       "2023-01-01                        NaN           NaN          NaN   \n",
       "2023-02-01                        NaN           NaN          NaN   \n",
       "\n",
       "           MAB_ELE_SHP840 MAB_ELE_PRO250 Sales_CPI_€  \n",
       "Month Year                                            \n",
       "2022-05-01            NaN            NaN         NaN  \n",
       "2022-06-01            NaN            NaN         NaN  \n",
       "2022-07-01            NaN            NaN         NaN  \n",
       "2022-08-01            NaN            NaN         NaN  \n",
       "2022-09-01            NaN            NaN         NaN  \n",
       "2022-10-01            NaN            NaN         NaN  \n",
       "2022-11-01            NaN            NaN         NaN  \n",
       "2022-12-01            NaN            NaN         NaN  \n",
       "2023-01-01            NaN            NaN         NaN  \n",
       "2023-02-01            NaN            NaN         NaN  "
      ]
     },
     "execution_count": 87,
     "metadata": {},
     "output_type": "execute_result"
    }
   ],
   "source": [
    "test_9"
   ]
  },
  {
   "cell_type": "markdown",
   "metadata": {},
   "source": [
    "#### Sales_CPI_€_rolling_mean_3"
   ]
  },
  {
   "cell_type": "code",
   "execution_count": 88,
   "metadata": {},
   "outputs": [],
   "source": [
    "test_9['Sales_CPI_€_rolling_mean_3']= test_4['Sales_CPI_€_rolling_mean_3']"
   ]
  },
  {
   "cell_type": "markdown",
   "metadata": {},
   "source": [
    "#### PRO271000_org"
   ]
  },
  {
   "cell_type": "code",
   "execution_count": 89,
   "metadata": {},
   "outputs": [],
   "source": [
    "test_9['PRO271000_org'] = test_8['PRO271000_org']"
   ]
  },
  {
   "cell_type": "markdown",
   "metadata": {},
   "source": [
    "#### PRO27826_org"
   ]
  },
  {
   "cell_type": "code",
   "execution_count": 90,
   "metadata": {},
   "outputs": [],
   "source": [
    "test_9['PRO27826_org'] = test_3['PRO27826_org']"
   ]
  },
  {
   "cell_type": "markdown",
   "metadata": {},
   "source": [
    "#### MAB_ELE_SHP840"
   ]
  },
  {
   "cell_type": "code",
   "execution_count": 91,
   "metadata": {},
   "outputs": [],
   "source": [
    "test_9['MAB_ELE_SHP840'] = test_6['MAB_ELE_SHP840']"
   ]
  },
  {
   "cell_type": "markdown",
   "metadata": {},
   "source": [
    "#### MAB_ELE_PRO250"
   ]
  },
  {
   "cell_type": "markdown",
   "metadata": {},
   "source": [
    "Has a p-value < 0.05, so it does not follow a normal distribution and is non stacionary so we are gonna apply Holt Winters to predict the values"
   ]
  },
  {
   "cell_type": "code",
   "execution_count": 92,
   "metadata": {},
   "outputs": [
    {
     "name": "stderr",
     "output_type": "stream",
     "text": [
      "/Users/ritamatias/anaconda3/envs/DM2324/lib/python3.11/site-packages/statsmodels/tsa/base/tsa_model.py:473: ValueWarning: No frequency information was provided, so inferred frequency MS will be used.\n",
      "  self._init_dates(dates, freq)\n"
     ]
    }
   ],
   "source": [
    "from statsmodels.tsa.holtwinters import ExponentialSmoothing\n",
    "\n",
    "#  Extract non-missing values\n",
    "series = remerged_data[9]['MAB_ELE_PRO250'].dropna()\n",
    "\n",
    "# Fit the exponential smoothing model\n",
    "model = ExponentialSmoothing(series, seasonal='multiplicative', trend='multiplicative')\n",
    "fitted_model = model.fit()\n",
    "\n",
    "# Forecast future values\n",
    "n_periods = test_9['MAB_ELE_PRO250'].isnull().sum()\n",
    "forecast = fitted_model.forecast(steps=n_periods)\n",
    "\n",
    "# Get the indices of the missing values\n",
    "missing_indexes = test_9[test_9['MAB_ELE_PRO250'].isnull()].index\n",
    "\n",
    "# Replace NaN values in the 'MAB_ELE_PRO250' column with the forecasted values\n",
    "test_9.loc[missing_indexes, 'MAB_ELE_PRO250'] = forecast"
   ]
  },
  {
   "cell_type": "code",
   "execution_count": 93,
   "metadata": {},
   "outputs": [
    {
     "data": {
      "text/html": [
       "<div>\n",
       "<style scoped>\n",
       "    .dataframe tbody tr th:only-of-type {\n",
       "        vertical-align: middle;\n",
       "    }\n",
       "\n",
       "    .dataframe tbody tr th {\n",
       "        vertical-align: top;\n",
       "    }\n",
       "\n",
       "    .dataframe thead th {\n",
       "        text-align: right;\n",
       "    }\n",
       "</style>\n",
       "<table border=\"1\" class=\"dataframe\">\n",
       "  <thead>\n",
       "    <tr style=\"text-align: right;\">\n",
       "      <th></th>\n",
       "      <th>Sales_CPI_€_rolling_mean_3</th>\n",
       "      <th>PRO271000_org</th>\n",
       "      <th>PRO27826_org</th>\n",
       "      <th>MAB_ELE_SHP840</th>\n",
       "      <th>MAB_ELE_PRO250</th>\n",
       "      <th>Sales_CPI_€</th>\n",
       "    </tr>\n",
       "    <tr>\n",
       "      <th>Month Year</th>\n",
       "      <th></th>\n",
       "      <th></th>\n",
       "      <th></th>\n",
       "      <th></th>\n",
       "      <th></th>\n",
       "      <th></th>\n",
       "    </tr>\n",
       "  </thead>\n",
       "  <tbody>\n",
       "    <tr>\n",
       "      <th>2022-05-01</th>\n",
       "      <td>335907.773903</td>\n",
       "      <td>121.611326</td>\n",
       "      <td>118.670726</td>\n",
       "      <td>135.021423</td>\n",
       "      <td>87.311013</td>\n",
       "      <td>NaN</td>\n",
       "    </tr>\n",
       "    <tr>\n",
       "      <th>2022-06-01</th>\n",
       "      <td>408108.492055</td>\n",
       "      <td>131.418696</td>\n",
       "      <td>118.670726</td>\n",
       "      <td>136.111567</td>\n",
       "      <td>105.80699</td>\n",
       "      <td>NaN</td>\n",
       "    </tr>\n",
       "    <tr>\n",
       "      <th>2022-07-01</th>\n",
       "      <td>411033.375776</td>\n",
       "      <td>130.825563</td>\n",
       "      <td>118.670726</td>\n",
       "      <td>121.875341</td>\n",
       "      <td>101.931434</td>\n",
       "      <td>NaN</td>\n",
       "    </tr>\n",
       "    <tr>\n",
       "      <th>2022-08-01</th>\n",
       "      <td>346191.424686</td>\n",
       "      <td>140.669796</td>\n",
       "      <td>118.670726</td>\n",
       "      <td>130.724240</td>\n",
       "      <td>67.507146</td>\n",
       "      <td>NaN</td>\n",
       "    </tr>\n",
       "    <tr>\n",
       "      <th>2022-09-01</th>\n",
       "      <td>328025.511084</td>\n",
       "      <td>119.908817</td>\n",
       "      <td>118.670726</td>\n",
       "      <td>130.196612</td>\n",
       "      <td>107.763417</td>\n",
       "      <td>NaN</td>\n",
       "    </tr>\n",
       "    <tr>\n",
       "      <th>2022-10-01</th>\n",
       "      <td>338836.046619</td>\n",
       "      <td>110.813092</td>\n",
       "      <td>118.670726</td>\n",
       "      <td>138.504734</td>\n",
       "      <td>109.150758</td>\n",
       "      <td>NaN</td>\n",
       "    </tr>\n",
       "    <tr>\n",
       "      <th>2022-11-01</th>\n",
       "      <td>376768.09474</td>\n",
       "      <td>105.823003</td>\n",
       "      <td>118.670726</td>\n",
       "      <td>145.026630</td>\n",
       "      <td>104.497997</td>\n",
       "      <td>NaN</td>\n",
       "    </tr>\n",
       "    <tr>\n",
       "      <th>2022-12-01</th>\n",
       "      <td>289693.331625</td>\n",
       "      <td>125.015413</td>\n",
       "      <td>118.670726</td>\n",
       "      <td>107.480376</td>\n",
       "      <td>107.440707</td>\n",
       "      <td>NaN</td>\n",
       "    </tr>\n",
       "    <tr>\n",
       "      <th>2023-01-01</th>\n",
       "      <td>286136.982277</td>\n",
       "      <td>132.357487</td>\n",
       "      <td>118.670726</td>\n",
       "      <td>120.257369</td>\n",
       "      <td>96.131115</td>\n",
       "      <td>NaN</td>\n",
       "    </tr>\n",
       "    <tr>\n",
       "      <th>2023-02-01</th>\n",
       "      <td>321608.848767</td>\n",
       "      <td>98.252199</td>\n",
       "      <td>118.670726</td>\n",
       "      <td>130.623601</td>\n",
       "      <td>102.152693</td>\n",
       "      <td>NaN</td>\n",
       "    </tr>\n",
       "  </tbody>\n",
       "</table>\n",
       "</div>"
      ],
      "text/plain": [
       "           Sales_CPI_€_rolling_mean_3  PRO271000_org PRO27826_org  \\\n",
       "Month Year                                                          \n",
       "2022-05-01              335907.773903     121.611326   118.670726   \n",
       "2022-06-01              408108.492055     131.418696   118.670726   \n",
       "2022-07-01              411033.375776     130.825563   118.670726   \n",
       "2022-08-01              346191.424686     140.669796   118.670726   \n",
       "2022-09-01              328025.511084     119.908817   118.670726   \n",
       "2022-10-01              338836.046619     110.813092   118.670726   \n",
       "2022-11-01               376768.09474     105.823003   118.670726   \n",
       "2022-12-01              289693.331625     125.015413   118.670726   \n",
       "2023-01-01              286136.982277     132.357487   118.670726   \n",
       "2023-02-01              321608.848767      98.252199   118.670726   \n",
       "\n",
       "            MAB_ELE_SHP840 MAB_ELE_PRO250 Sales_CPI_€  \n",
       "Month Year                                             \n",
       "2022-05-01      135.021423      87.311013         NaN  \n",
       "2022-06-01      136.111567      105.80699         NaN  \n",
       "2022-07-01      121.875341     101.931434         NaN  \n",
       "2022-08-01      130.724240      67.507146         NaN  \n",
       "2022-09-01      130.196612     107.763417         NaN  \n",
       "2022-10-01      138.504734     109.150758         NaN  \n",
       "2022-11-01      145.026630     104.497997         NaN  \n",
       "2022-12-01      107.480376     107.440707         NaN  \n",
       "2023-01-01      120.257369      96.131115         NaN  \n",
       "2023-02-01      130.623601     102.152693         NaN  "
      ]
     },
     "execution_count": 93,
     "metadata": {},
     "output_type": "execute_result"
    }
   ],
   "source": [
    "test_9"
   ]
  },
  {
   "cell_type": "markdown",
   "metadata": {},
   "source": [
    "### Product 11"
   ]
  },
  {
   "cell_type": "code",
   "execution_count": 94,
   "metadata": {},
   "outputs": [],
   "source": [
    "test_11 = pd.DataFrame(index=test[test['Mapped_GCK'] == '11']['Month Year'], columns=remerged_data[11].columns)"
   ]
  },
  {
   "cell_type": "code",
   "execution_count": 95,
   "metadata": {},
   "outputs": [
    {
     "data": {
      "text/html": [
       "<div>\n",
       "<style scoped>\n",
       "    .dataframe tbody tr th:only-of-type {\n",
       "        vertical-align: middle;\n",
       "    }\n",
       "\n",
       "    .dataframe tbody tr th {\n",
       "        vertical-align: top;\n",
       "    }\n",
       "\n",
       "    .dataframe thead th {\n",
       "        text-align: right;\n",
       "    }\n",
       "</style>\n",
       "<table border=\"1\" class=\"dataframe\">\n",
       "  <thead>\n",
       "    <tr style=\"text-align: right;\">\n",
       "      <th></th>\n",
       "      <th>RohiNATGAS1000_org</th>\n",
       "      <th>MAB_ELE_SHP840</th>\n",
       "      <th>MAB_ELE_PRO756</th>\n",
       "      <th>PRI27826_org</th>\n",
       "      <th>PRI27380_org</th>\n",
       "      <th>Sales_CPI_€</th>\n",
       "    </tr>\n",
       "    <tr>\n",
       "      <th>Month Year</th>\n",
       "      <th></th>\n",
       "      <th></th>\n",
       "      <th></th>\n",
       "      <th></th>\n",
       "      <th></th>\n",
       "      <th></th>\n",
       "    </tr>\n",
       "  </thead>\n",
       "  <tbody>\n",
       "    <tr>\n",
       "      <th>2022-05-01</th>\n",
       "      <td>NaN</td>\n",
       "      <td>NaN</td>\n",
       "      <td>NaN</td>\n",
       "      <td>NaN</td>\n",
       "      <td>NaN</td>\n",
       "      <td>NaN</td>\n",
       "    </tr>\n",
       "    <tr>\n",
       "      <th>2022-06-01</th>\n",
       "      <td>NaN</td>\n",
       "      <td>NaN</td>\n",
       "      <td>NaN</td>\n",
       "      <td>NaN</td>\n",
       "      <td>NaN</td>\n",
       "      <td>NaN</td>\n",
       "    </tr>\n",
       "    <tr>\n",
       "      <th>2022-07-01</th>\n",
       "      <td>NaN</td>\n",
       "      <td>NaN</td>\n",
       "      <td>NaN</td>\n",
       "      <td>NaN</td>\n",
       "      <td>NaN</td>\n",
       "      <td>NaN</td>\n",
       "    </tr>\n",
       "    <tr>\n",
       "      <th>2022-08-01</th>\n",
       "      <td>NaN</td>\n",
       "      <td>NaN</td>\n",
       "      <td>NaN</td>\n",
       "      <td>NaN</td>\n",
       "      <td>NaN</td>\n",
       "      <td>NaN</td>\n",
       "    </tr>\n",
       "    <tr>\n",
       "      <th>2022-09-01</th>\n",
       "      <td>NaN</td>\n",
       "      <td>NaN</td>\n",
       "      <td>NaN</td>\n",
       "      <td>NaN</td>\n",
       "      <td>NaN</td>\n",
       "      <td>NaN</td>\n",
       "    </tr>\n",
       "    <tr>\n",
       "      <th>2022-10-01</th>\n",
       "      <td>NaN</td>\n",
       "      <td>NaN</td>\n",
       "      <td>NaN</td>\n",
       "      <td>NaN</td>\n",
       "      <td>NaN</td>\n",
       "      <td>NaN</td>\n",
       "    </tr>\n",
       "    <tr>\n",
       "      <th>2022-11-01</th>\n",
       "      <td>NaN</td>\n",
       "      <td>NaN</td>\n",
       "      <td>NaN</td>\n",
       "      <td>NaN</td>\n",
       "      <td>NaN</td>\n",
       "      <td>NaN</td>\n",
       "    </tr>\n",
       "    <tr>\n",
       "      <th>2022-12-01</th>\n",
       "      <td>NaN</td>\n",
       "      <td>NaN</td>\n",
       "      <td>NaN</td>\n",
       "      <td>NaN</td>\n",
       "      <td>NaN</td>\n",
       "      <td>NaN</td>\n",
       "    </tr>\n",
       "    <tr>\n",
       "      <th>2023-01-01</th>\n",
       "      <td>NaN</td>\n",
       "      <td>NaN</td>\n",
       "      <td>NaN</td>\n",
       "      <td>NaN</td>\n",
       "      <td>NaN</td>\n",
       "      <td>NaN</td>\n",
       "    </tr>\n",
       "    <tr>\n",
       "      <th>2023-02-01</th>\n",
       "      <td>NaN</td>\n",
       "      <td>NaN</td>\n",
       "      <td>NaN</td>\n",
       "      <td>NaN</td>\n",
       "      <td>NaN</td>\n",
       "      <td>NaN</td>\n",
       "    </tr>\n",
       "  </tbody>\n",
       "</table>\n",
       "</div>"
      ],
      "text/plain": [
       "           RohiNATGAS1000_org MAB_ELE_SHP840 MAB_ELE_PRO756 PRI27826_org  \\\n",
       "Month Year                                                                 \n",
       "2022-05-01                NaN            NaN            NaN          NaN   \n",
       "2022-06-01                NaN            NaN            NaN          NaN   \n",
       "2022-07-01                NaN            NaN            NaN          NaN   \n",
       "2022-08-01                NaN            NaN            NaN          NaN   \n",
       "2022-09-01                NaN            NaN            NaN          NaN   \n",
       "2022-10-01                NaN            NaN            NaN          NaN   \n",
       "2022-11-01                NaN            NaN            NaN          NaN   \n",
       "2022-12-01                NaN            NaN            NaN          NaN   \n",
       "2023-01-01                NaN            NaN            NaN          NaN   \n",
       "2023-02-01                NaN            NaN            NaN          NaN   \n",
       "\n",
       "           PRI27380_org Sales_CPI_€  \n",
       "Month Year                           \n",
       "2022-05-01          NaN         NaN  \n",
       "2022-06-01          NaN         NaN  \n",
       "2022-07-01          NaN         NaN  \n",
       "2022-08-01          NaN         NaN  \n",
       "2022-09-01          NaN         NaN  \n",
       "2022-10-01          NaN         NaN  \n",
       "2022-11-01          NaN         NaN  \n",
       "2022-12-01          NaN         NaN  \n",
       "2023-01-01          NaN         NaN  \n",
       "2023-02-01          NaN         NaN  "
      ]
     },
     "execution_count": 95,
     "metadata": {},
     "output_type": "execute_result"
    }
   ],
   "source": [
    "test_11"
   ]
  },
  {
   "cell_type": "markdown",
   "metadata": {},
   "source": [
    "#### MAB_ELE_SHP840 \n",
    "\n",
    "Has a p-value > 0.05, so it follows a normal distribution"
   ]
  },
  {
   "cell_type": "code",
   "execution_count": 96,
   "metadata": {},
   "outputs": [],
   "source": [
    "#  Calculate mean and standard deviation of the non-missing values\n",
    "mean_value = remerged_data[11]['MAB_ELE_SHP840'].mean()\n",
    "std_value = remerged_data[11]['MAB_ELE_SHP840'].std()\n",
    "\n",
    "#  Get the number of missing values\n",
    "num_missing = test_11['MAB_ELE_SHP840'].isnull().sum()\n",
    "\n",
    "# Generate a sequence of random values from a normal distribution\n",
    "predictions = norm.rvs(loc=mean_value, scale=std_value, size=num_missing)\n",
    "\n",
    "# Get the indices of the missing values\n",
    "missing_indexes = test_11[test_11['MAB_ELE_SHP840'].isnull()].index\n",
    "\n",
    "# Create a pd.Series with the predictions for the missing indexes\n",
    "predictions_series = pd.Series(predictions, index=missing_indexes)\n",
    "\n",
    "# Fill the missing values in the 'MAB_ELE_PRO840' column with the predictions\n",
    "test_11['MAB_ELE_SHP840'].fillna(predictions_series, inplace=True)"
   ]
  },
  {
   "cell_type": "markdown",
   "metadata": {},
   "source": [
    "#### MAB_ELE_PRO756\n",
    "\n",
    "Has a p-value > 0.05, so it follows a normal distribution"
   ]
  },
  {
   "cell_type": "code",
   "execution_count": 97,
   "metadata": {},
   "outputs": [],
   "source": [
    "#  Calculate mean and standard deviation of the non-missing values\n",
    "mean_value = remerged_data[11]['MAB_ELE_PRO756'].mean()\n",
    "std_value = remerged_data[11]['MAB_ELE_PRO756'].std()\n",
    "\n",
    "#  Get the number of missing values\n",
    "num_missing = test_11['MAB_ELE_PRO756'].isnull().sum()\n",
    "\n",
    "# Generate a sequence of random values from a normal distribution\n",
    "predictions = norm.rvs(loc=mean_value, scale=std_value, size=num_missing)\n",
    "\n",
    "# Get the indices of the missing values\n",
    "missing_indexes = test_11[test_11['MAB_ELE_PRO756'].isnull()].index\n",
    "\n",
    "# Create a pd.Series with the predictions for the missing indexes\n",
    "predictions_series = pd.Series(predictions, index=missing_indexes)\n",
    "\n",
    "# Fill the missing values in the 'MAB_ELE_PRO840' column with the predictions\n",
    "test_11['MAB_ELE_PRO756'].fillna(predictions_series, inplace=True)"
   ]
  },
  {
   "cell_type": "markdown",
   "metadata": {},
   "source": [
    "####  RohiNATGAS1000_org\n",
    "Has a p-value < 0.05, so it does not follow a normal distribution and is non stacionary so we are gonna apply Holt Winters to predict the values"
   ]
  },
  {
   "cell_type": "code",
   "execution_count": 98,
   "metadata": {},
   "outputs": [
    {
     "name": "stderr",
     "output_type": "stream",
     "text": [
      "/Users/ritamatias/anaconda3/envs/DM2324/lib/python3.11/site-packages/statsmodels/tsa/base/tsa_model.py:473: ValueWarning: No frequency information was provided, so inferred frequency MS will be used.\n",
      "  self._init_dates(dates, freq)\n"
     ]
    }
   ],
   "source": [
    "from statsmodels.tsa.holtwinters import ExponentialSmoothing\n",
    "\n",
    "# Extract non-missing values\n",
    "series = remerged_data[11]['RohiNATGAS1000_org'].dropna()\n",
    "\n",
    "# Fit the Holt-Winters Exponential Smoothing model\n",
    "model = ExponentialSmoothing(series, seasonal='multiplicative', trend='additive', seasonal_periods=12)\n",
    "fitted_model = model.fit()\n",
    "\n",
    "# Forecast future values\n",
    "n_periods = test_11['RohiNATGAS1000_org'].isnull().sum()\n",
    "forecast = fitted_model.forecast(steps=n_periods)\n",
    "\n",
    "# Get the indices of the missing values\n",
    "missing_indexes = test_11[test_11['RohiNATGAS1000_org'].isnull()].index\n",
    "\n",
    "# Replace NaN values in the 'RohiNATGAS1000_org' column with the forecasted values\n",
    "test_11.loc[missing_indexes, 'RohiNATGAS1000_org'] = forecast\n"
   ]
  },
  {
   "cell_type": "markdown",
   "metadata": {},
   "source": [
    "####  PRI27826_org\n",
    "Has a p-value < 0.05, so it does not follow a normal distribution and is non stacionary so we are gonna apply Holt Winters to predict the values"
   ]
  },
  {
   "cell_type": "code",
   "execution_count": 99,
   "metadata": {},
   "outputs": [
    {
     "name": "stderr",
     "output_type": "stream",
     "text": [
      "/Users/ritamatias/anaconda3/envs/DM2324/lib/python3.11/site-packages/statsmodels/tsa/base/tsa_model.py:473: ValueWarning: No frequency information was provided, so inferred frequency MS will be used.\n",
      "  self._init_dates(dates, freq)\n"
     ]
    }
   ],
   "source": [
    "from statsmodels.tsa.holtwinters import ExponentialSmoothing\n",
    "\n",
    "# Extract non-missing values\n",
    "series = remerged_data[11]['PRI27826_org'].dropna()\n",
    "\n",
    "# Fit the Holt-Winters Exponential Smoothing model\n",
    "model = ExponentialSmoothing(series, seasonal='multiplicative', trend='additive', seasonal_periods=12)\n",
    "fitted_model = model.fit()\n",
    "\n",
    "# Forecast future values\n",
    "n_periods = test_11['PRI27826_org'].isnull().sum()\n",
    "forecast = fitted_model.forecast(steps=n_periods)\n",
    "\n",
    "# Get the indices of the missing values\n",
    "missing_indexes = test_11[test_11['PRI27826_org'].isnull()].index\n",
    "\n",
    "# Replace NaN values in the 'PRI27826_org' column with the forecasted values\n",
    "test_11.loc[missing_indexes, 'PRI27826_org'] = forecast\n"
   ]
  },
  {
   "cell_type": "markdown",
   "metadata": {},
   "source": [
    "####  PRI27380_org\n",
    "Has a p-value < 0.05, so it does not follow a normal distribution and is non stacionary so we are gonna apply Holt Winters to predict the values"
   ]
  },
  {
   "cell_type": "code",
   "execution_count": 100,
   "metadata": {},
   "outputs": [
    {
     "name": "stderr",
     "output_type": "stream",
     "text": [
      "/Users/ritamatias/anaconda3/envs/DM2324/lib/python3.11/site-packages/statsmodels/tsa/base/tsa_model.py:473: ValueWarning: No frequency information was provided, so inferred frequency MS will be used.\n",
      "  self._init_dates(dates, freq)\n"
     ]
    }
   ],
   "source": [
    "from statsmodels.tsa.holtwinters import ExponentialSmoothing\n",
    "\n",
    "# Extract non-missing values\n",
    "series = remerged_data[11]['PRI27380_org'].dropna()\n",
    "\n",
    "# Fit the Holt-Winters Exponential Smoothing model\n",
    "model = ExponentialSmoothing(series, seasonal='multiplicative', trend='additive', seasonal_periods=12)\n",
    "fitted_model = model.fit()\n",
    "\n",
    "# Forecast future values\n",
    "n_periods = test_11['PRI27380_org'].isnull().sum()\n",
    "forecast = fitted_model.forecast(steps=n_periods)\n",
    "\n",
    "# Get the indices of the missing values\n",
    "missing_indexes = test_11[test_11['PRI27380_org'].isnull()].index\n",
    "\n",
    "# Replace NaN values in the 'PRI27380_org' column with the forecasted values\n",
    "test_11.loc[missing_indexes, 'PRI27380_org'] = forecast\n"
   ]
  },
  {
   "cell_type": "markdown",
   "metadata": {},
   "source": [
    "### Product 12"
   ]
  },
  {
   "cell_type": "code",
   "execution_count": 101,
   "metadata": {},
   "outputs": [],
   "source": [
    "test_12 = pd.DataFrame(index=test[test['Mapped_GCK'] == '12']['Month Year'], columns=remerged_data[12].columns)"
   ]
  },
  {
   "cell_type": "code",
   "execution_count": 102,
   "metadata": {},
   "outputs": [
    {
     "data": {
      "text/html": [
       "<div>\n",
       "<style scoped>\n",
       "    .dataframe tbody tr th:only-of-type {\n",
       "        vertical-align: middle;\n",
       "    }\n",
       "\n",
       "    .dataframe tbody tr th {\n",
       "        vertical-align: top;\n",
       "    }\n",
       "\n",
       "    .dataframe thead th {\n",
       "        text-align: right;\n",
       "    }\n",
       "</style>\n",
       "<table border=\"1\" class=\"dataframe\">\n",
       "  <thead>\n",
       "    <tr style=\"text-align: right;\">\n",
       "      <th></th>\n",
       "      <th>Sales_CPI_€_rolling_mean_3</th>\n",
       "      <th>MAB_ELE_PRO250</th>\n",
       "      <th>MAB_ELE_PRO156</th>\n",
       "      <th>Sales_CPI_€_lag_3</th>\n",
       "      <th>MAB_ELE_SHP380</th>\n",
       "      <th>Sales_CPI_€</th>\n",
       "    </tr>\n",
       "    <tr>\n",
       "      <th>Month Year</th>\n",
       "      <th></th>\n",
       "      <th></th>\n",
       "      <th></th>\n",
       "      <th></th>\n",
       "      <th></th>\n",
       "      <th></th>\n",
       "    </tr>\n",
       "  </thead>\n",
       "  <tbody>\n",
       "    <tr>\n",
       "      <th>2022-05-01</th>\n",
       "      <td>NaN</td>\n",
       "      <td>NaN</td>\n",
       "      <td>NaN</td>\n",
       "      <td>NaN</td>\n",
       "      <td>NaN</td>\n",
       "      <td>NaN</td>\n",
       "    </tr>\n",
       "    <tr>\n",
       "      <th>2022-06-01</th>\n",
       "      <td>NaN</td>\n",
       "      <td>NaN</td>\n",
       "      <td>NaN</td>\n",
       "      <td>NaN</td>\n",
       "      <td>NaN</td>\n",
       "      <td>NaN</td>\n",
       "    </tr>\n",
       "    <tr>\n",
       "      <th>2022-07-01</th>\n",
       "      <td>NaN</td>\n",
       "      <td>NaN</td>\n",
       "      <td>NaN</td>\n",
       "      <td>NaN</td>\n",
       "      <td>NaN</td>\n",
       "      <td>NaN</td>\n",
       "    </tr>\n",
       "    <tr>\n",
       "      <th>2022-08-01</th>\n",
       "      <td>NaN</td>\n",
       "      <td>NaN</td>\n",
       "      <td>NaN</td>\n",
       "      <td>NaN</td>\n",
       "      <td>NaN</td>\n",
       "      <td>NaN</td>\n",
       "    </tr>\n",
       "    <tr>\n",
       "      <th>2022-09-01</th>\n",
       "      <td>NaN</td>\n",
       "      <td>NaN</td>\n",
       "      <td>NaN</td>\n",
       "      <td>NaN</td>\n",
       "      <td>NaN</td>\n",
       "      <td>NaN</td>\n",
       "    </tr>\n",
       "    <tr>\n",
       "      <th>2022-10-01</th>\n",
       "      <td>NaN</td>\n",
       "      <td>NaN</td>\n",
       "      <td>NaN</td>\n",
       "      <td>NaN</td>\n",
       "      <td>NaN</td>\n",
       "      <td>NaN</td>\n",
       "    </tr>\n",
       "    <tr>\n",
       "      <th>2022-11-01</th>\n",
       "      <td>NaN</td>\n",
       "      <td>NaN</td>\n",
       "      <td>NaN</td>\n",
       "      <td>NaN</td>\n",
       "      <td>NaN</td>\n",
       "      <td>NaN</td>\n",
       "    </tr>\n",
       "    <tr>\n",
       "      <th>2022-12-01</th>\n",
       "      <td>NaN</td>\n",
       "      <td>NaN</td>\n",
       "      <td>NaN</td>\n",
       "      <td>NaN</td>\n",
       "      <td>NaN</td>\n",
       "      <td>NaN</td>\n",
       "    </tr>\n",
       "    <tr>\n",
       "      <th>2023-01-01</th>\n",
       "      <td>NaN</td>\n",
       "      <td>NaN</td>\n",
       "      <td>NaN</td>\n",
       "      <td>NaN</td>\n",
       "      <td>NaN</td>\n",
       "      <td>NaN</td>\n",
       "    </tr>\n",
       "    <tr>\n",
       "      <th>2023-02-01</th>\n",
       "      <td>NaN</td>\n",
       "      <td>NaN</td>\n",
       "      <td>NaN</td>\n",
       "      <td>NaN</td>\n",
       "      <td>NaN</td>\n",
       "      <td>NaN</td>\n",
       "    </tr>\n",
       "  </tbody>\n",
       "</table>\n",
       "</div>"
      ],
      "text/plain": [
       "           Sales_CPI_€_rolling_mean_3 MAB_ELE_PRO250 MAB_ELE_PRO156  \\\n",
       "Month Year                                                            \n",
       "2022-05-01                        NaN            NaN            NaN   \n",
       "2022-06-01                        NaN            NaN            NaN   \n",
       "2022-07-01                        NaN            NaN            NaN   \n",
       "2022-08-01                        NaN            NaN            NaN   \n",
       "2022-09-01                        NaN            NaN            NaN   \n",
       "2022-10-01                        NaN            NaN            NaN   \n",
       "2022-11-01                        NaN            NaN            NaN   \n",
       "2022-12-01                        NaN            NaN            NaN   \n",
       "2023-01-01                        NaN            NaN            NaN   \n",
       "2023-02-01                        NaN            NaN            NaN   \n",
       "\n",
       "           Sales_CPI_€_lag_3 MAB_ELE_SHP380 Sales_CPI_€  \n",
       "Month Year                                               \n",
       "2022-05-01               NaN            NaN         NaN  \n",
       "2022-06-01               NaN            NaN         NaN  \n",
       "2022-07-01               NaN            NaN         NaN  \n",
       "2022-08-01               NaN            NaN         NaN  \n",
       "2022-09-01               NaN            NaN         NaN  \n",
       "2022-10-01               NaN            NaN         NaN  \n",
       "2022-11-01               NaN            NaN         NaN  \n",
       "2022-12-01               NaN            NaN         NaN  \n",
       "2023-01-01               NaN            NaN         NaN  \n",
       "2023-02-01               NaN            NaN         NaN  "
      ]
     },
     "execution_count": 102,
     "metadata": {},
     "output_type": "execute_result"
    }
   ],
   "source": [
    "test_12"
   ]
  },
  {
   "cell_type": "markdown",
   "metadata": {},
   "source": [
    "#### MAB_ELE_SHP380 \n",
    "\n",
    "Has a p-value > 0.05, so it follows a normal distribution\n"
   ]
  },
  {
   "cell_type": "code",
   "execution_count": 103,
   "metadata": {},
   "outputs": [],
   "source": [
    "#  Calculate mean and standard deviation of the non-missing values\n",
    "mean_value = remerged_data[12]['MAB_ELE_SHP380'].mean()\n",
    "std_value = remerged_data[12]['MAB_ELE_SHP380'].std()\n",
    "\n",
    "#  Get the number of missing values\n",
    "num_missing = test_12['MAB_ELE_SHP380'].isnull().sum()\n",
    "\n",
    "# Generate a sequence of random values from a normal distribution\n",
    "predictions = norm.rvs(loc=mean_value, scale=std_value, size=num_missing)\n",
    "\n",
    "# Get the indices of the missing values\n",
    "missing_indexes = test_12[test_12['MAB_ELE_SHP380'].isnull()].index\n",
    "\n",
    "# Create a pd.Series with the predictions for the missing indexes\n",
    "predictions_series = pd.Series(predictions, index=missing_indexes)\n",
    "\n",
    "# Fill the missing values in the 'MAB_ELE_PRO840' column with the predictions\n",
    "test_12['MAB_ELE_SHP380'].fillna(predictions_series, inplace=True)"
   ]
  },
  {
   "cell_type": "markdown",
   "metadata": {},
   "source": [
    "#### Sales_CPI_€_lag_3\n",
    "\n",
    "Has a p-value < 0.05, so it does not follow a normal distribution and is non stacionary so we are gonna apply Holt Winters to predict the values\n"
   ]
  },
  {
   "cell_type": "code",
   "execution_count": 104,
   "metadata": {},
   "outputs": [
    {
     "name": "stderr",
     "output_type": "stream",
     "text": [
      "/Users/ritamatias/anaconda3/envs/DM2324/lib/python3.11/site-packages/statsmodels/tsa/base/tsa_model.py:473: ValueWarning: No frequency information was provided, so inferred frequency MS will be used.\n",
      "  self._init_dates(dates, freq)\n",
      "/Users/ritamatias/anaconda3/envs/DM2324/lib/python3.11/site-packages/statsmodels/tsa/holtwinters/model.py:917: ConvergenceWarning: Optimization failed to converge. Check mle_retvals.\n",
      "  warnings.warn(\n"
     ]
    }
   ],
   "source": [
    "from statsmodels.tsa.holtwinters import ExponentialSmoothing\n",
    "\n",
    "# Extract non-missing values\n",
    "series = remerged_data[12]['Sales_CPI_€_lag_3'].dropna()\n",
    "\n",
    "# Fit the Holt-Winters Exponential Smoothing model\n",
    "model = ExponentialSmoothing(series, seasonal='multiplicative', trend='additive', seasonal_periods=12)\n",
    "fitted_model = model.fit()\n",
    "\n",
    "# Forecast future values\n",
    "n_periods = test_12['Sales_CPI_€_lag_3'].isnull().sum()\n",
    "forecast = fitted_model.forecast(steps=n_periods)\n",
    "\n",
    "# Get the indices of the missing values\n",
    "missing_indexes = test_12[test_12['Sales_CPI_€_lag_3'].isnull()].index\n",
    "\n",
    "# Replace NaN values in the 'MAB_ELE_PRO826' column with the forecasted values\n",
    "test_12.loc[missing_indexes, 'Sales_CPI_€_lag_3'] = forecast\n"
   ]
  },
  {
   "cell_type": "markdown",
   "metadata": {},
   "source": [
    "#### Sales_CPI_€_rolling_mean_3\n",
    "\n",
    "Has a p-value < 0.05, so it does not follow a normal distribution and is non stacionary so we are gonna apply Holt Winters to predict the values"
   ]
  },
  {
   "cell_type": "code",
   "execution_count": 105,
   "metadata": {},
   "outputs": [
    {
     "name": "stderr",
     "output_type": "stream",
     "text": [
      "/Users/ritamatias/anaconda3/envs/DM2324/lib/python3.11/site-packages/statsmodels/tsa/base/tsa_model.py:473: ValueWarning: No frequency information was provided, so inferred frequency MS will be used.\n",
      "  self._init_dates(dates, freq)\n",
      "/Users/ritamatias/anaconda3/envs/DM2324/lib/python3.11/site-packages/statsmodels/tsa/holtwinters/model.py:917: ConvergenceWarning: Optimization failed to converge. Check mle_retvals.\n",
      "  warnings.warn(\n"
     ]
    }
   ],
   "source": [
    "from statsmodels.tsa.holtwinters import ExponentialSmoothing\n",
    "\n",
    "# Extract non-missing values\n",
    "series = remerged_data[12]['Sales_CPI_€_rolling_mean_3'].dropna()\n",
    "\n",
    "# Fit the Holt-Winters Exponential Smoothing model\n",
    "model = ExponentialSmoothing(series, seasonal='multiplicative', trend='additive', seasonal_periods=12)\n",
    "fitted_model = model.fit()\n",
    "\n",
    "# Forecast future values\n",
    "n_periods = test_12['Sales_CPI_€_rolling_mean_3'].isnull().sum()\n",
    "forecast = fitted_model.forecast(steps=n_periods)\n",
    "\n",
    "# Get the indices of the missing values\n",
    "missing_indexes = test_12[test_12['Sales_CPI_€_rolling_mean_3'].isnull()].index\n",
    "\n",
    "# Replace NaN values in the 'Sales_CPI_€_rolling_mean_3' column with the forecasted values\n",
    "test_12.loc[missing_indexes, 'Sales_CPI_€_rolling_mean_3'] = forecast\n"
   ]
  },
  {
   "cell_type": "markdown",
   "metadata": {},
   "source": [
    "#### MAB_ELE_PRO250 \n",
    "\n",
    "Has a p-value < 0.05, so it does not follow a normal distribution and is non stacionary so we are gonna apply Holt Winters to predict the values\n"
   ]
  },
  {
   "cell_type": "code",
   "execution_count": 106,
   "metadata": {},
   "outputs": [
    {
     "name": "stderr",
     "output_type": "stream",
     "text": [
      "/Users/ritamatias/anaconda3/envs/DM2324/lib/python3.11/site-packages/statsmodels/tsa/base/tsa_model.py:473: ValueWarning: No frequency information was provided, so inferred frequency MS will be used.\n",
      "  self._init_dates(dates, freq)\n"
     ]
    }
   ],
   "source": [
    "from statsmodels.tsa.holtwinters import ExponentialSmoothing\n",
    "\n",
    "# Extract non-missing values\n",
    "series = remerged_data[12]['MAB_ELE_PRO250'].dropna()\n",
    "\n",
    "# Fit the Holt-Winters Exponential Smoothing model\n",
    "model = ExponentialSmoothing(series, seasonal='multiplicative', trend='additive', seasonal_periods=12)\n",
    "fitted_model = model.fit()\n",
    "\n",
    "# Forecast future values\n",
    "n_periods = test_12['MAB_ELE_PRO250'].isnull().sum()\n",
    "forecast = fitted_model.forecast(steps=n_periods)\n",
    "\n",
    "# Get the indices of the missing values\n",
    "missing_indexes = test_12[test_12['MAB_ELE_PRO250'].isnull()].index\n",
    "\n",
    "# Replace NaN values in the 'MAB_ELE_PRO250' column with the forecasted values\n",
    "test_12.loc[missing_indexes, 'MAB_ELE_PRO250'] = forecast\n"
   ]
  },
  {
   "cell_type": "markdown",
   "metadata": {},
   "source": [
    "#### MAB_ELE_PRO156 \n",
    "\n",
    "Has a p-value < 0.05, so it does not follow a normal distribution and is non stacionary so we are gonna apply Holt Winters to predict the values"
   ]
  },
  {
   "cell_type": "code",
   "execution_count": 107,
   "metadata": {},
   "outputs": [
    {
     "name": "stderr",
     "output_type": "stream",
     "text": [
      "/Users/ritamatias/anaconda3/envs/DM2324/lib/python3.11/site-packages/statsmodels/tsa/base/tsa_model.py:473: ValueWarning: No frequency information was provided, so inferred frequency MS will be used.\n",
      "  self._init_dates(dates, freq)\n"
     ]
    }
   ],
   "source": [
    "from statsmodels.tsa.holtwinters import ExponentialSmoothing\n",
    "\n",
    "# Extract non-missing values\n",
    "series = remerged_data[12]['MAB_ELE_PRO156'].dropna()\n",
    "\n",
    "# Fit the Holt-Winters Exponential Smoothing model\n",
    "model = ExponentialSmoothing(series, seasonal='multiplicative', trend='additive', seasonal_periods=12)\n",
    "fitted_model = model.fit()\n",
    "\n",
    "# Forecast future values\n",
    "n_periods = test_12['MAB_ELE_PRO156'].isnull().sum()\n",
    "forecast = fitted_model.forecast(steps=n_periods)\n",
    "\n",
    "# Get the indices of the missing values\n",
    "missing_indexes = test_12[test_12['MAB_ELE_PRO156'].isnull()].index\n",
    "\n",
    "# Replace NaN values in the 'MAB_ELE_PRO156' column with the forecasted values\n",
    "test_12.loc[missing_indexes, 'MAB_ELE_PRO156'] = forecast\n"
   ]
  },
  {
   "cell_type": "markdown",
   "metadata": {},
   "source": [
    "### Product 13"
   ]
  },
  {
   "cell_type": "code",
   "execution_count": 108,
   "metadata": {},
   "outputs": [],
   "source": [
    "test_13 = pd.DataFrame(index=test[test['Mapped_GCK'] == '13']['Month Year'], columns=remerged_data[13].columns)"
   ]
  },
  {
   "cell_type": "code",
   "execution_count": 109,
   "metadata": {},
   "outputs": [
    {
     "data": {
      "text/html": [
       "<div>\n",
       "<style scoped>\n",
       "    .dataframe tbody tr th:only-of-type {\n",
       "        vertical-align: middle;\n",
       "    }\n",
       "\n",
       "    .dataframe tbody tr th {\n",
       "        vertical-align: top;\n",
       "    }\n",
       "\n",
       "    .dataframe thead th {\n",
       "        text-align: right;\n",
       "    }\n",
       "</style>\n",
       "<table border=\"1\" class=\"dataframe\">\n",
       "  <thead>\n",
       "    <tr style=\"text-align: right;\">\n",
       "      <th></th>\n",
       "      <th>PRI27840_org</th>\n",
       "      <th>PRO27756_org</th>\n",
       "      <th>MAB_ELE_PRO826</th>\n",
       "      <th>MAB_ELE_PRO276</th>\n",
       "      <th>RohiENERGY1000_org</th>\n",
       "      <th>Sales_CPI_€</th>\n",
       "    </tr>\n",
       "    <tr>\n",
       "      <th>Month Year</th>\n",
       "      <th></th>\n",
       "      <th></th>\n",
       "      <th></th>\n",
       "      <th></th>\n",
       "      <th></th>\n",
       "      <th></th>\n",
       "    </tr>\n",
       "  </thead>\n",
       "  <tbody>\n",
       "    <tr>\n",
       "      <th>2022-05-01</th>\n",
       "      <td>NaN</td>\n",
       "      <td>NaN</td>\n",
       "      <td>NaN</td>\n",
       "      <td>NaN</td>\n",
       "      <td>NaN</td>\n",
       "      <td>NaN</td>\n",
       "    </tr>\n",
       "    <tr>\n",
       "      <th>2022-06-01</th>\n",
       "      <td>NaN</td>\n",
       "      <td>NaN</td>\n",
       "      <td>NaN</td>\n",
       "      <td>NaN</td>\n",
       "      <td>NaN</td>\n",
       "      <td>NaN</td>\n",
       "    </tr>\n",
       "    <tr>\n",
       "      <th>2022-07-01</th>\n",
       "      <td>NaN</td>\n",
       "      <td>NaN</td>\n",
       "      <td>NaN</td>\n",
       "      <td>NaN</td>\n",
       "      <td>NaN</td>\n",
       "      <td>NaN</td>\n",
       "    </tr>\n",
       "    <tr>\n",
       "      <th>2022-08-01</th>\n",
       "      <td>NaN</td>\n",
       "      <td>NaN</td>\n",
       "      <td>NaN</td>\n",
       "      <td>NaN</td>\n",
       "      <td>NaN</td>\n",
       "      <td>NaN</td>\n",
       "    </tr>\n",
       "    <tr>\n",
       "      <th>2022-09-01</th>\n",
       "      <td>NaN</td>\n",
       "      <td>NaN</td>\n",
       "      <td>NaN</td>\n",
       "      <td>NaN</td>\n",
       "      <td>NaN</td>\n",
       "      <td>NaN</td>\n",
       "    </tr>\n",
       "    <tr>\n",
       "      <th>2022-10-01</th>\n",
       "      <td>NaN</td>\n",
       "      <td>NaN</td>\n",
       "      <td>NaN</td>\n",
       "      <td>NaN</td>\n",
       "      <td>NaN</td>\n",
       "      <td>NaN</td>\n",
       "    </tr>\n",
       "    <tr>\n",
       "      <th>2022-11-01</th>\n",
       "      <td>NaN</td>\n",
       "      <td>NaN</td>\n",
       "      <td>NaN</td>\n",
       "      <td>NaN</td>\n",
       "      <td>NaN</td>\n",
       "      <td>NaN</td>\n",
       "    </tr>\n",
       "    <tr>\n",
       "      <th>2022-12-01</th>\n",
       "      <td>NaN</td>\n",
       "      <td>NaN</td>\n",
       "      <td>NaN</td>\n",
       "      <td>NaN</td>\n",
       "      <td>NaN</td>\n",
       "      <td>NaN</td>\n",
       "    </tr>\n",
       "    <tr>\n",
       "      <th>2023-01-01</th>\n",
       "      <td>NaN</td>\n",
       "      <td>NaN</td>\n",
       "      <td>NaN</td>\n",
       "      <td>NaN</td>\n",
       "      <td>NaN</td>\n",
       "      <td>NaN</td>\n",
       "    </tr>\n",
       "    <tr>\n",
       "      <th>2023-02-01</th>\n",
       "      <td>NaN</td>\n",
       "      <td>NaN</td>\n",
       "      <td>NaN</td>\n",
       "      <td>NaN</td>\n",
       "      <td>NaN</td>\n",
       "      <td>NaN</td>\n",
       "    </tr>\n",
       "  </tbody>\n",
       "</table>\n",
       "</div>"
      ],
      "text/plain": [
       "           PRI27840_org PRO27756_org MAB_ELE_PRO826 MAB_ELE_PRO276  \\\n",
       "Month Year                                                           \n",
       "2022-05-01          NaN          NaN            NaN            NaN   \n",
       "2022-06-01          NaN          NaN            NaN            NaN   \n",
       "2022-07-01          NaN          NaN            NaN            NaN   \n",
       "2022-08-01          NaN          NaN            NaN            NaN   \n",
       "2022-09-01          NaN          NaN            NaN            NaN   \n",
       "2022-10-01          NaN          NaN            NaN            NaN   \n",
       "2022-11-01          NaN          NaN            NaN            NaN   \n",
       "2022-12-01          NaN          NaN            NaN            NaN   \n",
       "2023-01-01          NaN          NaN            NaN            NaN   \n",
       "2023-02-01          NaN          NaN            NaN            NaN   \n",
       "\n",
       "           RohiENERGY1000_org Sales_CPI_€  \n",
       "Month Year                                 \n",
       "2022-05-01                NaN         NaN  \n",
       "2022-06-01                NaN         NaN  \n",
       "2022-07-01                NaN         NaN  \n",
       "2022-08-01                NaN         NaN  \n",
       "2022-09-01                NaN         NaN  \n",
       "2022-10-01                NaN         NaN  \n",
       "2022-11-01                NaN         NaN  \n",
       "2022-12-01                NaN         NaN  \n",
       "2023-01-01                NaN         NaN  \n",
       "2023-02-01                NaN         NaN  "
      ]
     },
     "execution_count": 109,
     "metadata": {},
     "output_type": "execute_result"
    }
   ],
   "source": [
    "test_13"
   ]
  },
  {
   "cell_type": "markdown",
   "metadata": {},
   "source": [
    "#### PRO27756_org \n",
    "Has a p-value > 0.05, so it follows a normal distribution\n"
   ]
  },
  {
   "cell_type": "code",
   "execution_count": 110,
   "metadata": {},
   "outputs": [],
   "source": [
    "#  Calculate mean and standard deviation of the non-missing values\n",
    "mean_value = remerged_data[13]['PRO27756_org'].mean()\n",
    "std_value = remerged_data[13]['PRO27756_org'].std()\n",
    "\n",
    "#  Get the number of missing values\n",
    "num_missing = test_13['PRO27756_org'].isnull().sum()\n",
    "\n",
    "# Generate a sequence of random values from a normal distribution\n",
    "predictions = norm.rvs(loc=mean_value, scale=std_value, size=num_missing)\n",
    "\n",
    "# Get the indices of the missing values\n",
    "missing_indexes = test_13[test_13['PRO27756_org'].isnull()].index\n",
    "\n",
    "# Create a pd.Series with the predictions for the missing indexes\n",
    "predictions_series = pd.Series(predictions, index=missing_indexes)\n",
    "\n",
    "# Fill the missing values in the 'MAB_ELE_PRO840' column with the predictions\n",
    "test_13['PRO27756_org'].fillna(predictions_series, inplace=True)"
   ]
  },
  {
   "cell_type": "markdown",
   "metadata": {},
   "source": [
    "#### MAB_ELE_PRO276\n",
    "\n",
    "Has a p-value > 0.05, so it follows a normal distribution\n"
   ]
  },
  {
   "cell_type": "code",
   "execution_count": 111,
   "metadata": {},
   "outputs": [],
   "source": [
    "#  Calculate mean and standard deviation of the non-missing values\n",
    "mean_value = remerged_data[13]['MAB_ELE_PRO276'].mean()\n",
    "std_value = remerged_data[13]['MAB_ELE_PRO276'].std()\n",
    "\n",
    "#  Get the number of missing values\n",
    "num_missing = test_13['MAB_ELE_PRO276'].isnull().sum()\n",
    "\n",
    "# Generate a sequence of random values from a normal distribution\n",
    "predictions = norm.rvs(loc=mean_value, scale=std_value, size=num_missing)\n",
    "\n",
    "# Get the indices of the missing values\n",
    "missing_indexes = test_13[test_13['MAB_ELE_PRO276'].isnull()].index\n",
    "\n",
    "# Create a pd.Series with the predictions for the missing indexes\n",
    "predictions_series = pd.Series(predictions, index=missing_indexes)\n",
    "\n",
    "# Fill the missing values in the 'MAB_ELE_PRO840' column with the predictions\n",
    "test_13['MAB_ELE_PRO276'].fillna(predictions_series, inplace=True)"
   ]
  },
  {
   "cell_type": "markdown",
   "metadata": {},
   "source": [
    "#### PRI27840_org\n",
    "\n",
    "Has a p-value < 0.05, so it does not follow a normal distribution and is non stacionary so we are gonna apply Holt Winters to predict the values\n"
   ]
  },
  {
   "cell_type": "code",
   "execution_count": 112,
   "metadata": {},
   "outputs": [
    {
     "name": "stderr",
     "output_type": "stream",
     "text": [
      "/Users/ritamatias/anaconda3/envs/DM2324/lib/python3.11/site-packages/statsmodels/tsa/base/tsa_model.py:473: ValueWarning: No frequency information was provided, so inferred frequency MS will be used.\n",
      "  self._init_dates(dates, freq)\n"
     ]
    }
   ],
   "source": [
    "from statsmodels.tsa.holtwinters import ExponentialSmoothing\n",
    "\n",
    "# Extract non-missing values\n",
    "series = remerged_data[13]['PRI27840_org'].dropna()\n",
    "\n",
    "# Fit the Holt-Winters Exponential Smoothing model\n",
    "model = ExponentialSmoothing(series, seasonal='multiplicative', trend='additive', seasonal_periods=12)\n",
    "fitted_model = model.fit()\n",
    "\n",
    "# Forecast future values\n",
    "n_periods = test_13['PRI27840_org'].isnull().sum()\n",
    "forecast = fitted_model.forecast(steps=n_periods)\n",
    "\n",
    "# Get the indices of the missing values\n",
    "missing_indexes = test_13[test_13['PRI27840_org'].isnull()].index\n",
    "\n",
    "# Replace NaN values in the 'PRI27840_org' column with the forecasted values\n",
    "test_13.loc[missing_indexes, 'PRI27840_org'] = forecast\n"
   ]
  },
  {
   "cell_type": "markdown",
   "metadata": {},
   "source": [
    "#### MAB_ELE_PRO826\n",
    "\n",
    "Has a p-value < 0.05, so it does not follow a normal distribution and is non stacionary so we are gonna apply Holt Winters to predict the values"
   ]
  },
  {
   "cell_type": "code",
   "execution_count": 113,
   "metadata": {},
   "outputs": [
    {
     "name": "stderr",
     "output_type": "stream",
     "text": [
      "/Users/ritamatias/anaconda3/envs/DM2324/lib/python3.11/site-packages/statsmodels/tsa/base/tsa_model.py:473: ValueWarning: No frequency information was provided, so inferred frequency MS will be used.\n",
      "  self._init_dates(dates, freq)\n"
     ]
    }
   ],
   "source": [
    "from statsmodels.tsa.holtwinters import ExponentialSmoothing\n",
    "\n",
    "# Extract non-missing values\n",
    "series = remerged_data[13]['MAB_ELE_PRO826'].dropna()\n",
    "\n",
    "# Fit the Holt-Winters Exponential Smoothing model\n",
    "model = ExponentialSmoothing(series, seasonal='multiplicative', trend='additive', seasonal_periods=12)\n",
    "fitted_model = model.fit()\n",
    "\n",
    "# Forecast future values\n",
    "n_periods = test_13['MAB_ELE_PRO826'].isnull().sum()\n",
    "forecast = fitted_model.forecast(steps=n_periods)\n",
    "\n",
    "# Get the indices of the missing values\n",
    "missing_indexes = test_13[test_13['MAB_ELE_PRO826'].isnull()].index\n",
    "\n",
    "# Replace NaN values in the 'MAB_ELE_PRO826' column with the forecasted values\n",
    "test_13.loc[missing_indexes, 'MAB_ELE_PRO826'] = forecast\n"
   ]
  },
  {
   "cell_type": "markdown",
   "metadata": {},
   "source": [
    "#### RohiENERGY1000_org\n",
    "\n",
    "Has a p-value < 0.05, so it does not follow a normal distribution and is non stacionary so we are gonna apply Holt Winters to predict the values"
   ]
  },
  {
   "cell_type": "code",
   "execution_count": 114,
   "metadata": {},
   "outputs": [
    {
     "name": "stderr",
     "output_type": "stream",
     "text": [
      "/Users/ritamatias/anaconda3/envs/DM2324/lib/python3.11/site-packages/statsmodels/tsa/base/tsa_model.py:473: ValueWarning: No frequency information was provided, so inferred frequency MS will be used.\n",
      "  self._init_dates(dates, freq)\n"
     ]
    }
   ],
   "source": [
    "from statsmodels.tsa.holtwinters import ExponentialSmoothing\n",
    "\n",
    "# Extract non-missing values\n",
    "series = remerged_data[13]['RohiENERGY1000_org'].dropna()\n",
    "\n",
    "# Fit the Holt-Winters Exponential Smoothing model\n",
    "model = ExponentialSmoothing(series, seasonal='multiplicative', trend='additive', seasonal_periods=12)\n",
    "fitted_model = model.fit()\n",
    "\n",
    "# Forecast future values\n",
    "n_periods = test_13['RohiENERGY1000_org'].isnull().sum()\n",
    "forecast = fitted_model.forecast(steps=n_periods)\n",
    "\n",
    "# Get the indices of the missing values\n",
    "missing_indexes = test_13[test_13['RohiENERGY1000_org'].isnull()].index\n",
    "\n",
    "# Replace NaN values in the 'RohiENERGY1000_org' column with the forecasted values\n",
    "test_13.loc[missing_indexes, 'RohiENERGY1000_org'] = forecast\n"
   ]
  },
  {
   "cell_type": "markdown",
   "metadata": {},
   "source": [
    "### Product 36"
   ]
  },
  {
   "cell_type": "code",
   "execution_count": 115,
   "metadata": {},
   "outputs": [],
   "source": [
    "test_36 = pd.DataFrame(index=test[test['Mapped_GCK'] == '36']['Month Year'], columns=remerged_data[36].columns)"
   ]
  },
  {
   "cell_type": "code",
   "execution_count": 116,
   "metadata": {},
   "outputs": [
    {
     "data": {
      "text/html": [
       "<div>\n",
       "<style scoped>\n",
       "    .dataframe tbody tr th:only-of-type {\n",
       "        vertical-align: middle;\n",
       "    }\n",
       "\n",
       "    .dataframe tbody tr th {\n",
       "        vertical-align: top;\n",
       "    }\n",
       "\n",
       "    .dataframe thead th {\n",
       "        text-align: right;\n",
       "    }\n",
       "</style>\n",
       "<table border=\"1\" class=\"dataframe\">\n",
       "  <thead>\n",
       "    <tr style=\"text-align: right;\">\n",
       "      <th></th>\n",
       "      <th>MAB_ELE_PRO840</th>\n",
       "      <th>RohiNATGAS1000_org</th>\n",
       "      <th>PRO27826_org</th>\n",
       "      <th>RohiBASEMET1000_org</th>\n",
       "      <th>MAB_ELE_PRO756</th>\n",
       "      <th>Sales_CPI_€</th>\n",
       "    </tr>\n",
       "    <tr>\n",
       "      <th>Month Year</th>\n",
       "      <th></th>\n",
       "      <th></th>\n",
       "      <th></th>\n",
       "      <th></th>\n",
       "      <th></th>\n",
       "      <th></th>\n",
       "    </tr>\n",
       "  </thead>\n",
       "  <tbody>\n",
       "    <tr>\n",
       "      <th>2022-05-01</th>\n",
       "      <td>NaN</td>\n",
       "      <td>NaN</td>\n",
       "      <td>NaN</td>\n",
       "      <td>NaN</td>\n",
       "      <td>NaN</td>\n",
       "      <td>NaN</td>\n",
       "    </tr>\n",
       "    <tr>\n",
       "      <th>2022-06-01</th>\n",
       "      <td>NaN</td>\n",
       "      <td>NaN</td>\n",
       "      <td>NaN</td>\n",
       "      <td>NaN</td>\n",
       "      <td>NaN</td>\n",
       "      <td>NaN</td>\n",
       "    </tr>\n",
       "    <tr>\n",
       "      <th>2022-07-01</th>\n",
       "      <td>NaN</td>\n",
       "      <td>NaN</td>\n",
       "      <td>NaN</td>\n",
       "      <td>NaN</td>\n",
       "      <td>NaN</td>\n",
       "      <td>NaN</td>\n",
       "    </tr>\n",
       "    <tr>\n",
       "      <th>2022-08-01</th>\n",
       "      <td>NaN</td>\n",
       "      <td>NaN</td>\n",
       "      <td>NaN</td>\n",
       "      <td>NaN</td>\n",
       "      <td>NaN</td>\n",
       "      <td>NaN</td>\n",
       "    </tr>\n",
       "    <tr>\n",
       "      <th>2022-09-01</th>\n",
       "      <td>NaN</td>\n",
       "      <td>NaN</td>\n",
       "      <td>NaN</td>\n",
       "      <td>NaN</td>\n",
       "      <td>NaN</td>\n",
       "      <td>NaN</td>\n",
       "    </tr>\n",
       "    <tr>\n",
       "      <th>2022-10-01</th>\n",
       "      <td>NaN</td>\n",
       "      <td>NaN</td>\n",
       "      <td>NaN</td>\n",
       "      <td>NaN</td>\n",
       "      <td>NaN</td>\n",
       "      <td>NaN</td>\n",
       "    </tr>\n",
       "    <tr>\n",
       "      <th>2022-11-01</th>\n",
       "      <td>NaN</td>\n",
       "      <td>NaN</td>\n",
       "      <td>NaN</td>\n",
       "      <td>NaN</td>\n",
       "      <td>NaN</td>\n",
       "      <td>NaN</td>\n",
       "    </tr>\n",
       "    <tr>\n",
       "      <th>2022-12-01</th>\n",
       "      <td>NaN</td>\n",
       "      <td>NaN</td>\n",
       "      <td>NaN</td>\n",
       "      <td>NaN</td>\n",
       "      <td>NaN</td>\n",
       "      <td>NaN</td>\n",
       "    </tr>\n",
       "    <tr>\n",
       "      <th>2023-01-01</th>\n",
       "      <td>NaN</td>\n",
       "      <td>NaN</td>\n",
       "      <td>NaN</td>\n",
       "      <td>NaN</td>\n",
       "      <td>NaN</td>\n",
       "      <td>NaN</td>\n",
       "    </tr>\n",
       "    <tr>\n",
       "      <th>2023-02-01</th>\n",
       "      <td>NaN</td>\n",
       "      <td>NaN</td>\n",
       "      <td>NaN</td>\n",
       "      <td>NaN</td>\n",
       "      <td>NaN</td>\n",
       "      <td>NaN</td>\n",
       "    </tr>\n",
       "  </tbody>\n",
       "</table>\n",
       "</div>"
      ],
      "text/plain": [
       "           MAB_ELE_PRO840 RohiNATGAS1000_org PRO27826_org RohiBASEMET1000_org  \\\n",
       "Month Year                                                                      \n",
       "2022-05-01            NaN                NaN          NaN                 NaN   \n",
       "2022-06-01            NaN                NaN          NaN                 NaN   \n",
       "2022-07-01            NaN                NaN          NaN                 NaN   \n",
       "2022-08-01            NaN                NaN          NaN                 NaN   \n",
       "2022-09-01            NaN                NaN          NaN                 NaN   \n",
       "2022-10-01            NaN                NaN          NaN                 NaN   \n",
       "2022-11-01            NaN                NaN          NaN                 NaN   \n",
       "2022-12-01            NaN                NaN          NaN                 NaN   \n",
       "2023-01-01            NaN                NaN          NaN                 NaN   \n",
       "2023-02-01            NaN                NaN          NaN                 NaN   \n",
       "\n",
       "           MAB_ELE_PRO756 Sales_CPI_€  \n",
       "Month Year                             \n",
       "2022-05-01            NaN         NaN  \n",
       "2022-06-01            NaN         NaN  \n",
       "2022-07-01            NaN         NaN  \n",
       "2022-08-01            NaN         NaN  \n",
       "2022-09-01            NaN         NaN  \n",
       "2022-10-01            NaN         NaN  \n",
       "2022-11-01            NaN         NaN  \n",
       "2022-12-01            NaN         NaN  \n",
       "2023-01-01            NaN         NaN  \n",
       "2023-02-01            NaN         NaN  "
      ]
     },
     "execution_count": 116,
     "metadata": {},
     "output_type": "execute_result"
    }
   ],
   "source": [
    "test_36"
   ]
  },
  {
   "cell_type": "markdown",
   "metadata": {},
   "source": [
    "#### MAB_ELE_PRO840\n",
    "\n",
    "Has a p-value > 0.05, so it follows a normal distribution"
   ]
  },
  {
   "cell_type": "code",
   "execution_count": 117,
   "metadata": {},
   "outputs": [],
   "source": [
    "#  Calculate mean and standard deviation of the non-missing values\n",
    "mean_value = remerged_data[36]['MAB_ELE_PRO840'].mean()\n",
    "std_value = remerged_data[36]['MAB_ELE_PRO840'].std()\n",
    "\n",
    "#  Get the number of missing values\n",
    "num_missing = test_36['MAB_ELE_PRO840'].isnull().sum()\n",
    "\n",
    "# Generate a sequence of random values from a normal distribution\n",
    "predictions = norm.rvs(loc=mean_value, scale=std_value, size=num_missing)\n",
    "\n",
    "# Get the indices of the missing values\n",
    "missing_indexes = test_36[test_36['MAB_ELE_PRO840'].isnull()].index\n",
    "\n",
    "# Create a pd.Series with the predictions for the missing indexes\n",
    "predictions_series = pd.Series(predictions, index=missing_indexes)\n",
    "\n",
    "# Fill the missing values in the 'MAB_ELE_PRO840' column with the predictions\n",
    "test_36['MAB_ELE_PRO840'].fillna(predictions_series, inplace=True)"
   ]
  },
  {
   "cell_type": "markdown",
   "metadata": {},
   "source": [
    "#### MAB_ELE_PRO756\n",
    "\n",
    "Has a p-value > 0.05, so it follows a normal distribution\n"
   ]
  },
  {
   "cell_type": "code",
   "execution_count": 118,
   "metadata": {},
   "outputs": [],
   "source": [
    "#  Calculate mean and standard deviation of the non-missing values\n",
    "mean_value = remerged_data[36]['MAB_ELE_PRO756'].mean()\n",
    "std_value = remerged_data[36]['MAB_ELE_PRO756'].std()\n",
    "\n",
    "#  Get the number of missing values\n",
    "num_missing = test_36['MAB_ELE_PRO756'].isnull().sum()\n",
    "\n",
    "# Generate a sequence of random values from a normal distribution\n",
    "predictions = norm.rvs(loc=mean_value, scale=std_value, size=num_missing)\n",
    "\n",
    "# Get the indices of the missing values\n",
    "missing_indexes = test_36[test_36['MAB_ELE_PRO756'].isnull()].index\n",
    "\n",
    "# Create a pd.Series with the predictions for the missing indexes\n",
    "predictions_series = pd.Series(predictions, index=missing_indexes)\n",
    "\n",
    "# Fill the missing values in the 'MAB_ELE_PRO840' column with the predictions\n",
    "test_36['MAB_ELE_PRO756'].fillna(predictions_series, inplace=True)"
   ]
  },
  {
   "cell_type": "markdown",
   "metadata": {},
   "source": [
    "#### RohiNATGAS1000_org\n",
    "\n",
    "Has a p-value < 0.05, so it does not follow a normal distribution and is non stacionary so we are gonna apply Holt Winters to predict the values"
   ]
  },
  {
   "cell_type": "code",
   "execution_count": 119,
   "metadata": {},
   "outputs": [
    {
     "name": "stderr",
     "output_type": "stream",
     "text": [
      "/Users/ritamatias/anaconda3/envs/DM2324/lib/python3.11/site-packages/statsmodels/tsa/base/tsa_model.py:473: ValueWarning: No frequency information was provided, so inferred frequency MS will be used.\n",
      "  self._init_dates(dates, freq)\n"
     ]
    }
   ],
   "source": [
    "from statsmodels.tsa.holtwinters import ExponentialSmoothing\n",
    "\n",
    "# Extract non-missing values\n",
    "series = remerged_data[36]['RohiNATGAS1000_org'].dropna()\n",
    "\n",
    "# Fit the Holt-Winters Exponential Smoothing model\n",
    "model = ExponentialSmoothing(series, seasonal='multiplicative', trend='additive', seasonal_periods=12)\n",
    "fitted_model = model.fit()\n",
    "\n",
    "# Forecast future values\n",
    "n_periods = test_36['RohiNATGAS1000_org'].isnull().sum()\n",
    "forecast = fitted_model.forecast(steps=n_periods)\n",
    "\n",
    "# Get the indices of the missing values\n",
    "missing_indexes = test_36[test_36['RohiNATGAS1000_org'].isnull()].index\n",
    "\n",
    "# Replace NaN values in the 'RohiNATGAS1000_org' column with the forecasted values\n",
    "test_36.loc[missing_indexes, 'RohiNATGAS1000_org'] = forecast\n"
   ]
  },
  {
   "cell_type": "markdown",
   "metadata": {},
   "source": [
    "#### RohiBASEMET1000_org\n",
    "\n",
    "Has a p-value < 0.05, so it does not follow a normal distribution and is non stacionary so we are gonna apply Holt Winters to predict the values"
   ]
  },
  {
   "cell_type": "code",
   "execution_count": 120,
   "metadata": {},
   "outputs": [
    {
     "name": "stderr",
     "output_type": "stream",
     "text": [
      "/Users/ritamatias/anaconda3/envs/DM2324/lib/python3.11/site-packages/statsmodels/tsa/base/tsa_model.py:473: ValueWarning: No frequency information was provided, so inferred frequency MS will be used.\n",
      "  self._init_dates(dates, freq)\n"
     ]
    }
   ],
   "source": [
    "from statsmodels.tsa.holtwinters import ExponentialSmoothing\n",
    "\n",
    "# Extract non-missing values\n",
    "series = remerged_data[36]['RohiBASEMET1000_org'].dropna()\n",
    "\n",
    "# Fit the Holt-Winters Exponential Smoothing model\n",
    "model = ExponentialSmoothing(series, seasonal='multiplicative', trend='additive', seasonal_periods=12)\n",
    "fitted_model = model.fit()\n",
    "\n",
    "# Forecast future values\n",
    "n_periods = test_36['RohiBASEMET1000_org'].isnull().sum()\n",
    "forecast = fitted_model.forecast(steps=n_periods)\n",
    "\n",
    "# Get the indices of the missing values\n",
    "missing_indexes = test_36[test_36['RohiBASEMET1000_org'].isnull()].index\n",
    "\n",
    "# Replace NaN values in the 'RohiNATGAS1000_org' column with the forecasted values\n",
    "test_36.loc[missing_indexes, 'RohiBASEMET1000_org'] = forecast\n"
   ]
  },
  {
   "cell_type": "markdown",
   "metadata": {},
   "source": [
    "#### PRO27826_org\n",
    "\n",
    "Has a p-value < 0.05, so it does not follow a normal distribution and is stacionary so we are gonna apply Simple Exponencial Smoothing to predict the values\n"
   ]
  },
  {
   "cell_type": "code",
   "execution_count": 121,
   "metadata": {},
   "outputs": [
    {
     "name": "stderr",
     "output_type": "stream",
     "text": [
      "/Users/ritamatias/anaconda3/envs/DM2324/lib/python3.11/site-packages/statsmodels/tsa/base/tsa_model.py:473: ValueWarning: No frequency information was provided, so inferred frequency MS will be used.\n",
      "  self._init_dates(dates, freq)\n"
     ]
    }
   ],
   "source": [
    "from statsmodels.tsa.holtwinters import SimpleExpSmoothing\n",
    "\n",
    "# Extract non-missing values\n",
    "series = remerged_data[36]['PRO27826_org'].dropna()\n",
    "\n",
    "# Fit the simple exponential smoothing model\n",
    "model = SimpleExpSmoothing(series)\n",
    "fitted_model = model.fit()\n",
    "\n",
    "# Forecast future values\n",
    "n_periods = test_36['PRO27826_org'].isnull().sum()\n",
    "forecast = fitted_model.forecast(steps=n_periods)\n",
    "\n",
    "# Get the indices of the missing values\n",
    "missing_indexes = test_36[test_36['PRO27826_org'].isnull()].index\n",
    "\n",
    "# Replace NaN values in the 'PRO27826_org' column with the forecasted values\n",
    "test_36.loc[missing_indexes, 'PRO27826_org'] = forecast\n"
   ]
  },
  {
   "cell_type": "code",
   "execution_count": 122,
   "metadata": {},
   "outputs": [
    {
     "name": "stdout",
     "output_type": "stream",
     "text": [
      "CSV files have been created in the directory: products_test\n"
     ]
    }
   ],
   "source": [
    "\n",
    "# Define output directory for test DataFrames\n",
    "test_output_dir = 'products_test'\n",
    "\n",
    "# Create the directory if it doesn't exist\n",
    "os.makedirs(test_output_dir, exist_ok=True)\n",
    "\n",
    "# Assuming you have your test DataFrames created and named as follows:\n",
    "test_dataframes = {\n",
    "    'test_1': test_1,   # Replace pd.DataFrame() with your actual DataFrame\n",
    "    'test_3': test_3,\n",
    "    'test_4': test_4,\n",
    "    'test_5': remerged_data[5],\n",
    "    'test_6': test_6,\n",
    "    'test_8': test_8,\n",
    "    'test_9': test_9,\n",
    "    'test_11': test_11,\n",
    "    'test_12': test_12,\n",
    "    'test_13': test_13,\n",
    "    'test_14': remerged_data[14],\n",
    "    'test_16': remerged_data[16],\n",
    "    'test_20': remerged_data[20],\n",
    "    'test_36': test_36\n",
    "}\n",
    "\n",
    "# Iterate over the dictionary and save each DataFrame to a CSV file in the specified directory\n",
    "for test_name, df in test_dataframes.items():\n",
    "    file_path = os.path.join(test_output_dir, f'{test_name}.csv')\n",
    "    df.to_csv(file_path, index=False)  # Set index=False if you don't want to save DataFrame index in the CSV\n",
    "\n",
    "print(\"CSV files have been created in the directory:\", test_output_dir)\n",
    "\n",
    "\n",
    "\n"
   ]
  },
  {
   "cell_type": "code",
   "execution_count": null,
   "metadata": {},
   "outputs": [],
   "source": []
  }
 ],
 "metadata": {
  "kernelspec": {
   "display_name": "DM2324",
   "language": "python",
   "name": "python3"
  },
  "language_info": {
   "codemirror_mode": {
    "name": "ipython",
    "version": 3
   },
   "file_extension": ".py",
   "mimetype": "text/x-python",
   "name": "python",
   "nbconvert_exporter": "python",
   "pygments_lexer": "ipython3",
   "version": "3.11.5"
  }
 },
 "nbformat": 4,
 "nbformat_minor": 2
}
